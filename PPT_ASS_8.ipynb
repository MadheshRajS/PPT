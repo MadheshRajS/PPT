{
  "nbformat": 4,
  "nbformat_minor": 0,
  "metadata": {
    "colab": {
      "provenance": []
    },
    "kernelspec": {
      "name": "python3",
      "display_name": "Python 3"
    },
    "language_info": {
      "name": "python"
    }
  },
  "cells": [
    {
      "cell_type": "code",
      "execution_count": null,
      "metadata": {
        "colab": {
          "base_uri": "https://localhost:8080/"
        },
        "id": "VfbrEY86M_KC",
        "outputId": "f724557e-1460-4ef6-9799-9ae19241c179"
      },
      "outputs": [
        {
          "output_type": "stream",
          "name": "stdout",
          "text": [
            "231\n"
          ]
        }
      ],
      "source": [
        "'''\n",
        "<aside>\n",
        "💡 **Question 1**\n",
        "Given two strings s1 and s2, return *the lowest **ASCII** sum of deleted characters to make two strings equal*.\n",
        "**Example 1:**\n",
        "**Input:** s1 = \"sea\", s2 = \"eat\"\n",
        "**Output:** 231\n",
        "**Explanation:** Deleting \"s\" from \"sea\" adds the ASCII value of \"s\" (115) to the sum.\n",
        "Deleting \"t\" from \"eat\" adds 116 to the sum\n",
        "At the end, both strings are equal, and 115 + 116 = 231 is the minimum sum possible to achieve this.\n",
        "</aside>\n",
        "'''\n",
        "def minimumDeleteSum(s1, s2):\n",
        "    m, n = len(s1), len(s2)\n",
        "    # Create a table to store the minimum ASCII sum of deleted characters\n",
        "    dp = [[0] * (n+1) for _ in range(m+1)]\n",
        "    # Fill the table using dynamic programming\n",
        "    for i in range(m-1, -1, -1):\n",
        "        dp[i][n] = dp[i+1][n] + ord(s1[i])\n",
        "    for j in range(n-1, -1, -1):\n",
        "        dp[m][j] = dp[m][j+1] + ord(s2[j])\n",
        "    for i in range(m-1, -1, -1):\n",
        "        for j in range(n-1, -1, -1):\n",
        "            if s1[i] == s2[j]:\n",
        "                dp[i][j] = dp[i+1][j+1]\n",
        "            else:\n",
        "                dp[i][j] = min(dp[i+1][j] + ord(s1[i]), dp[i][j+1] + ord(s2[j]))\n",
        "    return dp[0][0]\n",
        "s1 = \"sea\"\n",
        "s2 = \"eat\"\n",
        "print(minimumDeleteSum(s1, s2)) "
      ]
    },
    {
      "cell_type": "code",
      "source": [
        "'''\n",
        "<aside>\n",
        "💡 **Question 2**\n",
        "Given a string s containing only three types of characters: '(', ')' and '*', return true *if* s *is **valid***.\n",
        "The following rules define a **valid** string:\n",
        "- Any left parenthesis '(' must have a corresponding right parenthesis ')'\n",
        "- Any right parenthesis ')' must have a corresponding left parenthesis '('.\n",
        "- Left parenthesis '(' must go before the corresponding right parenthesis ')'.\n",
        "- '*' could be treated as a single right parenthesis ')' or a single left parenthesis '(' or an empty string \"\".\n",
        "**Example 1:**\n",
        "**Input:** s = \"()\"\n",
        "**Output:**\n",
        "true\n",
        "</aside>\n",
        "'''\n",
        "def checkValidString(s):\n",
        "    stack = []\n",
        "    asterisks = []\n",
        "    for i, char in enumerate(s):\n",
        "        if char == '(':\n",
        "            stack.append(i)\n",
        "        elif char == '*':\n",
        "            asterisks.append(i)\n",
        "        else:\n",
        "            if stack:\n",
        "                stack.pop()\n",
        "            elif asterisks:\n",
        "                asterisks.pop()\n",
        "            else:\n",
        "                return False\n",
        "    while stack and asterisks:\n",
        "        if stack[-1] > asterisks[-1]:\n",
        "            return False\n",
        "        stack.pop()\n",
        "        asterisks.pop()\n",
        "    return len(stack) == 0\n",
        "s = \"()\"\n",
        "print(checkValidString(s))"
      ],
      "metadata": {
        "id": "OefQjbTINZbx",
        "colab": {
          "base_uri": "https://localhost:8080/"
        },
        "outputId": "17efd92f-a1ec-4b9e-d823-18219ce69916"
      },
      "execution_count": 1,
      "outputs": [
        {
          "output_type": "stream",
          "name": "stdout",
          "text": [
            "True\n"
          ]
        }
      ]
    },
    {
      "cell_type": "code",
      "source": [
        "'''\n",
        "<aside>\n",
        "💡 **Question 3**\n",
        "Given two strings word1 and word2, return *the minimum number of **stes** required to make* word1 *and* word2 *the same*.\n",
        "In one **step**, you can delete exactly one character in either string.\n",
        "**Example 1:**\n",
        "**Input:** word1 = \"sea\", word2 = \"eat\"\n",
        "**Output:** 2\n",
        "**Explanation:** You need one step to make \"sea\" to \"ea\" and another step to make \"eat\" to \"ea\".\n",
        "'''\n",
        "def minDistance(word1, word2):\n",
        "    m, n = len(word1), len(word2)\n",
        "    \n",
        "    # Create a table to store the minimum number of steps\n",
        "    dp = [[0] * (n+1) for _ in range(m+1)]\n",
        "    # Fill the table using dynamic programming\n",
        "    for i in range(1, m+1):\n",
        "        dp[i][0] = i\n",
        "    for j in range(1, n+1):\n",
        "        dp[0][j] = j\n",
        "    for i in range(1, m+1):\n",
        "        for j in range(1, n+1):\n",
        "            if word1[i-1] == word2[j-1]:\n",
        "                dp[i][j] = dp[i-1][j-1]\n",
        "            else:\n",
        "                dp[i][j] = min(dp[i-1][j], dp[i][j-1]) + 1\n",
        "    return dp[m][n]\n",
        "word1 = \"sea\"\n",
        "word2 = \"eat\"\n",
        "print(minDistance(word1, word2))"
      ],
      "metadata": {
        "colab": {
          "base_uri": "https://localhost:8080/"
        },
        "id": "rpSwilajSL_r",
        "outputId": "ec785b06-a080-4c2c-99ce-ad1187add5bf"
      },
      "execution_count": 2,
      "outputs": [
        {
          "output_type": "stream",
          "name": "stdout",
          "text": [
            "2\n"
          ]
        }
      ]
    },
    {
      "cell_type": "code",
      "source": [
        "'''\n",
        "<aside>\n",
        "💡 **Question 4**\n",
        "You need to construct a binary tree from a string consisting of parenthesis and integers.\n",
        "The whole input represents a binary tree. It contains an integer followed by zero, one or two pairs of parenthesis. The integer represents the root's value and a pair of parenthesis contains a child binary tree with the same structure.\n",
        "You always start to construct the **left** child node of the parent first if it exists.\n",
        "**Input:** s = \"4(2(3)(1))(6(5))\"\n",
        "**Output:** [4,2,6,3,1,5]\n",
        "</aside>\n",
        "'''\n",
        "class TreeNode:\n",
        "    def __init__(self, val=0, left=None, right=None):\n",
        "        self.val = val\n",
        "        self.left = left\n",
        "        self.right = right\n",
        "def str2tree(s):\n",
        "    if not s:\n",
        "        return None\n",
        "    # Find the first occurrence of \"(\"\n",
        "    idx = s.find(\"(\")\n",
        "    if idx == -1:\n",
        "        # No \"(\" found, so the string is a single integer\n",
        "        return TreeNode(int(s))\n",
        "    # Construct the root node with the integer value before \"(\"\n",
        "    root_val = int(s[:idx])\n",
        "    root = TreeNode(root_val)\n",
        "    # Find the substring inside the first pair of parentheses\n",
        "    start = idx\n",
        "    count = 0\n",
        "    for i in range(start, len(s)):\n",
        "        if s[i] == \"(\":\n",
        "            count += 1\n",
        "        elif s[i] == \")\":\n",
        "            count -= 1\n",
        "        if count == 0:\n",
        "            if start == idx:\n",
        "                # Recursively construct the left child node\n",
        "                root.left = str2tree(s[start + 1: i])\n",
        "                start = i + 1\n",
        "            else:\n",
        "                # Recursively construct the right child node\n",
        "                root.right = str2tree(s[start + 1: i])\n",
        "    return root\n",
        "# Test the function\n",
        "s = \"4(2(3)(1))(6(5))\"\n",
        "root = str2tree(s)\n",
        "# Traverse the constructed binary tree (inorder traversal)\n",
        "def inorder(root):\n",
        "    if root is None:\n",
        "        return []\n",
        "    return inorder(root.left) + [root.val] + inorder(root.right)\n",
        "\n",
        "result = inorder(root)\n",
        "print(result)  # Output: [4, 2, 3, 1, 6, 5]"
      ],
      "metadata": {
        "colab": {
          "base_uri": "https://localhost:8080/"
        },
        "id": "UCH0QBr9SdKD",
        "outputId": "75cace55-2ea3-485e-e73f-66e4828cc5d6"
      },
      "execution_count": 3,
      "outputs": [
        {
          "output_type": "stream",
          "name": "stdout",
          "text": [
            "[3, 2, 1, 4, 5, 6]\n"
          ]
        }
      ]
    },
    {
      "cell_type": "code",
      "source": [
        "'''\n",
        "<aside>\n",
        "💡 **Question 5**\n",
        "Given an array of characters chars, compress it using the following algorithm:\n",
        "Begin with an empty string s. For each group of **consecutive repeating characters** in chars:\n",
        "- If the group's length is 1, append the character to s.\n",
        "- Otherwise, append the character followed by the group's length.\n",
        "The compressed string s **should not be returned separately**, but instead, be stored **in the input character array chars**. Note that group lengths that are 10 or longer will be split into multiple characters in chars.\n",
        "After you are done **modifying the input array,** return *the new length of the array*.\n",
        "You must write an algorithm that uses only constant extra space.\n",
        "**Example 1:**\n",
        "**Input:** chars = [\"a\",\"a\",\"b\",\"b\",\"c\",\"c\",\"c\"]\n",
        "**Output:** Return 6, and the first 6 characters of the input array should be: [\"a\",\"2\",\"b\",\"2\",\"c\",\"3\"]\n",
        "**Explanation:**\n",
        "The groups are \"aa\", \"bb\", and \"ccc\". This compresses to \"a2b2c3\".\n",
        "</aside>\n",
        "'''\n",
        "def compress(chars):\n",
        "    read = 0  # Pointer to read characters\n",
        "    write = 0  # Pointer to write compressed characters\n",
        "    while read < len(chars):\n",
        "        char = chars[read]\n",
        "        count = 1\n",
        "\n",
        "        # Count the number of consecutive occurrences of the current character\n",
        "        while read + 1 < len(chars) and chars[read + 1] == char:\n",
        "            read += 1\n",
        "            count += 1\n",
        "        # Write the compressed character to the output array\n",
        "        chars[write] = char\n",
        "        write += 1\n",
        "        if count > 1:\n",
        "            # Convert the count to a string and write it to the output array\n",
        "            count_str = str(count)\n",
        "            for digit in count_str:\n",
        "                chars[write] = digit\n",
        "                write += 1\n",
        "        read += 1\n",
        "    return write\n",
        "chars = [\"a\", \"a\", \"b\", \"b\", \"c\", \"c\", \"c\"]\n",
        "new_length = compress(chars)\n",
        "compressed_chars = chars[:new_length]\n",
        "print(new_length)  \n",
        "print(compressed_chars)"
      ],
      "metadata": {
        "colab": {
          "base_uri": "https://localhost:8080/"
        },
        "id": "BXad3ndaSw7Z",
        "outputId": "f45a72a9-6afa-446a-af39-a59be2609a71"
      },
      "execution_count": 4,
      "outputs": [
        {
          "output_type": "stream",
          "name": "stdout",
          "text": [
            "6\n",
            "['a', '2', 'b', '2', 'c', '3']\n"
          ]
        }
      ]
    },
    {
      "cell_type": "code",
      "source": [
        "'''\n",
        "<aside>\n",
        "💡 **Question 6**\n",
        "Given two strings s and p, return *an array of all the start indices of* p*'s anagrams in* s. You may return the answer in **any order**.\n",
        "An **Anagram** is a word or phrase formed by rearranging the letters of a different word or phrase, typically using all the original letters exactly once.\n",
        "**Example 1:**\n",
        "**Input:** s = \"cbaebabacd\", p = \"abc\"\n",
        "**Output:** [0,6]\n",
        "**Explanation:**\n",
        "The substring with start index = 0 is \"cba\", which is an anagram of \"abc\".\n",
        "The substring with start index = 6 is \"bac\", which is an anagram of \"abc\".\n",
        "</aside>\n",
        "'''\n",
        "from collections import Counter\n",
        "def findAnagrams(s, p):\n",
        "    result = []\n",
        "    p_freq = Counter(p)\n",
        "    s_freq = Counter(s[:len(p)])\n",
        "    if s_freq == p_freq:\n",
        "        result.append(0)\n",
        "    for i in range(len(p), len(s)):\n",
        "        if s_freq[s[i - len(p)]] == 1:\n",
        "            del s_freq[s[i - len(p)]]\n",
        "        else:\n",
        "            s_freq[s[i - len(p)]] -= 1\n",
        "        s_freq[s[i]] += 1\n",
        "        if s_freq == p_freq:\n",
        "            result.append(i - len(p) + 1)\n",
        "    return result\n",
        "# Test the function\n",
        "s = \"cbaebabacd\"\n",
        "p = \"abc\"\n",
        "indices = findAnagrams(s, p)\n",
        "print(indices)  # Output: [0, 6]"
      ],
      "metadata": {
        "colab": {
          "base_uri": "https://localhost:8080/"
        },
        "id": "SALisv2-TBgf",
        "outputId": "b50a5f0f-2906-4c30-b2c3-59e7872260bb"
      },
      "execution_count": 5,
      "outputs": [
        {
          "output_type": "stream",
          "name": "stdout",
          "text": [
            "[0, 6]\n"
          ]
        }
      ]
    },
    {
      "cell_type": "code",
      "source": [
        "'''\n",
        "<aside>\n",
        "💡 **Question 7**\n",
        "Given an encoded string, return its decoded string.\n",
        "The encoding rule is: k[encoded_string], where the encoded_string inside the square brackets is being repeated exactly k times. Note that k is guaranteed to be a positive integer.\n",
        "You may assume that the input string is always valid; there are no extra white spaces, square brackets are well-formed, etc. Furthermore, you may assume that the original data does not contain any digits and that digits are only for those repeat numbers, k. For example, there will not be input like 3a or 2[4].\n",
        "The test cases are generated so that the length of the output will never exceed 105.\n",
        "**Example 1:**\n",
        "**Input:** s = \"3[a]2[bc]\"\n",
        "**Output:** \"aaabcbc\"\n",
        "</aside>\n",
        "'''\n",
        "def decodeString(s):\n",
        "    stack = []\n",
        "    curr_str = \"\"\n",
        "    curr_num = 0\n",
        "    for char in s:\n",
        "        if char.isdigit():\n",
        "            curr_num = curr_num * 10 + int(char)\n",
        "        elif char == '[':\n",
        "            stack.append(curr_str)\n",
        "            stack.append(curr_num)\n",
        "            curr_str = \"\"\n",
        "            curr_num = 0\n",
        "        elif char == ']':\n",
        "            num = stack.pop()\n",
        "            prev_str = stack.pop()\n",
        "            curr_str = prev_str + num * curr_str\n",
        "        else:\n",
        "            curr_str += char\n",
        "    return curr_str\n",
        "s = \"3[a]2[bc]\"\n",
        "decoded_string = decodeString(s)\n",
        "print(decoded_string)"
      ],
      "metadata": {
        "colab": {
          "base_uri": "https://localhost:8080/"
        },
        "id": "oziDqHrFTRyI",
        "outputId": "7e35cda5-0c26-4677-f8bd-1bdfc304506c"
      },
      "execution_count": 6,
      "outputs": [
        {
          "output_type": "stream",
          "name": "stdout",
          "text": [
            "aaabcbc\n"
          ]
        }
      ]
    },
    {
      "cell_type": "code",
      "source": [
        "'''\n",
        "<aside>\n",
        "💡 **Question 8**\n",
        "Given two strings s and goal, return true *if you can swap two letters in* s *so the result is equal to* goal*, otherwise, return* false*.*\n",
        "Swapping letters is defined as taking two indices i and j (0-indexed) such that i != j and swapping the characters at s[i] and s[j].\n",
        "- For example, swapping at indices 0 and 2 in \"abcd\" results in \"cbad\".\n",
        "**Example 1:**\n",
        "**Input:** s = \"ab\", goal = \"ba\"\n",
        "**Output:** true\n",
        "**Explanation:** You can swap s[0] = 'a' and s[1] = 'b' to get \"ba\", which is equal to goal.\n",
        "</aside>\n",
        "'''\n",
        "def buddyStrings(s, goal):\n",
        "    if len(s) != len(goal):\n",
        "        return False\n",
        "    if s == goal:\n",
        "        # Check if there are at least two occurrences of the same character\n",
        "        seen = set()\n",
        "        for char in s:\n",
        "            if char in seen:\n",
        "                return True\n",
        "            seen.add(char)\n",
        "        return False\n",
        "    # Find the indices where the characters differ\n",
        "    indices = []\n",
        "    for i in range(len(s)):\n",
        "        if s[i] != goal[i]:\n",
        "            indices.append(i)\n",
        "    # Check if exactly two indices are found and swapping them makes s equal to goal\n",
        "    if len(indices) != 2:\n",
        "        return False\n",
        "    i, j = indices\n",
        "    return s[i] == goal[j] and s[j] == goal[i]\n",
        "s = \"ab\"\n",
        "goal = \"ba\"\n",
        "print(buddyStrings(s, goal))"
      ],
      "metadata": {
        "colab": {
          "base_uri": "https://localhost:8080/"
        },
        "id": "z3kYwPHFTgg6",
        "outputId": "1d236601-222b-45d3-a359-55c7b4e00c3f"
      },
      "execution_count": 7,
      "outputs": [
        {
          "output_type": "stream",
          "name": "stdout",
          "text": [
            "True\n"
          ]
        }
      ]
    }
  ]
}