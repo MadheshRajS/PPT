{
  "nbformat": 4,
  "nbformat_minor": 0,
  "metadata": {
    "colab": {
      "provenance": []
    },
    "kernelspec": {
      "name": "python3",
      "display_name": "Python 3"
    },
    "language_info": {
      "name": "python"
    }
  },
  "cells": [
    {
      "cell_type": "code",
      "source": [
        "#1\n",
        "import heapq\n",
        "class ListNode:\n",
        "    def __init__(self, val=0, next=None):\n",
        "        self.val = val\n",
        "        self.next = next\n",
        "def mergeKLists(lists):\n",
        "    heap = []\n",
        "    for head in lists:\n",
        "        while head:\n",
        "            heapq.heappush(heap, head.val)\n",
        "            head = head.next\n",
        "    dummy = ListNode()\n",
        "    current = dummy\n",
        "    while heap:\n",
        "        val = heapq.heappop(heap)\n",
        "        current.next = ListNode(val)\n",
        "        current = current.next\n",
        "    return dummy.next\n",
        "# Helper function to create a linked list from a list\n",
        "def createLinkedList(nums):\n",
        "    dummy = ListNode()\n",
        "    current = dummy\n",
        "    for num in nums:\n",
        "        current.next = ListNode(num)\n",
        "        current = current.next\n",
        "    return dummy.next\n",
        "# Test the function with the given example\n",
        "lists = [\n",
        "    createLinkedList([1, 4, 5]),\n",
        "    createLinkedList([1, 3, 4]),\n",
        "    createLinkedList([2, 6])\n",
        "]\n",
        "merged_list = mergeKLists(lists)\n",
        "# Print the merged linked list\n",
        "while merged_list:\n",
        "    print(merged_list.val, end=' ')\n",
        "    merged_list = merged_list.next\n",
        "# Output: 1 1 2 3 4 4 5 6"
      ],
      "metadata": {
        "colab": {
          "base_uri": "https://localhost:8080/"
        },
        "id": "zwMWZYvN67TM",
        "outputId": "3f67d963-39d3-47de-8bb4-4521114f50b0"
      },
      "execution_count": 36,
      "outputs": [
        {
          "output_type": "stream",
          "name": "stdout",
          "text": [
            "1 1 2 3 4 4 5 6 "
          ]
        }
      ]
    },
    {
      "cell_type": "code",
      "source": [
        "#2\n",
        "def countSmaller(nums):\n",
        "    def mergeSort(arr):\n",
        "        if len(arr) <= 1:\n",
        "            return arr\n",
        "        mid = len(arr) // 2\n",
        "        left = mergeSort(arr[:mid])\n",
        "        right = mergeSort(arr[mid:])\n",
        "        return merge(left, right)\n",
        "    def merge(left, right):\n",
        "        merged = []\n",
        "        left_idx, right_idx = 0, 0\n",
        "        count = 0\n",
        "        while left_idx < len(left) and right_idx < len(right):\n",
        "            if left[left_idx][1] <= right[right_idx][1]:\n",
        "                merged.append(left[left_idx])\n",
        "                counts[left[left_idx][0]] += count\n",
        "                left_idx += 1\n",
        "            else:\n",
        "                merged.append(right[right_idx])\n",
        "                count += 1\n",
        "                right_idx += 1\n",
        "        while left_idx < len(left):\n",
        "            merged.append(left[left_idx])\n",
        "            counts[left[left_idx][0]] += count\n",
        "            left_idx += 1\n",
        "        while right_idx < len(right):\n",
        "            merged.append(right[right_idx])\n",
        "            right_idx += 1\n",
        "        return merged\n",
        "    counts = [0] * len(nums)\n",
        "    nums = list(enumerate(nums))\n",
        "    mergeSort(nums)\n",
        "    return counts\n",
        "# Test the function with the given example\n",
        "nums = [5, 2, 6, 1]\n",
        "print(countSmaller(nums))  # Output: [2, 1, 1, 0]"
      ],
      "metadata": {
        "colab": {
          "base_uri": "https://localhost:8080/"
        },
        "id": "gJcqsBC87BJx",
        "outputId": "78148e7c-79fb-48b9-f41b-65ed36d18500"
      },
      "execution_count": 37,
      "outputs": [
        {
          "output_type": "stream",
          "name": "stdout",
          "text": [
            "[2, 1, 1, 0]\n"
          ]
        }
      ]
    },
    {
      "cell_type": "code",
      "source": [
        "#3\n",
        "def sortArray(nums):\n",
        "    def mergeSort(arr):\n",
        "        if len(arr) <= 1:\n",
        "            return arr\n",
        "        mid = len(arr) // 2\n",
        "        left = mergeSort(arr[:mid])\n",
        "        right = mergeSort(arr[mid:])\n",
        "        return merge(left, right)\n",
        "    def merge(left, right):\n",
        "        merged = []\n",
        "        left_idx, right_idx = 0, 0\n",
        "\n",
        "        while left_idx < len(left) and right_idx < len(right):\n",
        "            if left[left_idx] <= right[right_idx]:\n",
        "                merged.append(left[left_idx])\n",
        "                left_idx += 1\n",
        "            else:\n",
        "                merged.append(right[right_idx])\n",
        "                right_idx += 1\n",
        "        merged.extend(left[left_idx:])\n",
        "        merged.extend(right[right_idx:])\n",
        "        return merged\n",
        "    return mergeSort(nums)\n",
        "# Test the function with the given example\n",
        "nums = [5, 2, 3, 1]\n",
        "print(sortArray(nums))  # Output: [1, 2, 3, 5]"
      ],
      "metadata": {
        "colab": {
          "base_uri": "https://localhost:8080/"
        },
        "id": "t5sO3z0J7O9l",
        "outputId": "8fba5301-9908-4689-ff85-2b975cea73d9"
      },
      "execution_count": 38,
      "outputs": [
        {
          "output_type": "stream",
          "name": "stdout",
          "text": [
            "[1, 2, 3, 5]\n"
          ]
        }
      ]
    },
    {
      "cell_type": "code",
      "source": [
        "#4\n",
        "def pushZerosToEnd(arr):\n",
        "    n = len(arr)\n",
        "    next_non_zero_index = 0\n",
        "    for i in range(n):\n",
        "        if arr[i] != 0:\n",
        "            arr[next_non_zero_index], arr[i] = arr[i], arr[next_non_zero_index]\n",
        "            next_non_zero_index += 1\n",
        "# Test the function with examples\n",
        "arr1 = [1, 9, 8, 4, 0, 0, 2, 7, 0, 6, 0]\n",
        "pushZerosToEnd(arr1)\n",
        "print(arr1)  # Output: [1, 9, 8, 4, 2, 7, 6, 0, 0, 0, 0]\n",
        "arr2 = [1, 2, 0, 4, 3, 0, 5, 0]\n",
        "pushZerosToEnd(arr2)\n",
        "print(arr2)  # Output: [1, 2, 4, 3, 5, 0, 0, 0]\n",
        "arr3 = [1, 2, 0, 0, 0, 3, 6]\n",
        "pushZerosToEnd(arr3)\n",
        "print(arr3)  # Output: [1, 2, 3, 6, 0, 0, 0]"
      ],
      "metadata": {
        "colab": {
          "base_uri": "https://localhost:8080/"
        },
        "id": "8KycCTj-7P17",
        "outputId": "b5dabd86-f5ca-4a0b-d21f-4d223a180605"
      },
      "execution_count": 39,
      "outputs": [
        {
          "output_type": "stream",
          "name": "stdout",
          "text": [
            "[1, 9, 8, 4, 2, 7, 6, 0, 0, 0, 0]\n",
            "[1, 2, 4, 3, 5, 0, 0, 0]\n",
            "[1, 2, 3, 6, 0, 0, 0]\n"
          ]
        }
      ]
    },
    {
      "cell_type": "code",
      "source": [
        "#6\n",
        "def mergeSortedArrays(arr1, arr2):\n",
        "    merged_array = []\n",
        "    i, j = 0, 0\n",
        "    while i < len(arr1) and j < len(arr2):\n",
        "        if arr1[i] < arr2[j]:\n",
        "            merged_array.append(arr1[i])\n",
        "            i += 1\n",
        "        else:\n",
        "            merged_array.append(arr2[j])\n",
        "            j += 1\n",
        "    # Append remaining elements of arr1 (if any)\n",
        "    while i < len(arr1):\n",
        "        merged_array.append(arr1[i])\n",
        "        i += 1\n",
        "    # Append remaining elements of arr2 (if any)\n",
        "    while j < len(arr2):\n",
        "        merged_array.append(arr2[j])\n",
        "        j += 1\n",
        "    return merged_array\n",
        "# Test the function with examples\n",
        "arr1 = [1, 3, 5, 7]\n",
        "arr2 = [2, 4, 6, 8]\n",
        "result = mergeSortedArrays(arr1, arr2)\n",
        "print(result)  # Output: [1, 2, 3, 4, 5, 6, 7, 8]"
      ],
      "metadata": {
        "colab": {
          "base_uri": "https://localhost:8080/"
        },
        "id": "_PK6_hDz7Qh6",
        "outputId": "423f38e4-96e1-4467-f915-4e9971d18bc7"
      },
      "execution_count": 40,
      "outputs": [
        {
          "output_type": "stream",
          "name": "stdout",
          "text": [
            "[1, 2, 3, 4, 5, 6, 7, 8]\n"
          ]
        }
      ]
    },
    {
      "cell_type": "code",
      "source": [
        "#7\n",
        "def intersection(nums1, nums2):\n",
        "    set1 = set(nums1)\n",
        "    set2 = set(nums2)\n",
        "    intersection_set = set1.intersection(set2)\n",
        "    return list(intersection_set)\n",
        "# Test the function with examples\n",
        "nums1 = [1, 2, 2, 1]\n",
        "nums2 = [2, 2]\n",
        "result = intersection(nums1, nums2)\n",
        "print(result)  # Output: [2]"
      ],
      "metadata": {
        "colab": {
          "base_uri": "https://localhost:8080/"
        },
        "id": "kjoORwO47Rcs",
        "outputId": "c061fe5d-af3c-4725-f4ae-ea15a4ed4ff1"
      },
      "execution_count": 41,
      "outputs": [
        {
          "output_type": "stream",
          "name": "stdout",
          "text": [
            "[2]\n"
          ]
        }
      ]
    },
    {
      "cell_type": "code",
      "source": [
        "#8\n",
        "def intersect(nums1, nums2):\n",
        "    # Create dictionaries to store counts of elements in both arrays\n",
        "    count1 = {}\n",
        "    count2 = {}\n",
        "    # Count occurrences of elements in nums1\n",
        "    for num in nums1:\n",
        "        count1[num] = count1.get(num, 0) + 1\n",
        "    # Count occurrences of elements in nums2\n",
        "    for num in nums2:\n",
        "        count2[num] = count2.get(num, 0) + 1\n",
        "    # Find intersection with counts\n",
        "    result = []\n",
        "    for num in count1:\n",
        "        if num in count2:\n",
        "            occurrences = min(count1[num], count2[num])\n",
        "            result.extend([num] * occurrences)\n",
        "    return result\n",
        "# Test the function with the given input\n",
        "nums1 = [1, 2, 2, 1]\n",
        "nums2 = [2, 2]\n",
        "result = intersect(nums1, nums2)\n",
        "print(result)  # Output: [2, 2]"
      ],
      "metadata": {
        "colab": {
          "base_uri": "https://localhost:8080/"
        },
        "id": "y5B9UKPQ7Skf",
        "outputId": "5ff92145-1efd-4af7-bbbf-2d25715b0241"
      },
      "execution_count": 42,
      "outputs": [
        {
          "output_type": "stream",
          "name": "stdout",
          "text": [
            "[2, 2]\n"
          ]
        }
      ]
    }
  ]
}