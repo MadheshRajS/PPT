{
  "nbformat": 4,
  "nbformat_minor": 0,
  "metadata": {
    "colab": {
      "provenance": []
    },
    "kernelspec": {
      "name": "python3",
      "display_name": "Python 3"
    },
    "language_info": {
      "name": "python"
    }
  },
  "cells": [
    {
      "cell_type": "code",
      "source": [
        "#1\n",
        "class TreeNode:\n",
        "    def __init__(self, val):\n",
        "        self.val = val\n",
        "        self.left = None\n",
        "        self.right = None\n",
        "def convert_to_dll(root):\n",
        "    if not root:\n",
        "        return None\n",
        "    # Convert the left subtree to DLL\n",
        "    left_head = convert_to_dll(root.left)\n",
        "    # Find the rightmost node in the left subtree\n",
        "    rightmost_node = left_head\n",
        "    while rightmost_node and rightmost_node.right:\n",
        "        rightmost_node = rightmost_node.right\n",
        "    # Set the right pointer of the current node to the rightmost node of the left subtree\n",
        "    if rightmost_node:\n",
        "        rightmost_node.right = root\n",
        "        root.left = rightmost_node\n",
        "    # Convert the right subtree to DLL\n",
        "    right_head = convert_to_dll(root.right)\n",
        "    # Set the left pointer of the current node to the last node of the right subtree\n",
        "    if right_head:\n",
        "        right_head.left = root\n",
        "        root.right = right_head\n",
        "    # Return the head of the merged DLL (leftmost node)\n",
        "    return left_head if left_head else root\n",
        "def print_dll(head):\n",
        "    current = head\n",
        "    while current:\n",
        "        print(current.val, end=\" → \")\n",
        "        current = current.right\n",
        "    print(\"None\")\n",
        "# Test the function with a binary tree\n",
        "root = TreeNode(10)\n",
        "root.left = TreeNode(5)\n",
        "root.right = TreeNode(20)\n",
        "root.right.left = TreeNode(30)\n",
        "root.right.right = TreeNode(35)\n",
        "dll_head = convert_to_dll(root)\n",
        "print_dll(dll_head)"
      ],
      "metadata": {
        "colab": {
          "base_uri": "https://localhost:8080/"
        },
        "id": "nDrb9gxzDgVD",
        "outputId": "8104236d-9eb7-42e7-eadd-6b6b4721a2d5"
      },
      "execution_count": 50,
      "outputs": [
        {
          "output_type": "stream",
          "name": "stdout",
          "text": [
            "5 → 10 → 30 → 20 → 35 → None\n"
          ]
        }
      ]
    },
    {
      "cell_type": "code",
      "source": [
        "#2\n",
        "class TreeNode:\n",
        "    def __init__(self, val):\n",
        "        self.val = val\n",
        "        self.left = None\n",
        "        self.right = None\n",
        "def flip_tree(root):\n",
        "    if not root:\n",
        "        return None\n",
        "    # Flip the left and right subtrees recursively\n",
        "    left_flipped = flip_tree(root.left)\n",
        "    right_flipped = flip_tree(root.right)\n",
        "    # Update the left and right pointers of the current node\n",
        "    root.left = right_flipped\n",
        "    root.right = left_flipped\n",
        "    return root\n",
        "def print_tree_inorder(root):\n",
        "    if root:\n",
        "        print_tree_inorder(root.left)\n",
        "        print(root.val, end=\" \")\n",
        "        print_tree_inorder(root.right)\n",
        "# Test the function with a binary tree\n",
        "root = TreeNode(1)\n",
        "root.left = TreeNode(2)\n",
        "root.right = TreeNode(3)\n",
        "root.left.left = TreeNode(4)\n",
        "root.left.right = TreeNode(5)\n",
        "root.right.left = TreeNode(6)\n",
        "root.right.right = TreeNode(7)\n",
        "print(\"Original Tree:\")\n",
        "print_tree_inorder(root)\n",
        "flipped_root = flip_tree(root)\n",
        "print(\"\\nFlipped Tree:\")\n",
        "print_tree_inorder(flipped_root)"
      ],
      "metadata": {
        "colab": {
          "base_uri": "https://localhost:8080/"
        },
        "id": "xW9LOSQpDoJL",
        "outputId": "143793cb-38cc-4def-9d13-2edc42f18df9"
      },
      "execution_count": 51,
      "outputs": [
        {
          "output_type": "stream",
          "name": "stdout",
          "text": [
            "Original Tree:\n",
            "4 2 5 1 6 3 7 \n",
            "Flipped Tree:\n",
            "7 3 6 1 5 2 4 "
          ]
        }
      ]
    },
    {
      "cell_type": "code",
      "source": [
        "#3\n",
        "class TreeNode:\n",
        "    def __init__(self, val):\n",
        "        self.val = val\n",
        "        self.left = None\n",
        "        self.right = None\n",
        "def print_root_to_leaf_paths(root):\n",
        "    if not root:\n",
        "        return\n",
        "    stack = [(root, str(root.val))]\n",
        "    result = []\n",
        "    while stack:\n",
        "        node, path = stack.pop()\n",
        "        if not node.left and not node.right:\n",
        "            result.append(path)\n",
        "        else:\n",
        "            if node.left:\n",
        "                stack.append((node.left, path + \"->\" + str(node.left.val)))\n",
        "            if node.right:\n",
        "                stack.append((node.right, path + \"->\" + str(node.right.val)))\n",
        "    for path in result:\n",
        "        print(path)\n",
        "# Test the function with a binary tree\n",
        "root = TreeNode(6)\n",
        "root.left = TreeNode(3)\n",
        "root.right = TreeNode(5)\n",
        "root.left.left = TreeNode(2)\n",
        "root.left.right = TreeNode(5)\n",
        "root.right.right = TreeNode(4)\n",
        "root.left.right.left = TreeNode(7)\n",
        "root.left.right.right = TreeNode(4)\n",
        "print_root_to_leaf_paths(root)"
      ],
      "metadata": {
        "colab": {
          "base_uri": "https://localhost:8080/"
        },
        "id": "S9_NKpPOD0q2",
        "outputId": "7e0669dd-2e56-4680-c73a-64c22924872f"
      },
      "execution_count": 52,
      "outputs": [
        {
          "output_type": "stream",
          "name": "stdout",
          "text": [
            "6->5->4\n",
            "6->3->5->4\n",
            "6->3->5->7\n",
            "6->3->2\n"
          ]
        }
      ]
    },
    {
      "cell_type": "code",
      "source": [
        "#4\n",
        "class TreeNode:\n",
        "    def __init__(self, val):\n",
        "        self.val = val\n",
        "        self.left = None\n",
        "        self.right = None\n",
        "def build_tree(preorder, inorder):\n",
        "    if not preorder or not inorder:\n",
        "        return None\n",
        "    root_val = preorder.pop(0)\n",
        "    root = TreeNode(root_val)\n",
        "    root_idx = inorder.index(root_val)\n",
        "    root.left = build_tree(preorder, inorder[:root_idx])\n",
        "    root.right = build_tree(preorder, inorder[root_idx + 1:])\n",
        "    return root\n",
        "def get_postorder(root):\n",
        "    if not root:\n",
        "        return []\n",
        "    postorder = []\n",
        "    stack = []\n",
        "    current = root\n",
        "    while current or stack:\n",
        "        if current:\n",
        "            stack.append(current)\n",
        "            current = current.left\n",
        "        else:\n",
        "            temp = stack[-1].right\n",
        "            if not temp:\n",
        "                temp = stack.pop()\n",
        "                postorder.append(temp.val)\n",
        "                while stack and temp == stack[-1].right:\n",
        "                    temp = stack.pop()\n",
        "                    postorder.append(temp.val)\n",
        "            else:\n",
        "                current = temp\n",
        "    return postorder\n",
        "def are_traversals_same(preorder, inorder, postorder):\n",
        "    root1 = build_tree(preorder, inorder)\n",
        "    postorder1 = get_postorder(root1)\n",
        "    return postorder1 == postorder\n",
        "# Test the function with examples\n",
        "inorder = [4, 2, 5, 1, 3]\n",
        "preorder = [1, 2, 4, 5, 3]\n",
        "postorder = [4, 5, 2, 3, 1]\n",
        "print(are_traversals_same(preorder, inorder, postorder))  # Output: Yes\n",
        "inorder = [4, 2, 5, 1, 3]\n",
        "preorder = [1, 5, 4, 2, 3]\n",
        "postorder = [4, 1, 2, 3, 5]\n",
        "print(are_traversals_same(preorder, inorder, postorder))  # Output: No"
      ],
      "metadata": {
        "colab": {
          "base_uri": "https://localhost:8080/"
        },
        "id": "rrrqOf88EEXR",
        "outputId": "4c52837b-c6e8-4b8e-caaf-c81fc67be949"
      },
      "execution_count": 53,
      "outputs": [
        {
          "output_type": "stream",
          "name": "stdout",
          "text": [
            "True\n",
            "False\n"
          ]
        }
      ]
    }
  ]
}