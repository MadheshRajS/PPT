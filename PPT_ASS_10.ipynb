{
  "nbformat": 4,
  "nbformat_minor": 0,
  "metadata": {
    "colab": {
      "provenance": []
    },
    "kernelspec": {
      "name": "python3",
      "display_name": "Python 3"
    },
    "language_info": {
      "name": "python"
    }
  },
  "cells": [
    {
      "cell_type": "code",
      "execution_count": 3,
      "metadata": {
        "colab": {
          "base_uri": "https://localhost:8080/"
        },
        "id": "Mv2rNshVLNO0",
        "outputId": "779d2ab7-6e8e-4f79-da3b-494efca446cf"
      },
      "outputs": [
        {
          "output_type": "stream",
          "name": "stdout",
          "text": [
            "True\n"
          ]
        }
      ],
      "source": [
        "'''\n",
        "💡 **Question 1**\n",
        "Given an integer `n`, return *`true` if it is a power of three. Otherwise, return `false`*.\n",
        "An integer `n` is a power of three, if there exists an integer `x` such that `n == 3x`.\n",
        "**Example 1:**\n",
        "Input: n = 27\n",
        "Output: true\n",
        "Explanation: 27 = 33\n",
        "**Example 2:*\n",
        "Input: n = 0\n",
        "Output: false\n",
        "Explanation: There is no x where 3x = 0.\n",
        "'''\n",
        "def isPowerOfThree(n):\n",
        "    if n == 1:\n",
        "        return True\n",
        "    if n <= 0 or n % 3 != 0:\n",
        "        return False\n",
        "    return isPowerOfThree(n // 3)\n",
        "print(isPowerOfThree(27))"
      ]
    },
    {
      "cell_type": "code",
      "source": [
        "'''\n",
        "<aside>\n",
        "💡 **Question 2**\n",
        "You have a list `arr` of all integers in the range `[1, n]` sorted in a strictly increasing order. Apply the following algorithm on `arr`:\n",
        "- Starting from left to right, remove the first number and every other number afterward until you reach the end of the list.\n",
        "- Repeat the previous step again, but this time from right to left, remove the rightmost number and every other number from the remaining numbers.\n",
        "- Keep repeating the steps again, alternating left to right and right to left, until a single number remains.\n",
        "Given the integer `n`, return *the last number that remains in* `arr`.\n",
        "**Example 1:**\n",
        "```\n",
        "Input: n = 9\n",
        "Output: 6\n",
        "Explanation:\n",
        "arr = [1, 2,3, 4,5, 6,7, 8,9]\n",
        "arr = [2,4, 6,8]\n",
        "arr = [2, 6]\n",
        "arr = [6]\n",
        "'''\n",
        "def lastRemaining(n):\n",
        "    if n == 1:\n",
        "        return 1\n",
        "    return 2 * (n // 2 + 1 - lastRemaining(n // 2))\n",
        "print(lastRemaining(9))\n",
        "print(lastRemaining(6)) "
      ],
      "metadata": {
        "colab": {
          "base_uri": "https://localhost:8080/"
        },
        "id": "QEEpwCRwLuYP",
        "outputId": "44e8b610-de0e-4af7-d3d6-b4791b612c44"
      },
      "execution_count": 4,
      "outputs": [
        {
          "output_type": "stream",
          "name": "stdout",
          "text": [
            "6\n",
            "4\n"
          ]
        }
      ]
    },
    {
      "cell_type": "code",
      "source": [
        "'''\n",
        "<aside>\n",
        "💡 **Question 3**\n",
        "****Given a set represented as a string, write a recursive code to print all subsets of it. The subsets can be printed in any order.\n",
        "**Example 1:**\n",
        "Input :  set = “abc”\n",
        "Output : { “”, “a”, “b”, “c”, “ab”, “ac”, “bc”, “abc”}\n",
        "**Example 2:**\n",
        "Input : set = “abcd”\n",
        "Output : { “”, “a” ,”ab” ,”abc” ,”abcd”, “abd” ,”ac” ,”acd”, “ad” ,”b”, “bc” ,”bcd” ,”bd” ,”c” ,”cd” ,”d” }\n",
        "</aside>\n",
        "'''\n",
        "def printSubsets(set_str, current_set='', index=0):\n",
        "    if index == len(set_str):\n",
        "        print(current_set)\n",
        "        return\n",
        "    # Include the current character\n",
        "    printSubsets(set_str, current_set + set_str[index], index + 1)\n",
        "    # Exclude the current character\n",
        "    printSubsets(set_str, current_set, index + 1)\n",
        "printSubsets(\"abc\")\n",
        "printSubsets(\"abcd\")"
      ],
      "metadata": {
        "colab": {
          "base_uri": "https://localhost:8080/"
        },
        "id": "uPETjeO_MERt",
        "outputId": "18e5e2e4-c89a-4d00-bd0c-4edf4b147321"
      },
      "execution_count": 5,
      "outputs": [
        {
          "output_type": "stream",
          "name": "stdout",
          "text": [
            "abc\n",
            "ab\n",
            "ac\n",
            "a\n",
            "bc\n",
            "b\n",
            "c\n",
            "\n",
            "abcd\n",
            "abc\n",
            "abd\n",
            "ab\n",
            "acd\n",
            "ac\n",
            "ad\n",
            "a\n",
            "bcd\n",
            "bc\n",
            "bd\n",
            "b\n",
            "cd\n",
            "c\n",
            "d\n",
            "\n"
          ]
        }
      ]
    },
    {
      "cell_type": "code",
      "source": [
        "'''\n",
        "<aside>\n",
        "💡 **Question 4**\n",
        "Given a string calculate length of the string using recursion.\n",
        "**Examples:*\n",
        "</aside>\n",
        "'''\n",
        "def calculateLength(string):\n",
        "    if string == \"\":\n",
        "        return 0\n",
        "    return 1 + calculateLength(string[1:])\n",
        "print(calculateLength(\"Hello\"))\n",
        "print(calculateLength(\"Python\"))"
      ],
      "metadata": {
        "colab": {
          "base_uri": "https://localhost:8080/"
        },
        "id": "4f_rk7XwMXdm",
        "outputId": "80f77235-dc7d-4e25-90bc-a1e207ca457c"
      },
      "execution_count": 6,
      "outputs": [
        {
          "output_type": "stream",
          "name": "stdout",
          "text": [
            "5\n",
            "6\n"
          ]
        }
      ]
    },
    {
      "cell_type": "code",
      "source": [
        "'''\n",
        "<aside>\n",
        "💡 **Question 5**\n",
        "We are given a string S, we need to find count of all contiguous substrings starting and ending with same character.\n",
        "**Examples :**\n",
        "</aside>\n",
        "'''\n",
        "def countSameEndStartSubstrings(string):\n",
        "    count = 0\n",
        "    for i in range(len(string)):\n",
        "        count += countSameEndStartSubstringsHelper(string, i, i)\n",
        "    return count\n",
        "def countSameEndStartSubstringsHelper(string, start, end):\n",
        "    if start < 0 or end >= len(string) or string[start] != string[end]:\n",
        "        return 0\n",
        "    return 1 + countSameEndStartSubstringsHelper(string, start - 1, end + 1)\n",
        "print(countSameEndStartSubstrings(\"ababa\"))\n",
        "print(countSameEndStartSubstrings(\"aba\"))"
      ],
      "metadata": {
        "colab": {
          "base_uri": "https://localhost:8080/"
        },
        "id": "MniFPAT3M0Sy",
        "outputId": "85fd1b59-4de2-4ac2-c743-5b12c377ffd6"
      },
      "execution_count": 7,
      "outputs": [
        {
          "output_type": "stream",
          "name": "stdout",
          "text": [
            "9\n",
            "4\n"
          ]
        }
      ]
    },
    {
      "cell_type": "code",
      "source": [
        "'''\n",
        "<aside>\n",
        "💡 **Question 6**\n",
        "The [tower of Hanoi](https://en.wikipedia.org/wiki/Tower_of_Hanoi) is a famous puzzle where we have three rods and **N** disks. The objective of the puzzle is to move the entire stack to another rod. You are given the number of discs **N**. Initially, these discs are in the rod 1. You need to print all the steps of discs movement so that all the discs reach the 3rd rod. Also, you need to find the total moves.**Note:** The discs are arranged such that the **top disc is numbered 1** and the **bottom-most disc is numbered N**. Also, all the discs have **different sizes** and a bigger disc **cannot** be put on the top of a smaller disc. Refer the provided link to get a better clarity about the puzzle.\n",
        "**Example 1:**\n",
        "```\n",
        "Input:\n",
        "N = 2\n",
        "Output:\n",
        "move disk 1 from rod 1 to rod 2\n",
        "move disk 2 from rod 1 to rod 3\n",
        "move disk 1 from rod 2 to rod 3\n",
        "3\n",
        "Explanation:For N=2 , steps will be\n",
        "as follows in the example and total\n",
        "3 steps will be taken.\n",
        "```\n",
        "**Example 2:**\n",
        "</aside>\n",
        "'''\n",
        "def towerOfHanoi(n, source, destination, auxiliary):\n",
        "    if n == 1:\n",
        "        print(\"move disk 1 from rod\", source, \"to rod\", destination)\n",
        "        return 1\n",
        "    moves = 0\n",
        "    moves += towerOfHanoi(n-1, source, auxiliary, destination)\n",
        "    print(\"move disk\", n, \"from rod\", source, \"to rod\", destination)\n",
        "    moves += 1\n",
        "    moves += towerOfHanoi(n-1, auxiliary, destination, source)\n",
        "    return moves\n",
        "print(towerOfHanoi(2, 1, 3, 2))\n",
        "print(towerOfHanoi(3, 1, 3, 2))"
      ],
      "metadata": {
        "colab": {
          "base_uri": "https://localhost:8080/"
        },
        "id": "gZ-g9pK0NN8r",
        "outputId": "323b7415-93ca-40b6-efd1-8485cb5b7f70"
      },
      "execution_count": 8,
      "outputs": [
        {
          "output_type": "stream",
          "name": "stdout",
          "text": [
            "move disk 1 from rod 1 to rod 2\n",
            "move disk 2 from rod 1 to rod 3\n",
            "move disk 1 from rod 2 to rod 3\n",
            "3\n",
            "move disk 1 from rod 1 to rod 3\n",
            "move disk 2 from rod 1 to rod 2\n",
            "move disk 1 from rod 3 to rod 2\n",
            "move disk 3 from rod 1 to rod 3\n",
            "move disk 1 from rod 2 to rod 1\n",
            "move disk 2 from rod 2 to rod 3\n",
            "move disk 1 from rod 1 to rod 3\n",
            "7\n"
          ]
        }
      ]
    },
    {
      "cell_type": "code",
      "source": [
        "'''\n",
        "<aside>\n",
        "💡 **Question 7**\n",
        "Given a string **str**, the task is to print all the permutations of **str**. A **permutation** is an arrangement of all or part of a set of objects, with regard to the order of the arrangement. For instance, the words ‘bat’ and ‘tab’ represents two distinct permutation (or arrangements) of a similar three letter word.\n",
        "**Examples:**\n",
        " Input: str = “cd” \n",
        "**Output:** cd dc\n",
        "\n",
        "> **Input:** str = “abb”\n",
        "> **Output:** abb abb bab bba bab bba\n",
        "</aside>\n",
        "'''\n",
        "def generatePermutations(string):\n",
        "    permutations = []\n",
        "    generatePermutationsHelper(list(string), 0, len(string) - 1, permutations)\n",
        "    return permutations\n",
        "\n",
        "def generatePermutationsHelper(stringList, start, end, permutations):\n",
        "    if start == end:\n",
        "        permutations.append(\"\".join(stringList))\n",
        "    else:\n",
        "        for i in range(start, end + 1):\n",
        "            stringList[start], stringList[i] = stringList[i], stringList[start]  # Swap characters\n",
        "            generatePermutationsHelper(stringList, start + 1, end, permutations)\n",
        "            stringList[start], stringList[i] = stringList[i], stringList[start]  # Revert back the swap\n",
        "print(generatePermutations(\"cd\"))\n",
        "print(generatePermutations(\"abb\"))"
      ],
      "metadata": {
        "colab": {
          "base_uri": "https://localhost:8080/"
        },
        "id": "Lo9sUDY7NiuZ",
        "outputId": "1c3985a3-2e6f-4e96-bae7-e95c08b2c34c"
      },
      "execution_count": 9,
      "outputs": [
        {
          "output_type": "stream",
          "name": "stdout",
          "text": [
            "['cd', 'dc']\n",
            "['abb', 'abb', 'bab', 'bba', 'bba', 'bab']\n"
          ]
        }
      ]
    },
    {
      "cell_type": "code",
      "source": [
        "'''\n",
        "<aside>\n",
        "💡 **Question 8**\n",
        "Given a string, count total number of consonants in it. A consonant is an English alphabet character that is not vowel (a, e, i, o and u). Examples of constants are b, c, d, f, and g.\n",
        "**Examples :**\n",
        "</aside>\n",
        "'''\n",
        "def countConsonants(string):\n",
        "    string = string.lower()\n",
        "    return countConsonantsHelper(string, 0)\n",
        "def countConsonantsHelper(string, index):\n",
        "    if index == len(string):\n",
        "        return 0\n",
        "    current_char = string[index]\n",
        "    if current_char.isalpha() and current_char not in 'aeiou':\n",
        "        return 1 + countConsonantsHelper(string, index + 1)\n",
        "    else:\n",
        "        return countConsonantsHelper(string, index + 1)\n",
        "print(countConsonants(\"Hello World\"))\n",
        "print(countConsonants(\"Python Programming\"))"
      ],
      "metadata": {
        "colab": {
          "base_uri": "https://localhost:8080/"
        },
        "id": "i2pkY2BKN77R",
        "outputId": "aea51a9c-481d-4d94-e488-c704ead9a3fb"
      },
      "execution_count": 10,
      "outputs": [
        {
          "output_type": "stream",
          "name": "stdout",
          "text": [
            "7\n",
            "13\n"
          ]
        }
      ]
    },
    {
      "cell_type": "code",
      "source": [],
      "metadata": {
        "id": "rtO91wc6OMID"
      },
      "execution_count": null,
      "outputs": []
    }
  ]
}