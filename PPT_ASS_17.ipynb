{
  "nbformat": 4,
  "nbformat_minor": 0,
  "metadata": {
    "colab": {
      "provenance": []
    },
    "kernelspec": {
      "name": "python3",
      "display_name": "Python 3"
    },
    "language_info": {
      "name": "python"
    }
  },
  "cells": [
    {
      "cell_type": "code",
      "source": [
        "#1\n",
        "def first_non_repeating_character(s):\n",
        "    char_count = {}\n",
        "    # Count occurrences of each character in the string\n",
        "    for char in s:\n",
        "        char_count[char] = char_count.get(char, 0) + 1\n",
        "    # Find the first non-repeating character\n",
        "    for i in range(len(s)):\n",
        "        if char_count[s[i]] == 1:\n",
        "            return i\n",
        "    return -1\n",
        "# Example\n",
        "def example():\n",
        "    s1 = \"leetcode\"\n",
        "    result1 = first_non_repeating_character(s1)\n",
        "    print(result1)  # Output: 0\n",
        "example()"
      ],
      "metadata": {
        "colab": {
          "base_uri": "https://localhost:8080/"
        },
        "id": "h9UkB_DdtTTs",
        "outputId": "87cf1069-5541-4586-968d-e267fcf1df36"
      },
      "execution_count": 23,
      "outputs": [
        {
          "output_type": "stream",
          "name": "stdout",
          "text": [
            "0\n"
          ]
        }
      ]
    },
    {
      "cell_type": "code",
      "source": [
        "#2\n",
        "def max_subarray_sum(nums):\n",
        "    def kadane_algorithm(arr):\n",
        "        max_sum = float('-inf')\n",
        "        current_sum = 0\n",
        "        for num in arr:\n",
        "            current_sum = max(num, current_sum + num)\n",
        "            max_sum = max(max_sum, current_sum)\n",
        "        return max_sum\n",
        "    # Find the maximum subarray sum for the non-circular case\n",
        "    max_non_circular = kadane_algorithm(nums)\n",
        "    # Find the total sum of the array\n",
        "    total_sum = sum(nums)\n",
        "    # Invert the sign of each element\n",
        "    inverted_nums = [-num for num in nums]\n",
        "    # Find the maximum subarray sum for the circular case\n",
        "    max_circular = total_sum + kadane_algorithm(inverted_nums)\n",
        "    # Compare the maximum non-circular sum with the circular sum\n",
        "    return max(max_non_circular, max_circular)\n",
        "# Example\n",
        "def example():\n",
        "    nums = [1, -2, 3, -2]\n",
        "    result = max_subarray_sum(nums)\n",
        "    print(result)  # Output: 3\n",
        "example()"
      ],
      "metadata": {
        "colab": {
          "base_uri": "https://localhost:8080/"
        },
        "id": "7scCNDSBtT_7",
        "outputId": "642e9f85-ee94-4897-97b0-fa750c254297"
      },
      "execution_count": 24,
      "outputs": [
        {
          "output_type": "stream",
          "name": "stdout",
          "text": [
            "3\n"
          ]
        }
      ]
    },
    {
      "cell_type": "code",
      "source": [
        "#3\n",
        "from collections import deque\n",
        "def count_students_unable_to_eat(students, sandwiches):\n",
        "    queue = deque(students)\n",
        "    sandwiches = list(sandwiches)\n",
        "    while queue:\n",
        "        if queue[0] == sandwiches[0]:\n",
        "            queue.popleft()\n",
        "            sandwiches.pop(0)\n",
        "        else:\n",
        "            queue.append(queue.popleft())\n",
        "    return len(queue)\n",
        "# Example\n",
        "def example():\n",
        "    students = [1, 1, 0, 0]\n",
        "    sandwiches = [0, 1, 0, 1]\n",
        "    result = count_students_unable_to_eat(students, sandwiches)\n",
        "    print(result)  # Output: 0\n",
        "example()"
      ],
      "metadata": {
        "colab": {
          "base_uri": "https://localhost:8080/"
        },
        "id": "KnM8weeftU84",
        "outputId": "a309699f-568a-4ddb-bedd-954edc536b28"
      },
      "execution_count": 25,
      "outputs": [
        {
          "output_type": "stream",
          "name": "stdout",
          "text": [
            "0\n"
          ]
        }
      ]
    },
    {
      "cell_type": "code",
      "source": [
        "#4\n",
        "from collections import deque\n",
        "class RecentCounter:\n",
        "    def __init__(self):\n",
        "        self.requests = deque()\n",
        "    def ping(self, t: int) -> int:\n",
        "        self.requests.append(t)\n",
        "        while self.requests[0] < t - 3000:\n",
        "            self.requests.popleft()\n",
        "        return len(self.requests)\n",
        "# Example\n",
        "def example():\n",
        "    recentCounter = RecentCounter()\n",
        "    print(recentCounter.ping(1))     # Output: 1\n",
        "    print(recentCounter.ping(100))   # Output: 2\n",
        "    print(recentCounter.ping(3001))  # Output: 3\n",
        "    print(recentCounter.ping(3002))  # Output: 3\n",
        "example()"
      ],
      "metadata": {
        "colab": {
          "base_uri": "https://localhost:8080/"
        },
        "id": "bjX5KSPztVuS",
        "outputId": "a2ebe857-1e1b-428f-97ba-844d87304cb5"
      },
      "execution_count": 26,
      "outputs": [
        {
          "output_type": "stream",
          "name": "stdout",
          "text": [
            "1\n",
            "2\n",
            "3\n",
            "3\n"
          ]
        }
      ]
    },
    {
      "cell_type": "code",
      "source": [
        "#5\n",
        "def find_winner(n, k):\n",
        "    circle = list(range(1, n + 1))\n",
        "    start = 0\n",
        "    while len(circle) > 1:\n",
        "        start = (start + k - 1) % len(circle)\n",
        "        circle.pop(start)\n",
        "    return circle[0]\n",
        "# Example\n",
        "def example():\n",
        "    n = 5\n",
        "    k = 2\n",
        "    winner = find_winner(n, k)\n",
        "    print(winner)  # Output: 3\n",
        "example()"
      ],
      "metadata": {
        "colab": {
          "base_uri": "https://localhost:8080/"
        },
        "id": "7ZdynlIjtWYy",
        "outputId": "154b6cf5-5e4d-41bd-f484-66dbb419c9e7"
      },
      "execution_count": 27,
      "outputs": [
        {
          "output_type": "stream",
          "name": "stdout",
          "text": [
            "3\n"
          ]
        }
      ]
    },
    {
      "cell_type": "code",
      "source": [
        "#7\n",
        "class FrontMiddleBackQueue:\n",
        "    def __init__(self):\n",
        "        self.front = []\n",
        "        self.back = []\n",
        "    def pushFront(self, val: int) -> None:\n",
        "        self.front.append(val)\n",
        "    def pushMiddle(self, val: int) -> None:\n",
        "        if len(self.front) == len(self.back):\n",
        "            self.back.insert(0, self.front.pop())\n",
        "        self.front.append(val)\n",
        "    def pushBack(self, val: int) -> None:\n",
        "        self.back.append(val)\n",
        "    def popFront(self) -> int:\n",
        "        if self.front:\n",
        "            return self.front.pop()\n",
        "        return -1\n",
        "    def popMiddle(self) -> int:\n",
        "        if self.front:\n",
        "            return self.front.pop()\n",
        "        return -1\n",
        "    def popBack(self) -> int:\n",
        "        if self.back:\n",
        "            return self.back.pop()\n",
        "        return -1\n",
        "# Example\n",
        "def example():\n",
        "    q = FrontMiddleBackQueue()\n",
        "    print(q.pushFront(1))   # Output: None\n",
        "    print(q.pushBack(2))    # Output: None\n",
        "    print(q.pushMiddle(3))  # Output: None\n",
        "    print(q.pushMiddle(4))  # Output: None\n",
        "    print(q.popFront())     # Output: 1\n",
        "    print(q.popMiddle())    # Output: 3\n",
        "    print(q.popMiddle())    # Output: 4\n",
        "    print(q.popBack())      # Output: 2\n",
        "    print(q.popFront())     # Output: -1\n",
        "example()"
      ],
      "metadata": {
        "colab": {
          "base_uri": "https://localhost:8080/"
        },
        "id": "FwOdWHqxtXNG",
        "outputId": "f4a098fc-de66-43c2-db1f-2fcd88c54c98"
      },
      "execution_count": 28,
      "outputs": [
        {
          "output_type": "stream",
          "name": "stdout",
          "text": [
            "None\n",
            "None\n",
            "None\n",
            "None\n",
            "4\n",
            "3\n",
            "-1\n",
            "2\n",
            "-1\n"
          ]
        }
      ]
    },
    {
      "cell_type": "code",
      "source": [
        "#8\n",
        "from collections import deque\n",
        "class DataStream:\n",
        "    def __init__(self, value: int, k: int):\n",
        "        self.value = value\n",
        "        self.k = k\n",
        "        self.stream = deque()\n",
        "    def consec(self, num: int) -> bool:\n",
        "        self.stream.append(num)\n",
        "        if len(self.stream) > self.k:\n",
        "            self.stream.popleft()\n",
        "        return len(self.stream) == self.k and all(x == self.value for x in self.stream)\n",
        "# Example\n",
        "def example():\n",
        "    dataStream = DataStream(4, 3)\n",
        "    print(dataStream.consec(4))  # Output: False\n",
        "    print(dataStream.consec(4))  # Output: False\n",
        "    print(dataStream.consec(4))  # Output: True\n",
        "    print(dataStream.consec(3))  # Output: False\n",
        "example()"
      ],
      "metadata": {
        "colab": {
          "base_uri": "https://localhost:8080/"
        },
        "id": "u5JQj1fFtYCv",
        "outputId": "d97e45b5-6cc8-4ba8-9aca-99cf64ef563f"
      },
      "execution_count": 29,
      "outputs": [
        {
          "output_type": "stream",
          "name": "stdout",
          "text": [
            "False\n",
            "False\n",
            "True\n",
            "False\n"
          ]
        }
      ]
    }
  ]
}