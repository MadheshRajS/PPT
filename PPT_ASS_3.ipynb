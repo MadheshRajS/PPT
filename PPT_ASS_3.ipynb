{
  "nbformat": 4,
  "nbformat_minor": 0,
  "metadata": {
    "colab": {
      "provenance": []
    },
    "kernelspec": {
      "name": "python3",
      "display_name": "Python 3"
    },
    "language_info": {
      "name": "python"
    }
  },
  "cells": [
    {
      "cell_type": "code",
      "execution_count": null,
      "metadata": {
        "id": "XKdnDV3oDSLF",
        "colab": {
          "base_uri": "https://localhost:8080/"
        },
        "outputId": "799e8b88-4df5-4fc0-a052-be445f52fa9f"
      },
      "outputs": [
        {
          "output_type": "stream",
          "name": "stdout",
          "text": [
            "2\n"
          ]
        }
      ],
      "source": [
        "'''\n",
        "Given an integer array nums of length n and an integer target, find three integers\n",
        "in nums such that the sum is closest to the target.\n",
        "Return the sum of the three integers.\n",
        "You may assume that each input would have exactly one solution.\n",
        "Example 1:\n",
        "Input: nums = [-1,2,1,-4], target = 1\n",
        "Output: 2\n",
        "Explanation: The sum that is closest to the target is 2. (-1 + 2 + 1 = 2).\n",
        "'''\n",
        "from typing import *\n",
        "def threeSumClosest(nums: List[int], target: int) -> int:\n",
        "        nums.sort() #Sort the array\n",
        "        answer = nums[0] + nums[1] + nums[2] #initialise Answer\n",
        "        n=len(nums)\n",
        "        for i in range(n-2):\n",
        "            j=i+1 #take 2 ptr\n",
        "            k=n-1\n",
        "            while(j<k):\n",
        "                sum=nums[i]+nums[j]+nums[k] # count sum \n",
        "                if sum < target:  #if sum too small , inc j ptr\n",
        "                    j=j+1\n",
        "                elif sum > target:  #if sum too large, dec k ptr\n",
        "                    k=k-1\n",
        "                else:  #if sum == target \n",
        "                    return sum\n",
        "                if abs(sum - target) < abs(answer - target):\n",
        "                    answer = sum\n",
        "        return answer\n",
        "nums=[-1,2,1,-4]\n",
        "target=1\n",
        "ans=threeSumClosest(nums,target)\n",
        "print(ans)"
      ]
    },
    {
      "cell_type": "code",
      "source": [
        "'''\n",
        "Question 2\n",
        "Given an array nums of n integers, return an array of all the unique quadruplets\n",
        "[nums[a], nums[b], nums[c], nums[d]] such that:\n",
        "           ● 0 <= a, b, c, d < n\n",
        "           ● a, b, c, and d are distinct.\n",
        "           ● nums[a] + nums[b] + nums[c] + nums[d] == target\n",
        "\n",
        "You may return the answer in any order.\n",
        "\n",
        "Example 1:\n",
        "Input: nums = [1,0,-1,0,-2,2], target = 0\n",
        "Output: [[-2,-1,1,2],[-2,0,0,2],[-1,0,0,1]]\n",
        "'''\n",
        "def fourSum(nums: List[int], target: int) -> List[List[int]]:\n",
        "        ans = set()\n",
        "        nums.sort()\n",
        "        for i in range(len(nums)):\n",
        "            for j in range(i+1,len(nums)):\n",
        "                k,l = j+1,len(nums)-1\n",
        "                while k<l:\n",
        "                    s = nums[i]+nums[j]+nums[k]+nums[l]\n",
        "                    if s == target:\n",
        "                        ans.add((nums[i],nums[j],nums[k],nums[l]))\n",
        "                        l-=1\n",
        "                        k+=1\n",
        "                    elif s > target:\n",
        "                        l-=1\n",
        "                    else:\n",
        "                        k+=1\n",
        "        return ans\n",
        "nums=[1,0,-1,0,-2,2]\n",
        "target=0\n",
        "ans=fourSum(nums,target)\n",
        "print(list(ans))"
      ],
      "metadata": {
        "colab": {
          "base_uri": "https://localhost:8080/"
        },
        "id": "g6hEowbaPRJr",
        "outputId": "caef4e5c-7c3c-4461-ab51-1b1396327e7f"
      },
      "execution_count": null,
      "outputs": [
        {
          "output_type": "stream",
          "name": "stdout",
          "text": [
            "[(-2, -1, 1, 2), (-1, 0, 0, 1), (-2, 0, 0, 2)]\n"
          ]
        }
      ]
    },
    {
      "cell_type": "code",
      "source": [
        "'''\n",
        "<aside>\n",
        "💡 **Question 3**\n",
        "A permutation of an array of integers is an arrangement of its members into a\n",
        "sequence or linear order.\n",
        "\n",
        "For example, for arr = [1,2,3], the following are all the permutations of arr:\n",
        "[1,2,3], [1,3,2], [2, 1, 3], [2, 3, 1], [3,1,2], [3,2,1].\n",
        "\n",
        "The next permutation of an array of integers is the next lexicographically greater\n",
        "permutation of its integer. More formally, if all the permutations of the array are\n",
        "sorted in one container according to their lexicographical order, then the next\n",
        "permutation of that array is the permutation that follows it in the sorted container.\n",
        "\n",
        "If such an arrangement is not possible, the array must be rearranged as the\n",
        "lowest possible order (i.e., sorted in ascending order).\n",
        "\n",
        "● For example, the next permutation of arr = [1,2,3] is [1,3,2].\n",
        "● Similarly, the next permutation of arr = [2,3,1] is [3,1,2].\n",
        "● While the next permutation of arr = [3,2,1] is [1,2,3] because [3,2,1] does not\n",
        "have a lexicographical larger rearrangement.\n",
        "\n",
        "Given an array of integers nums, find the next permutation of nums.\n",
        "The replacement must be in place and use only constant extra memory.\n",
        "\n",
        "**Example 1:**\n",
        "Input: nums = [1,2,3]\n",
        "Output: [1,3,2]\n",
        "\n",
        "</aside>\n",
        "'''\n",
        "from typing import List\n",
        "def nextPermutation(nums: List[int]) -> None:\n",
        "      l=len(nums)-2\n",
        "      while l>=0:\n",
        "          if nums[l]<nums[l+1]:\n",
        "              s=len(nums)-1\n",
        "              while s>l:\n",
        "                  if nums[s]>nums[l]:\n",
        "                      nums[l],nums[s]=nums[s],nums[l] \n",
        "                      arr=(nums[:l+1]+sorted(nums[l+1:]))\n",
        "                      nums[:]=arr[:]\n",
        "                      return nums\n",
        "                  s-=1\n",
        "          l-=1\n",
        "      else:\n",
        "          nums.reverse()\n",
        "          return nums\n",
        "nums=[1,2,3]\n",
        "r=nextPermutation(nums)\n",
        "print(r)\n"
      ],
      "metadata": {
        "colab": {
          "base_uri": "https://localhost:8080/"
        },
        "id": "Ukl7bxxumItT",
        "outputId": "a0c0d200-fcbc-42d4-eaed-d2e6a701e5f2"
      },
      "execution_count": null,
      "outputs": [
        {
          "output_type": "stream",
          "name": "stdout",
          "text": [
            "[1, 3, 2]\n"
          ]
        }
      ]
    },
    {
      "cell_type": "code",
      "source": [
        "'''\n",
        "Question 4\n",
        "Given a sorted array of distinct integers and a target value, return the index if the\n",
        "target is found. If not, return the index where it would be if it were inserted in\n",
        "order.\n",
        "\n",
        "You must write an algorithm with O(log n) runtime complexity.\n",
        "\n",
        "Example 1:\n",
        "Input: nums = [1,3,5,6], target = 5\n",
        "Output: 2\n",
        "'''\n",
        "def searchInsert(nums: List[int], target: int) -> int:\n",
        "        left,right=0,len(nums)-1\n",
        "        while left<=right:\n",
        "            mid=(left+right)//2\n",
        "            if nums[mid]==target:\n",
        "                return mid\n",
        "            elif nums[mid]<target:\n",
        "                left=mid+1\n",
        "            else:\n",
        "                right=mid-1\n",
        "        return left\n",
        "nums=[1,3,5,6]\n",
        "target=5\n",
        "r=searchInsert(nums,target)\n",
        "print(r)"
      ],
      "metadata": {
        "colab": {
          "base_uri": "https://localhost:8080/"
        },
        "id": "CmPI7kE4nv67",
        "outputId": "3a972a02-2ca3-40a2-fba8-e01dad9136de"
      },
      "execution_count": null,
      "outputs": [
        {
          "output_type": "stream",
          "name": "stdout",
          "text": [
            "2\n"
          ]
        }
      ]
    },
    {
      "cell_type": "code",
      "source": [
        "'''\n",
        "<aside>\n",
        "💡 **Question 5**\n",
        "You are given a large integer represented as an integer array digits, where each\n",
        "digits[i] is the ith digit of the integer. The digits are ordered from most significant\n",
        "to least significant in left-to-right order. The large integer does not contain any\n",
        "leading 0's.\n",
        "\n",
        "Increment the large integer by one and return the resulting array of digits.\n",
        "\n",
        "**Example 1:**\n",
        "Input: digits = [1,2,3]\n",
        "Output: [1,2,4]\n",
        "\n",
        "**Explanation:** The array represents the integer 123.\n",
        "Incrementing by one gives 123 + 1 = 124.\n",
        "Thus, the result should be [1,2,4].\n",
        "\n",
        "</aside>\n",
        "'''\n",
        "def plusOne(digits):\n",
        "    n = len(digits)\n",
        "    carry = 1  # Set the initial carry to 1 since we're incrementing by one\n",
        "    for i in range(n-1, -1, -1):\n",
        "        digits[i] += carry  # Add the carry to the current digit\n",
        "        carry = digits[i] // 10  # Calculate the new carry\n",
        "        digits[i] %= 10  # Update the digit by taking the remainder after division by 10\n",
        "\n",
        "    # If there is still a carry after the loop, add it as a new digit at the beginning\n",
        "    if carry:\n",
        "        digits.insert(0, carry)\n",
        "\n",
        "    return digits\n",
        "digits = [1, 2, 3]\n",
        "result = plusOne(digits)\n",
        "print(result)\n"
      ],
      "metadata": {
        "colab": {
          "base_uri": "https://localhost:8080/"
        },
        "id": "j-DbO7X_omgB",
        "outputId": "b3cd27a2-48c6-46fe-e5c6-dab0e8d72b08"
      },
      "execution_count": null,
      "outputs": [
        {
          "output_type": "stream",
          "name": "stdout",
          "text": [
            "[1, 2, 4]\n"
          ]
        }
      ]
    },
    {
      "cell_type": "code",
      "source": [
        "'''\n",
        "Question 6\n",
        "Given a non-empty array of integers nums, every element appears twice except\n",
        "for one. Find that single one.\n",
        "\n",
        "You must implement a solution with a linear runtime complexity and use only\n",
        "constant extra space.\n",
        "\n",
        "Example 1:\n",
        "Input: nums = [2,2,1]\n",
        "Output: 1\n",
        "'''\n",
        "def singleNumber(nums):\n",
        "    result = 0\n",
        "    for num in nums:\n",
        "        result ^= num\n",
        "    return result\n",
        "nums = [2, 2, 1]\n",
        "result = singleNumber(nums)\n",
        "print(result)  \n"
      ],
      "metadata": {
        "colab": {
          "base_uri": "https://localhost:8080/"
        },
        "id": "BpoKKtdFqZJ0",
        "outputId": "729f40c2-66b3-4d4e-85d8-be51b7bdf831"
      },
      "execution_count": null,
      "outputs": [
        {
          "output_type": "stream",
          "name": "stdout",
          "text": [
            "1\n"
          ]
        }
      ]
    },
    {
      "cell_type": "code",
      "source": [
        "'''\n",
        "Question 7\n",
        "You are given an inclusive range [lower, upper] and a sorted unique integer array\n",
        "nums, where all elements are within the inclusive range.\n",
        "\n",
        "A number x is considered missing if x is in the range [lower, upper] and x is not in\n",
        "nums.\n",
        "\n",
        "Return the shortest sorted list of ranges that exactly covers all the missing\n",
        "numbers. That is, no element of nums is included in any of the ranges, and each\n",
        "missing number is covered by one of the ranges.\n",
        "\n",
        "Example 1:\n",
        "Input: nums = [0,1,3,50,75], lower = 0, upper = 99\n",
        "Output: [[2,2],[4,49],[51,74],[76,99]]\n",
        "\n",
        "Explanation: The ranges are:\n",
        "[2,2]\n",
        "[4,49]\n",
        "[51,74]\n",
        "[76,99]\n",
        "'''\n",
        "def findMissingRanges(nums, lower, upper):\n",
        "    missing_ranges = []\n",
        "    start = lower\n",
        "\n",
        "    # Helper function to add a range to the missing_ranges list\n",
        "    def addRange(start, end):\n",
        "        if start == end:\n",
        "            missing_ranges.append(str(start))\n",
        "        else:\n",
        "            missing_ranges.append(str(start) + '->' + str(end))\n",
        "\n",
        "    # Iterate through the range from lower to upper (inclusive)\n",
        "    for num in nums:\n",
        "        if num > start:\n",
        "            addRange(start, num - 1)\n",
        "        start = num + 1\n",
        "\n",
        "    if start <= upper:\n",
        "        addRange(start, upper)\n",
        "\n",
        "    return missing_ranges\n",
        "nums = [0, 1, 3, 50, 75]\n",
        "lower = 0\n",
        "upper = 99\n",
        "result = findMissingRanges(nums, lower, upper)\n",
        "print(result) \n"
      ],
      "metadata": {
        "colab": {
          "base_uri": "https://localhost:8080/"
        },
        "id": "xQQGbjyXq0nf",
        "outputId": "c4393f2d-8533-4c25-bd54-f3f6ff22cfe9"
      },
      "execution_count": null,
      "outputs": [
        {
          "output_type": "stream",
          "name": "stdout",
          "text": [
            "['2', '4->49', '51->74', '76->99']\n"
          ]
        }
      ]
    },
    {
      "cell_type": "code",
      "source": [
        "'''\n",
        "Question 8\n",
        "Given an array of meeting time intervals where intervals[i] = [starti, endi],\n",
        "determine if a person could attend all meetings.\n",
        "\n",
        "Example 1:\n",
        "Input: intervals = [[0,30],[5,10],[15,20]]\n",
        "Output: false\n",
        "'''\n",
        "def canAttendMeetings(intervals):\n",
        "    intervals.sort(key=lambda x: x[0])  # Sort the intervals based on start time\n",
        "    n = len(intervals)\n",
        "\n",
        "    for i in range(1, n):\n",
        "        if intervals[i][0] < intervals[i-1][1]:\n",
        "            return False\n",
        "\n",
        "    return True\n",
        "intervals = [[0, 30], [5, 10], [15, 20]]\n",
        "result = canAttendMeetings(intervals)\n",
        "print(result) "
      ],
      "metadata": {
        "colab": {
          "base_uri": "https://localhost:8080/"
        },
        "id": "WijDhWaaq_hH",
        "outputId": "7d7c52ab-6a95-4851-be40-db30a5a4aeec"
      },
      "execution_count": null,
      "outputs": [
        {
          "output_type": "stream",
          "name": "stdout",
          "text": [
            "False\n"
          ]
        }
      ]
    }
  ]
}