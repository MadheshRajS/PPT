{
  "nbformat": 4,
  "nbformat_minor": 0,
  "metadata": {
    "colab": {
      "provenance": []
    },
    "kernelspec": {
      "name": "python3",
      "display_name": "Python 3"
    },
    "language_info": {
      "name": "python"
    }
  },
  "cells": [
    {
      "cell_type": "code",
      "execution_count": null,
      "metadata": {
        "id": "ox4TmawzREMl",
        "colab": {
          "base_uri": "https://localhost:8080/"
        },
        "outputId": "60603aa6-c499-4025-c691-a76e6d0b8d29"
      },
      "outputs": [
        {
          "output_type": "stream",
          "name": "stdout",
          "text": [
            "4\n"
          ]
        }
      ],
      "source": [
        "'''\n",
        "💡 **Question 1**\n",
        "Given an integer array nums of 2n integers, group these integers into n pairs (a1, b1), (a2, b2),..., (an, bn) such that the sum of min(ai, bi) for all i is maximized. Return the maximized sum.\n",
        "**Example 1:**\n",
        "Input: nums = [1,4,3,2]\n",
        "Output: 4\n",
        "**Explanation:** All possible pairings (ignoring the ordering of elements) are:\n",
        "1. (1, 4), (2, 3) -> min(1, 4) + min(2, 3) = 1 + 2 = 3\n",
        "2. (1, 3), (2, 4) -> min(1, 3) + min(2, 4) = 1 + 2 = 3\n",
        "3. (1, 2), (3, 4) -> min(1, 2) + min(3, 4) = 1 + 3 = 4\n",
        "So the maximum possible sum is 4\n",
        "'''\n",
        "from itertools import *\n",
        "l=[1,4,3,2]\n",
        "l.sort()\n",
        "#print(l)\n",
        "le=len(l)\n",
        "r=0\n",
        "for i in range(0,le-1,2):\n",
        " # print(i,\"It is i value\")\n",
        "  r=r+l[i]\n",
        "  #print(r)\n",
        "#print(\"\")\n",
        "print(r)"
      ]
    },
    {
      "cell_type": "code",
      "source": [
        "'''\n",
        "Question 2\n",
        "Alice has n candies, where the ith candy is of type candyType[i]. Alice noticed that she started to gain weight, so she visited a doctor. \n",
        "The doctor advised Alice to only eat n / 2 of the candies she has (n is always even). Alice likes her candies very much, and she wants to eat the maximum number of different types of candies while still following the doctor's advice. \n",
        "Given the integer array candyType of length n, return the maximum number of different types of candies she can eat if she only eats n / 2 of them.\n",
        "Example 1:\n",
        "Input: candyType = [1,1,2,2,3,3]\n",
        "Output: 3\n",
        "Explanation: Alice can only eat 6 / 2 = 3 candies. Since there are only 3 types, she can eat one of each type.\n",
        "'''\n",
        "'''candyType=[1,1,2,2,3,3]\n",
        "l=len(candyType)\n",
        "d=l/2\n",
        "print(d)'''\n",
        "#import List\n",
        "from typing import List\n",
        "def distributeCandies(candyType: List[int]) -> int:\n",
        "    l = len(candyType)\n",
        "    eat = l // 2\n",
        "    dis_candyType = set(candyType)\n",
        "    if eat <= len(dis_candyType):\n",
        "        return eat\n",
        "    elif eat > len(dis_candyType):\n",
        "        return len(dis_candyType)\n",
        "\n",
        "candyType = [1, 1, 2, 2, 3, 3]  # Example input\n",
        "result = distributeCandies(candyType)\n",
        "print(result)\n"
      ],
      "metadata": {
        "colab": {
          "base_uri": "https://localhost:8080/"
        },
        "id": "vy-oWEnUYo0p",
        "outputId": "e1e4f1ef-32ae-483b-e9e5-854370f3964b"
      },
      "execution_count": null,
      "outputs": [
        {
          "output_type": "stream",
          "name": "stdout",
          "text": [
            "3\n"
          ]
        }
      ]
    },
    {
      "cell_type": "code",
      "source": [
        "'''\n",
        "Question 3\n",
        "We define a harmonious array as an array where the difference between its maximum value\n",
        "and its minimum value is exactly 1.\n",
        "Given an integer array nums, return the length of its longest harmonious subsequence\n",
        "among all its possible subsequences.\n",
        "A subsequence of an array is a sequence that can be derived from the array by deleting some or no elements without changing the order of the remaining elements.\n",
        "Example 1:\n",
        "Input: nums = [1,3,2,2,5,2,3,7]\n",
        "Output: 5\n",
        "Explanation: The longest harmonious subsequence is [3,2,2,2,3].\n",
        "'''\n",
        "from collections import Counter\n",
        "from typing import List\n",
        "def findLHS(nums: List[int]) -> int:\n",
        "    ans = 0\n",
        "    count = Counter(nums)\n",
        "    for num, freq in count.items():\n",
        "        if num + 1 in count:\n",
        "            ans = max(ans, freq + count[num + 1])\n",
        "    return ans\n",
        "nums = [1, 3, 2, 2, 5, 2, 3, 7]\n",
        "r = findLHS(nums)\n",
        "print(r)"
      ],
      "metadata": {
        "id": "Qj4iV5-lSrEf",
        "colab": {
          "base_uri": "https://localhost:8080/"
        },
        "outputId": "384fe745-02dc-46d0-c7ac-00095c0b555d"
      },
      "execution_count": 8,
      "outputs": [
        {
          "output_type": "stream",
          "name": "stdout",
          "text": [
            "5\n"
          ]
        }
      ]
    },
    {
      "cell_type": "code",
      "source": [
        "'''\n",
        "Question 4\n",
        "You have a long flowerbed in which some of the plots are planted, and some are not.\n",
        "However, flowers cannot be planted in adjacent plots.\n",
        "Given an integer array flowerbed containing 0's and 1's, where 0 means empty and 1 means not empty, \n",
        "and an integer n, return true if n new flowers can be planted in the flowerbed without violating the no-adjacent-flowers rule and false otherwise.\n",
        "Example 1:\n",
        "Input: flowerbed = [1,0,0,0,1], n = 1\n",
        "Output: true\n",
        "'''\n",
        "def flower(flowerbed:List[int],n:int) -> bool:\n",
        "  f=[0]+flowerbed+[0]\n",
        "  for i in range(1,len(f)-1):\n",
        "    if f[i-1] ==0 and f[i]==0 and f[i+1] == 0:\n",
        "      f[i]=1\n",
        "      n=n-1\n",
        "  return n<=0\n",
        "flowerbed=[1,0,0,0,1]\n",
        "r=flower(flowerbed,1)\n",
        "print(r)"
      ],
      "metadata": {
        "colab": {
          "base_uri": "https://localhost:8080/"
        },
        "id": "cn9ej5_6AlR6",
        "outputId": "b687f848-1711-454b-c70f-a96e10c7a3b2"
      },
      "execution_count": 13,
      "outputs": [
        {
          "output_type": "stream",
          "name": "stdout",
          "text": [
            "True\n"
          ]
        }
      ]
    },
    {
      "cell_type": "code",
      "source": [
        "'''\n",
        "Question 5\n",
        "Given an integer array nums, find three numbers whose product is maximum and return the maximum product.\n",
        "Example 1:\n",
        "Input: nums = [1,2,3]\n",
        "Output: 6\n",
        "'''\n",
        "nums=[1,2,3]\n",
        "nums.sort()\n",
        "#nums.sort()\n",
        "l1 = nums[-1]*nums[-2]*nums[-3]\n",
        "l2 = nums[0]*nums[1]*nums[-1]\n",
        "print(max(l1,l2))"
      ],
      "metadata": {
        "colab": {
          "base_uri": "https://localhost:8080/"
        },
        "id": "8yrJJjxjOCh7",
        "outputId": "598ff371-ce4d-40c9-c0e6-6aafbcd28f92"
      },
      "execution_count": 27,
      "outputs": [
        {
          "output_type": "stream",
          "name": "stdout",
          "text": [
            "6\n"
          ]
        }
      ]
    },
    {
      "cell_type": "code",
      "source": [
        "'''\n",
        "Question 6\n",
        "Given an array of integers nums which is sorted in ascending order, and an integer target,\n",
        "write a function to search target in nums. If target exists, then return its index. Otherwise,\n",
        "return -1.\n",
        "You must write an algorithm with O(log n) runtime complexity.\n",
        "Input: nums = [-1,0,3,5,9,12], target = 9\n",
        "Output: 4\n",
        "Explanation: 9 exists in nums and its index is 4\n",
        "'''\n",
        "def seatar(nums,t):\n",
        "  if t in nums:\n",
        "    return nums.index(t)\n",
        "  else:\n",
        "    return False\n",
        "nums=[-1,0,3,5,9,12]\n",
        "t=9\n",
        "ans=seatar(nums,t)\n",
        "print(ans)"
      ],
      "metadata": {
        "colab": {
          "base_uri": "https://localhost:8080/"
        },
        "id": "SdJSHU_sRZcp",
        "outputId": "78cfd670-aeb6-42e7-ea6b-616618ac967f"
      },
      "execution_count": 41,
      "outputs": [
        {
          "output_type": "stream",
          "name": "stdout",
          "text": [
            "4\n"
          ]
        }
      ]
    },
    {
      "cell_type": "code",
      "source": [
        "'''\n",
        "Question 7\n",
        "An array is monotonic if it is either monotone increasing or monotone decreasing.\n",
        "An array nums is monotone increasing if for all i <= j, nums[i] <= nums[j]. An array nums is\n",
        "monotone decreasing if for all i <= j, nums[i] >= nums[j].\n",
        "Given an integer array nums, return true if the given array is monotonic, or false otherwise.\n",
        "\n",
        "Example 1:\n",
        "Input: nums = [1,2,2,3]\n",
        "Output: true\n",
        "'''\n",
        "def montonic(nums,n):\n",
        "  for i in range(1,n):\n",
        "    if nums[i]>=nums[i-1] and nums[i]<=nums[i-1]:\n",
        "      return False\n",
        "    else:\n",
        "      return True\n",
        "nums=[1,2,2,3]\n",
        "n=len(nums)\n",
        "r=montonic(nums,n)\n",
        "print(r)"
      ],
      "metadata": {
        "colab": {
          "base_uri": "https://localhost:8080/"
        },
        "id": "5ne1hOv8eKRq",
        "outputId": "b71997c8-0bc4-4373-d182-5fe3de6dd5ac"
      },
      "execution_count": 60,
      "outputs": [
        {
          "output_type": "stream",
          "name": "stdout",
          "text": [
            "True\n"
          ]
        }
      ]
    },
    {
      "cell_type": "code",
      "source": [
        "'''\n",
        "Question 8\n",
        "You are given an integer array nums and an integer k.\n",
        "In one operation, you can choose any index i where 0 <= i < nums.length and change nums[i] to nums[i] + x where x is an integer from the range [-k, k]. You can apply this operation at most once for each index i.\n",
        "The score of nums is the difference between the maximum and minimum elements in nums.\n",
        "Return the minimum score of nums after applying the mentioned operation at most once for each index in it.\n",
        "Example 1:\n",
        "Input: nums = [1], k = 0\n",
        "Output: 0\n",
        "Explanation: The score is max(nums) - min(nums) = 1 - 1 = 0.\n",
        "'''\n",
        "def smallestRangeI(nums: List[int], k: int) -> int:\n",
        "        x=max(nums)\n",
        "        y=min(nums)\n",
        "        return max(0,(x-k)-(y+k))\n",
        "nums=[1]\n",
        "k=0\n",
        "ans=smallestRangeI(nums,k)\n",
        "print(ans)\n"
      ],
      "metadata": {
        "colab": {
          "base_uri": "https://localhost:8080/"
        },
        "id": "L2c1vYbThbkE",
        "outputId": "76796657-8c42-462e-e841-0b9da35e6d28"
      },
      "execution_count": 61,
      "outputs": [
        {
          "output_type": "stream",
          "name": "stdout",
          "text": [
            "0\n"
          ]
        }
      ]
    }
  ]
}