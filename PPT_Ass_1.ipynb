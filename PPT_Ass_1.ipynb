{
  "nbformat": 4,
  "nbformat_minor": 0,
  "metadata": {
    "colab": {
      "provenance": []
    },
    "kernelspec": {
      "name": "python3",
      "display_name": "Python 3"
    },
    "language_info": {
      "name": "python"
    }
  },
  "cells": [
    {
      "cell_type": "code",
      "source": [
        "'''\n",
        "💡 **Q1.** Given an array of integers nums and an integer target, return indices of the two numbers such that they add up to target.\n",
        "You may assume that each input would have exactly one solution, and you may not use the same element twice.\n",
        "You can return the answer in any order.\n",
        "**Example:**\n",
        "Input: nums = [2,7,11,15], target = 9\n",
        "Output0 [0,1]\n",
        "**Explanation:** Because nums[0] + nums[1] == 9, we return [0, 1][\n",
        "'''\n",
        "n=list(map(int,input(\"Enter the list values:\").split()))\n",
        "t=int(input(\"Enter the target value\"))\n",
        "#n=[2,7,11,15]\n",
        "#t=9\n",
        "l=len(n)\n",
        "for i in range(l-1):\n",
        "  for j in range(i+1,l):\n",
        "    if n[i]+n[j] == t:\n",
        "      print([i,j])\n",
        "      break"
      ],
      "metadata": {
        "colab": {
          "base_uri": "https://localhost:8080/"
        },
        "id": "hhxKG_7coAhw",
        "outputId": "1a716f9c-b46b-4811-fe73-1b4b710b0834"
      },
      "execution_count": null,
      "outputs": [
        {
          "output_type": "stream",
          "name": "stdout",
          "text": [
            "Enter the list values:2 7 11 15\n",
            "Enter the target value 9\n",
            "[0, 1]\n"
          ]
        }
      ]
    },
    {
      "cell_type": "code",
      "source": [
        "'''\n",
        "💡 **Q2.** Given an integer array nums and an integer val, remove all occurrences of val in nums in-place. The order of the elements may be changed. \n",
        "Then return the number of elements in nums which are not equal to val.\n",
        "Consider the number of elements in nums which are not equal to val be k, to get accepted, you need to do the following things:\n",
        "- Change the array nums such that the first k elements of nums contain the elements which are not equal to val. The remaining elements of nums are not important as well as the size of nums.\n",
        "- Return k.\n",
        "**Example :**\n",
        "Input: nums = [3,2,2,3], val = 3\n",
        "Output: 2, nums = [2,2,_*,_*]\n",
        "\n",
        "**Explanation:** Your function should return k = 2, with the first two elements of nums being 2. It does not matter what you leave beyond the returned k (hence they are underscores)[\n",
        "</aside>\n",
        "'''\n",
        "nums = [3, 2, 2, 3]\n",
        "val = 3\n",
        "k = 0  # Number of elements not equal to val\n",
        "n = len(nums)\n",
        "for i in range(n):\n",
        "    if nums[i] != val:\n",
        "        nums[k] = nums[i]  # Move the non-val element to the front\n",
        "        k += 1\n",
        "print(k)\n",
        "print(nums[:k] + ['_*'] * (n - k))  # Print the modified array up to index k, and placeholders for remaining elements"
      ],
      "metadata": {
        "colab": {
          "base_uri": "https://localhost:8080/"
        },
        "id": "Kf7PN-VyrjUO",
        "outputId": "dfcc288b-ec03-458c-c1e8-27a699cfdc39"
      },
      "execution_count": null,
      "outputs": [
        {
          "output_type": "stream",
          "name": "stdout",
          "text": [
            "2\n",
            "[2, 2, '_*', '_*']\n"
          ]
        }
      ]
    },
    {
      "cell_type": "code",
      "source": [
        "'''\n",
        "💡 **Q3.** Given a sorted array of distinct integers and a target value, return the index if the target is found. If not, return the index where it would be if it were inserted in order.\n",
        "You must write an algorithm with O(log n) runtime complexity.\n",
        "**Example 1:**\n",
        "Input: nums = [1,3,5,6], target = 5\n",
        "Output: 2\n",
        "'''\n",
        "nums = [1, 3, 5, 6]\n",
        "target = 5\n",
        "low, high = 0, len(nums) - 1\n",
        "while low <= high:\n",
        "    mid = (low + high) // 2\n",
        "    if nums[mid] == target:\n",
        "        index = mid\n",
        "        break\n",
        "    elif nums[mid] < target:\n",
        "        low = mid + 1\n",
        "    else:\n",
        "        high = mid - 1\n",
        "else:\n",
        "    index = low\n",
        "print(index)"
      ],
      "metadata": {
        "colab": {
          "base_uri": "https://localhost:8080/"
        },
        "id": "5pL0TrZnwO2d",
        "outputId": "f3f00ac7-d428-44a5-a057-7b2ec7b27ce7"
      },
      "execution_count": null,
      "outputs": [
        {
          "output_type": "stream",
          "name": "stdout",
          "text": [
            "2\n"
          ]
        }
      ]
    },
    {
      "cell_type": "code",
      "source": [
        "'''\n",
        "💡 **Q4.** You are given a large integer represented as an integer array digits, where each digits[i] \n",
        "is the ith digit of the integer. The digits are ordered from most significant to least significant in left-to-right order. The large integer does not contain any leading 0's.\n",
        "Increment the large integer by one and return the resulting array of digits.\n",
        "**Example 1:**\n",
        "Input: digits = [1,2,3]\n",
        "Output: [1,2,4]\n",
        "**Explanation:** The array represents the integer 123.\n",
        "Incrementing by one gives 123 + 1 = 124.\n",
        "Thus, the result should be [1,2,4].\n",
        "'''\n",
        "def plusOne(digits):\n",
        "    carry = 0\n",
        "    n = len(digits)\n",
        "    for i in reversed(range(n)):\n",
        "        val = digits[i] + carry + 1 if i == n-1 else digits[i] + carry\n",
        "        if val <= 9:\n",
        "            digits[i] = val\n",
        "            carry = 0\n",
        "        else:\n",
        "            carry = val // 10\n",
        "            val -= 10\n",
        "            digits[i] = val\n",
        "    if carry:\n",
        "        digits.insert(0, carry)\n",
        "    return digits\n",
        "result = plusOne([1, 2, 3])\n",
        "print(result)"
      ],
      "metadata": {
        "colab": {
          "base_uri": "https://localhost:8080/"
        },
        "id": "FS1afp-dx249",
        "outputId": "d34343aa-545e-4461-a91f-6ba2c8ad6a52"
      },
      "execution_count": 8,
      "outputs": [
        {
          "output_type": "stream",
          "name": "stdout",
          "text": [
            "[1, 2, 4]\n"
          ]
        }
      ]
    },
    {
      "cell_type": "code",
      "source": [
        "#Q5\n",
        "'''\n",
        "💡 **Q5.** You are given two integer arrays nums1 and nums2, sorted in non-decreasing order, and two integers m and n, representing the number of elements in nums1 and nums2 respectively.\n",
        "Merge nums1 and nums2 into a single array sorted in non-decreasing order.\n",
        "The final sorted array should not be returned by the function, but instead be stored inside the array nums1. To accommodate this, nums1 has a length of m + n, where the first m elements denote the elements that should be merged, and the last n elements are set to 0 and should be ignored. nums2 has a length of n.\n",
        "**Example 1:**\n",
        "Input: nums1 = [1,2,3,0,0,0], m = 3, nums2 = [2,5,6], n = 3\n",
        "Output: [1,2,2,3,5,6]\n",
        "**Explanation:** The arrays we are merging are [1,2,3] and [2,5,6].\n",
        "The result of the merge is [1,2,2,3,5,6] with the underlined elements coming from nums1.\n",
        "'''\n",
        "l1=[1,2,3,0,0]\n",
        "l2=[2,5,6]\n",
        "l3=l1+l2\n",
        "ans=[]\n",
        "for i in l3:\n",
        "    if i!= 0:\n",
        "       ans.append(i) \n",
        "ans.sort() \n",
        "print(ans)"
      ],
      "metadata": {
        "colab": {
          "base_uri": "https://localhost:8080/"
        },
        "id": "vgPuH1Pe9qdS",
        "outputId": "1262b987-df06-4dee-9328-07390588c376"
      },
      "execution_count": null,
      "outputs": [
        {
          "output_type": "stream",
          "name": "stdout",
          "text": [
            "[1, 2, 2, 3, 5, 6]\n"
          ]
        }
      ]
    },
    {
      "cell_type": "code",
      "source": [
        "#Q6\n",
        "'''\n",
        "💡 **Q6.** Given an integer array nums, return true if any value appears at least twice in the array, and return false if every element is distinct.\n",
        "**Example 1:**\n",
        "Input: nums = [1,2,3,1]\n",
        "Output: true\n",
        "'''\n",
        "L=[1,2,3,1]\n",
        "S=set(L) \n",
        "l1=len(L) \n",
        "l2=len(S) \n",
        "if l1==l2:\n",
        "    print('False') \n",
        "else:\n",
        "    print('True')"
      ],
      "metadata": {
        "colab": {
          "base_uri": "https://localhost:8080/"
        },
        "id": "uLIlkCbb5bN8",
        "outputId": "44145d03-1724-467e-d3c9-82e549edd5e5"
      },
      "execution_count": null,
      "outputs": [
        {
          "output_type": "stream",
          "name": "stdout",
          "text": [
            "True\n"
          ]
        }
      ]
    },
    {
      "cell_type": "code",
      "source": [
        "#Q7\n",
        "'''\n",
        "💡 **Q7.** Given an integer array nums, move all 0's to the end of it while maintaining the relative order of the nonzero elements.\n",
        "Note that you must do this in-place without making a copy of the array.\n",
        "**Example 1:**\n",
        "Input: nums = [0,1,0,3,12]\n",
        "Output: [1,3,12,0,0]\n",
        "'''\n",
        "n=list(map(int,input(\"Enter the numbers\").split()))\n",
        "#print(n) \n",
        "ans=[i for i in n if i != 0] + [i for i in n if i == 0]\n",
        "print(ans)"
      ],
      "metadata": {
        "colab": {
          "base_uri": "https://localhost:8080/"
        },
        "id": "Nr8Tx1Cs0TXn",
        "outputId": "38134574-6cd6-48a3-8ce7-157300ce5a50"
      },
      "execution_count": null,
      "outputs": [
        {
          "output_type": "stream",
          "name": "stdout",
          "text": [
            "Enter the numbers0 0 9\n",
            "[9, 0, 0]\n"
          ]
        }
      ]
    },
    {
      "cell_type": "code",
      "source": [
        "'''\n",
        "💡 Q8.You have a set of integers s, which originally contains all the numbers from 1 to n. Unfortunately, due to some error, one of the numbers in s got duplicated to another number in the set, which results in repetition of one number and loss of another number.\n",
        "You are given an integer array nums representing the data status of this set after the error.\n",
        "Find the number that occurs twice and the number that is missing and return them in the form of an array.\n",
        "**Example 1:**\n",
        "Input: nums = [1,2,2,4]\n",
        "Output: [2,3]\n",
        "'''\n",
        "def findErrorNums(nums):\n",
        "    N, dupe = len(nums), 0\n",
        "    seen, sumN = [0] * (N+1), N * (N+1) // 2\n",
        "    for num in nums:\n",
        "        sumN -= num\n",
        "        if seen[num]:\n",
        "            dupe = num\n",
        "        seen[num] += 1\n",
        "    return [dupe, sumN + dupe]\n",
        "nums=[1,2,2,4]\n",
        "findErrorNums(nums)"
      ],
      "metadata": {
        "id": "oXDUycmYYE6p",
        "colab": {
          "base_uri": "https://localhost:8080/"
        },
        "outputId": "d9eaeec3-867f-45e6-ea0a-e6c6aef20739"
      },
      "execution_count": 5,
      "outputs": [
        {
          "output_type": "execute_result",
          "data": {
            "text/plain": [
              "[2, 3]"
            ]
          },
          "metadata": {},
          "execution_count": 5
        }
      ]
    }
  ]
}