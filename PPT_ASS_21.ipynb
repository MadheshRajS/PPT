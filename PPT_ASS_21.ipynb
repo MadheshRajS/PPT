{
  "nbformat": 4,
  "nbformat_minor": 0,
  "metadata": {
    "colab": {
      "provenance": []
    },
    "kernelspec": {
      "name": "python3",
      "display_name": "Python 3"
    },
    "language_info": {
      "name": "python"
    }
  },
  "cells": [
    {
      "cell_type": "code",
      "source": [
        "#1\n",
        "class TreeNode:\n",
        "    def __init__(self, val):\n",
        "        self.val = val\n",
        "        self.left = None\n",
        "        self.right = None\n",
        "def inorder_traversal(root, values):\n",
        "    if root is None:\n",
        "        return\n",
        "    inorder_traversal(root.left, values)\n",
        "    values.append(root.val)\n",
        "    inorder_traversal(root.right, values)\n",
        "def convert_to_bst(root, values):\n",
        "    if root is None:\n",
        "        return\n",
        "    convert_to_bst(root.left, values)\n",
        "    root.val = values[0]\n",
        "    values.pop(0)\n",
        "    convert_to_bst(root.right, values)\n",
        "def binary_tree_to_bst(root):\n",
        "    if root is None:\n",
        "        return None\n",
        "    # Step 1: Perform an inorder traversal to get the values of the nodes\n",
        "    values = []\n",
        "    inorder_traversal(root, values)\n",
        "    # Step 2: Sort the values to get them in ascending order\n",
        "    values.sort()\n",
        "    # Step 3: Convert the binary tree to a binary search tree\n",
        "    convert_to_bst(root, values)\n",
        "# Test the function with the given input\n",
        "root = TreeNode(10)\n",
        "root.left = TreeNode(2)\n",
        "root.right = TreeNode(7)\n",
        "root.left.left = TreeNode(8)\n",
        "root.left.right = TreeNode(4)\n",
        "binary_tree_to_bst(root)\n",
        "# Printing the converted binary search tree\n",
        "def print_inorder(root):\n",
        "    if root is None:\n",
        "        return\n",
        "    print_inorder(root.left)\n",
        "    print(root.val, end=\" \")\n",
        "    print_inorder(root.right)\n",
        "print_inorder(root)"
      ],
      "metadata": {
        "colab": {
          "base_uri": "https://localhost:8080/"
        },
        "id": "yKNxbRjfATAG",
        "outputId": "58f58a7c-cac7-43a6-d318-59af4f36049e"
      },
      "execution_count": 46,
      "outputs": [
        {
          "output_type": "stream",
          "name": "stdout",
          "text": [
            "2 4 7 8 10 "
          ]
        }
      ]
    },
    {
      "cell_type": "code",
      "source": [
        "#2\n",
        "class TreeNode:\n",
        "    def __init__(self, val):\n",
        "        self.val = val\n",
        "        self.left = None\n",
        "        self.right = None\n",
        "def find_lca(root, node1, node2):\n",
        "    if root is None:\n",
        "        return None\n",
        "    if root.val > node1 and root.val > node2:\n",
        "        return find_lca(root.left, node1, node2)\n",
        "    elif root.val < node1 and root.val < node2:\n",
        "        return find_lca(root.right, node1, node2)\n",
        "    else:\n",
        "        return root\n",
        "def find_distance(root, node, distance):\n",
        "    if root is None:\n",
        "        return -1\n",
        "    if root.val == node:\n",
        "        return distance\n",
        "    left_distance = find_distance(root.left, node, distance + 1)\n",
        "    if left_distance != -1:\n",
        "        return left_distance\n",
        "    right_distance = find_distance(root.right, node, distance + 1)\n",
        "    return right_distance\n",
        "def distance_between_nodes(root, node1, node2):\n",
        "    lca = find_lca(root, node1, node2)\n",
        "    distance_node1 = find_distance(lca, node1, 0)\n",
        "    distance_node2 = find_distance(lca, node2, 0)\n",
        "    return distance_node1 + distance_node2\n",
        "# Test the function with the given input\n",
        "root = TreeNode(8)\n",
        "root.left = TreeNode(3)\n",
        "root.right = TreeNode(10)\n",
        "root.left.left = TreeNode(1)\n",
        "root.left.right = TreeNode(6)\n",
        "root.left.right.left = TreeNode(4)\n",
        "root.left.right.right = TreeNode(7)\n",
        "root.right.right = TreeNode(14)\n",
        "root.right.right.left = TreeNode(13)\n",
        "node1 = 6\n",
        "node2 = 14\n",
        "print(\"The distance between the two keys =\", distance_between_nodes(root, node1, node2))"
      ],
      "metadata": {
        "colab": {
          "base_uri": "https://localhost:8080/"
        },
        "id": "Batk7y1OAfFj",
        "outputId": "052f0d7c-4514-49d3-d202-8bf42c84044d"
      },
      "execution_count": 47,
      "outputs": [
        {
          "output_type": "stream",
          "name": "stdout",
          "text": [
            "The distance between the two keys = 4\n"
          ]
        }
      ]
    },
    {
      "cell_type": "code",
      "source": [
        "#3\n",
        "class TreeNode:\n",
        "    def __init__(self, val):\n",
        "        self.val = val\n",
        "        self.left = None\n",
        "        self.right = None\n",
        "class DoublyListNode:\n",
        "    def __init__(self, val):\n",
        "        self.val = val\n",
        "        self.prev = None\n",
        "        self.next = None\n",
        "def binary_tree_to_dll(root):\n",
        "    if not root:\n",
        "        return None\n",
        "    # Recursively convert left subtree\n",
        "    left_head = binary_tree_to_dll(root.left)\n",
        "    # Create a new DoublyListNode for the current root\n",
        "    current_node = DoublyListNode(root.val)\n",
        "    # Find the rightmost node of the left subtree\n",
        "    left_tail = left_head\n",
        "    if left_tail:\n",
        "        while left_tail.next:\n",
        "            left_tail = left_tail.next\n",
        "    # Connect the rightmost node of the left subtree to the current node\n",
        "    if left_tail:\n",
        "        left_tail.next = current_node\n",
        "        current_node.prev = left_tail\n",
        "    else:\n",
        "        left_head = current_node\n",
        "    # Recursively convert right subtree\n",
        "    right_head = binary_tree_to_dll(root.right)\n",
        "    # Connect the current node to the leftmost node of the right subtree\n",
        "    current_node.next = right_head\n",
        "    if right_head:\n",
        "        right_head.prev = current_node\n",
        "    return left_head\n",
        "def print_doubly_linked_list(head):\n",
        "    current = head\n",
        "    while current:\n",
        "        print(current.val, end=\" \")\n",
        "        current = current.next\n",
        "    print()\n",
        "# Test the function with the given input\n",
        "root = TreeNode(10)\n",
        "root.left = TreeNode(5)\n",
        "root.right = TreeNode(20)\n",
        "root.right.left = TreeNode(30)\n",
        "root.right.right = TreeNode(35)\n",
        "head = binary_tree_to_dll(root)\n",
        "print_doubly_linked_list(head)"
      ],
      "metadata": {
        "colab": {
          "base_uri": "https://localhost:8080/"
        },
        "id": "HZF9GMXBAfhH",
        "outputId": "8c76d918-849d-4e74-dab3-3fbd2db0bf57"
      },
      "execution_count": 48,
      "outputs": [
        {
          "output_type": "stream",
          "name": "stdout",
          "text": [
            "5 10 30 20 35 \n"
          ]
        }
      ]
    },
    {
      "cell_type": "code",
      "source": [
        "#4\n",
        "class TreeNode:\n",
        "    def __init__(self, val):\n",
        "        self.val = val\n",
        "        self.left = None\n",
        "        self.right = None\n",
        "        self.next = None\n",
        "def connect_nodes_at_same_level(root):\n",
        "    if not root:\n",
        "        return\n",
        "    queue = [root]\n",
        "    while queue:\n",
        "        level_size = len(queue)\n",
        "        prev_node = None\n",
        "        for i in range(level_size):\n",
        "            current_node = queue.pop(0)\n",
        "            if prev_node:\n",
        "                prev_node.next = current_node\n",
        "            if current_node.left:\n",
        "                queue.append(current_node.left)\n",
        "            if current_node.right:\n",
        "                queue.append(current_node.right)\n",
        "            prev_node = current_node\n",
        "        prev_node.next = None\n",
        "def print_linked_list_at_same_level(root):\n",
        "    current = root\n",
        "    while current:\n",
        "        print(current.val, end=\" → \")\n",
        "        current = current.next\n",
        "    print(\"-1\")\n",
        "# Test the function with the given input\n",
        "root = TreeNode(1)\n",
        "root.left = TreeNode(2)\n",
        "root.right = TreeNode(3)\n",
        "root.left.left = TreeNode(4)\n",
        "root.left.right = TreeNode(5)\n",
        "root.right.left = TreeNode(6)\n",
        "root.right.right = TreeNode(7)\n",
        "connect_nodes_at_same_level(root)\n",
        "print_linked_list_at_same_level(root)\n",
        "print_linked_list_at_same_level(root.left)\n",
        "print_linked_list_at_same_level(root.left.left)"
      ],
      "metadata": {
        "colab": {
          "base_uri": "https://localhost:8080/"
        },
        "id": "eF6PL5UmBEmn",
        "outputId": "462d867c-b657-448b-cf49-54730c0fee39"
      },
      "execution_count": 49,
      "outputs": [
        {
          "output_type": "stream",
          "name": "stdout",
          "text": [
            "1 → -1\n",
            "2 → 3 → -1\n",
            "4 → 5 → 6 → 7 → -1\n"
          ]
        }
      ]
    }
  ]
}