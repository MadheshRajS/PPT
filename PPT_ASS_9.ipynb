{
  "nbformat": 4,
  "nbformat_minor": 0,
  "metadata": {
    "colab": {
      "provenance": []
    },
    "kernelspec": {
      "name": "python3",
      "display_name": "Python 3"
    },
    "language_info": {
      "name": "python"
    }
  },
  "cells": [
    {
      "cell_type": "code",
      "execution_count": 1,
      "metadata": {
        "colab": {
          "base_uri": "https://localhost:8080/"
        },
        "id": "335lxIWoTz-V",
        "outputId": "9db9fb48-9972-4ea8-e1bc-0f6210023313"
      },
      "outputs": [
        {
          "output_type": "stream",
          "name": "stdout",
          "text": [
            "True\n"
          ]
        }
      ],
      "source": [
        "'''\n",
        "<aside>\n",
        "💡 **Question 1**\n",
        "\n",
        "Given an integer `n`, return *`true` if it is a power of two. Otherwise, return `false`*.\n",
        "\n",
        "An integer `n` is a power of two, if there exists an integer `x` such that `n == 2x`.\n",
        "\n",
        "**Example 1:**\n",
        "Input: n = \n",
        "\n",
        "Output: true\n",
        "**Example 2:**\n",
        "Input: n = 16 \n",
        "Output: true\n",
        "**Example 3*\n",
        "Input: n = 3 \n",
        "Output: false\n",
        "</aside>\n",
        "'''\n",
        "def isPowerOfTwo(n):\n",
        "    if n <= 0:\n",
        "        return False\n",
        "    # Count the number of set bits in n\n",
        "    count = 0\n",
        "    while n > 0:\n",
        "        count += n & 1  # Check the least significant bit\n",
        "        n >>= 1  # Right shift n by 1 bit\n",
        "    return count == 1\n",
        "print(isPowerOfTwo(1)) "
      ]
    },
    {
      "cell_type": "code",
      "source": [
        "'''\n",
        "<aside>\n",
        "💡 **Question 2**\n",
        "Given a number n, find the sum of the first natural numbers.\n",
        "**Example 1:**\n",
        "Input: n = 3 \n",
        "Output: 6\n",
        "**Example 2:**\n",
        "Input  : 5 \n",
        "Output : 15\n",
        "</aside>\n",
        "'''\n",
        "def sumOfNaturalNumbers(n):\n",
        "    if n == 0:\n",
        "        return 0\n",
        "    else:\n",
        "        return n + sumOfNaturalNumbers(n - 1)\n",
        "print(sumOfNaturalNumbers(3)) "
      ],
      "metadata": {
        "colab": {
          "base_uri": "https://localhost:8080/"
        },
        "id": "tJ2yM0lxUFxM",
        "outputId": "cb64e5aa-ceb6-4854-f418-fb823c0a6cdb"
      },
      "execution_count": 2,
      "outputs": [
        {
          "output_type": "stream",
          "name": "stdout",
          "text": [
            "6\n"
          ]
        }
      ]
    },
    {
      "cell_type": "code",
      "source": [
        "'''\n",
        "<aside>\n",
        "💡 **Question 3**\n",
        "****Given a positive integer, N. Find the factorial of N. \n",
        "**Example 1:**\n",
        "Input: N = 5 \n",
        "Output: 120\n",
        "**Example 2:**\n",
        "Input: N = 4\n",
        "Output: 24\n",
        "</aside>\n",
        "'''\n",
        "def factorial(N):\n",
        "    if N == 0:\n",
        "        return 1\n",
        "    else:\n",
        "        return N * factorial(N - 1)\n",
        "print(factorial(5))"
      ],
      "metadata": {
        "colab": {
          "base_uri": "https://localhost:8080/"
        },
        "id": "EUQxa5_oUbj3",
        "outputId": "7cbf435d-f748-46f4-d924-0a68d7eeff1d"
      },
      "execution_count": 3,
      "outputs": [
        {
          "output_type": "stream",
          "name": "stdout",
          "text": [
            "120\n"
          ]
        }
      ]
    },
    {
      "cell_type": "code",
      "source": [
        "'''\n",
        "<aside>\n",
        "💡 **Question 4**\n",
        "Given a number N and a power P, the task is to find the exponent of this number raised to the given power, i.e. N^P.\n",
        "**Example 1 :** \n",
        "Input: N = 5, P = 2\n",
        "Output: 25\n",
        "**Example 2 :**\n",
        "Input: N = 2, P = 5\n",
        "Output: 32\n",
        "'''\n",
        "def power(N, P):\n",
        "    if P == 0:\n",
        "        return 1\n",
        "    else:\n",
        "        return N * power(N, P - 1)\n",
        "print(power(5, 2)) "
      ],
      "metadata": {
        "colab": {
          "base_uri": "https://localhost:8080/"
        },
        "id": "QNKKf2gkUpvX",
        "outputId": "daec60b2-3075-47ab-ddad-94b29c0f9cff"
      },
      "execution_count": 4,
      "outputs": [
        {
          "output_type": "stream",
          "name": "stdout",
          "text": [
            "25\n"
          ]
        }
      ]
    },
    {
      "cell_type": "code",
      "source": [
        "'''\n",
        "<aside>\n",
        "💡 **Question 5**\n",
        "Given an array of integers **arr**, the task is to find maximum element of that array using recursion.\n",
        "**Example 1:**\n",
        "Input: arr = {1, 4, 3, -5, -4, 8, 6};\n",
        "Output: 8\n",
        "**Example 2:**\n",
        "Input: arr = {1, 4, 45, 6, 10, -8};\n",
        "Output: 45\n",
        "</aside>\n",
        "'''\n",
        "def find_maximum(arr, n):\n",
        "    if n == 1:\n",
        "        return arr[0]\n",
        "    else:\n",
        "        return max(arr[n-1], find_maximum(arr, n-1))\n",
        "arr1 = [1, 4, 3, -5, -4, 8, 6]\n",
        "print(find_maximum(arr1, len(arr1)))"
      ],
      "metadata": {
        "colab": {
          "base_uri": "https://localhost:8080/"
        },
        "id": "KK2ZFMpjU24P",
        "outputId": "536efc09-2034-453c-ccea-31abe3649269"
      },
      "execution_count": 5,
      "outputs": [
        {
          "output_type": "stream",
          "name": "stdout",
          "text": [
            "8\n"
          ]
        }
      ]
    },
    {
      "cell_type": "code",
      "source": [
        "'''\n",
        "<aside>\n",
        "💡 **Question 6**\n",
        "Given first term (a), common difference (d) and a integer N of the Arithmetic Progression series, the task is to find Nth term of the series.\n",
        "**Example 1:**\n",
        "Input : a = 2 d = 1 N = 5\n",
        "Output : 6\n",
        "The 5th term of the series is : 6\n",
        "**Example 2:**\n",
        "Input : a = 5 d = 2 N = 10\n",
        "Output : 23\n",
        "The 10th term of the series is : 23\n",
        "</aside>\n",
        "'''\n",
        "def find_nth_term(a, d, n):\n",
        "    if n == 1:\n",
        "        return a\n",
        "    else:\n",
        "        return find_nth_term(a + d, d, n-1)\n",
        "a1 = 2\n",
        "d1 = 1\n",
        "n1 = 5\n",
        "print(find_nth_term(a1, d1, n1))"
      ],
      "metadata": {
        "colab": {
          "base_uri": "https://localhost:8080/"
        },
        "id": "pA0WZRtMVF-9",
        "outputId": "e0735dc8-73ad-46ab-f3f8-abf236fbaba7"
      },
      "execution_count": 6,
      "outputs": [
        {
          "output_type": "stream",
          "name": "stdout",
          "text": [
            "6\n"
          ]
        }
      ]
    },
    {
      "cell_type": "code",
      "source": [
        "'''\n",
        "<aside>\n",
        "💡 **Question 7**\n",
        "Given a string S, the task is to write a program to print all permutations of a given string.\n",
        "**Example 1:**\n",
        "***Input:***\n",
        "*S = “ABC”*\n",
        "***Output:***\n",
        "*“ABC”, “ACB”, “BAC”, “BCA”, “CBA”, “CAB”*\n",
        "**Example 2:**\n",
        "***Input:***\n",
        "*S = “XY”*\n",
        "***Output:***\n",
        "*“XY”, “YX”*\n",
        "</aside>\n",
        "'''\n",
        "def permutations(s):\n",
        "    # Base case: If the string has only one character, return it as a single permutation\n",
        "    if len(s) == 1:\n",
        "        return [s]\n",
        "    # Recursive case: Generate permutations by fixing each character at the beginning and permuting the rest\n",
        "    result = []\n",
        "    for i in range(len(s)):\n",
        "        char = s[i]\n",
        "        rest = s[:i] + s[i+1:]\n",
        "        for perm in permutations(rest):\n",
        "            result.append(char + perm)\n",
        "    return result\n",
        "s1 = \"ABC\"\n",
        "print(permutations(s1)) "
      ],
      "metadata": {
        "colab": {
          "base_uri": "https://localhost:8080/"
        },
        "id": "81HET3QOVSnr",
        "outputId": "e2b9bf62-06c5-490b-b8a9-c2ee1b3f975f"
      },
      "execution_count": 7,
      "outputs": [
        {
          "output_type": "stream",
          "name": "stdout",
          "text": [
            "['ABC', 'ACB', 'BAC', 'BCA', 'CAB', 'CBA']\n"
          ]
        }
      ]
    },
    {
      "cell_type": "code",
      "source": [
        "'''\n",
        "<aside>\n",
        "💡 **Question 8**\n",
        "Given an array, find a product of all array elements.\n",
        "**Example 1:**\n",
        "Input  : arr[] = {1, 2, 3, 4, 5}\n",
        "Output : 120\n",
        "**Example 2:**\n",
        "Input  : arr[] = {1, 6, 3}\n",
        "Output : 18\n",
        "</aside>\n",
        "'''\n",
        "def array_product(arr):\n",
        "    # Base case: If the array is empty, return 1\n",
        "    if len(arr) == 0:\n",
        "        return 1\n",
        "    # Recursive case: Multiply the first element with the product of the rest of the array\n",
        "    return arr[0] * array_product(arr[1:])\n",
        "arr1 = [1, 2, 3, 4, 5]\n",
        "print(array_product(arr1)) "
      ],
      "metadata": {
        "colab": {
          "base_uri": "https://localhost:8080/"
        },
        "id": "OGewlwDlVmqq",
        "outputId": "95b12b1c-029c-4913-c501-d97faa719f46"
      },
      "execution_count": 8,
      "outputs": [
        {
          "output_type": "stream",
          "name": "stdout",
          "text": [
            "120\n"
          ]
        }
      ]
    }
  ]
}