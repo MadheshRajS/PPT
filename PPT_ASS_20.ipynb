{
  "nbformat": 4,
  "nbformat_minor": 0,
  "metadata": {
    "colab": {
      "provenance": []
    },
    "kernelspec": {
      "name": "python3",
      "display_name": "Python 3"
    },
    "language_info": {
      "name": "python"
    }
  },
  "cells": [
    {
      "cell_type": "code",
      "source": [
        "#1\n",
        "class TreeNode:\n",
        "    def __init__(self, val=0, left=None, right=None):\n",
        "        self.val = val\n",
        "        self.left = left\n",
        "        self.right = right\n",
        "def maxSubtreeSum(root):\n",
        "    def findMaxSubtreeSum(node):\n",
        "        if not node:\n",
        "            return 0\n",
        "        # Recursively calculate sum of left and right subtrees\n",
        "        left_sum = findMaxSubtreeSum(node.left)\n",
        "        right_sum = findMaxSubtreeSum(node.right)\n",
        "        # Calculate sum of the current subtree\n",
        "        subtree_sum = left_sum + right_sum + node.val\n",
        "        # Update the maximum sum if needed\n",
        "        nonlocal max_sum\n",
        "        max_sum = max(max_sum, subtree_sum)\n",
        "        # Return the sum of the current subtree\n",
        "        return subtree_sum\n",
        "    # Initialize the maximum sum to a minimum value\n",
        "    max_sum = float('-inf')\n",
        "    # Call the recursive function on the root node\n",
        "    findMaxSubtreeSum(root)\n",
        "    return max_sum\n",
        "# Test the function with the given input\n",
        "root1 = TreeNode(1)\n",
        "root1.left = TreeNode(2)\n",
        "root1.right = TreeNode(3)\n",
        "root1.left.left = TreeNode(4)\n",
        "root1.left.right = TreeNode(5)\n",
        "root1.right.left = TreeNode(6)\n",
        "root1.right.right = TreeNode(7)\n",
        "print(maxSubtreeSum(root1))  # Output: 28\n",
        "root2 = TreeNode(1)\n",
        "root2.left = TreeNode(-2)\n",
        "root2.right = TreeNode(3)\n",
        "root2.left.left = TreeNode(4)\n",
        "root2.left.right = TreeNode(5)\n",
        "root2.right.left = TreeNode(-6)\n",
        "root2.right.right = TreeNode(2)\n",
        "print(maxSubtreeSum(root2))  # Output: 7"
      ],
      "metadata": {
        "colab": {
          "base_uri": "https://localhost:8080/"
        },
        "id": "-eU1ASMP8Fyf",
        "outputId": "7338c193-6666-435e-c2ca-4221137fa353"
      },
      "execution_count": 43,
      "outputs": [
        {
          "output_type": "stream",
          "name": "stdout",
          "text": [
            "28\n",
            "7\n"
          ]
        }
      ]
    },
    {
      "cell_type": "code",
      "source": [
        "#2\n",
        "class TreeNode:\n",
        "    def __init__(self, val):\n",
        "        self.val = val\n",
        "        self.left = None\n",
        "        self.right = None\n",
        "def insert(root, val):\n",
        "    if not root:\n",
        "        return TreeNode(val)\n",
        "    if val < root.val:\n",
        "        root.left = insert(root.left, val)\n",
        "    else:\n",
        "        root.right = insert(root.right, val)\n",
        "    return root\n",
        "def constructBST(level_order):\n",
        "    if not level_order:\n",
        "        return None\n",
        "    root = TreeNode(level_order[0])\n",
        "    for i in range(1, len(level_order)):\n",
        "        insert(root, level_order[i])\n",
        "    return root\n",
        "def printBST(root, level=0, prefix=\"Root: \"):\n",
        "    if root:\n",
        "        print(\" \" * (level * 4) + prefix + str(root.val))\n",
        "        if root.left or root.right:\n",
        "            printBST(root.left, level + 1, \"L --- \")\n",
        "            printBST(root.right, level + 1, \"R --- \")\n",
        "# Test the function with the given input\n",
        "level_order = [7, 4, 12, 3, 6, 8, 1, 5, 10]\n",
        "root = constructBST(level_order)\n",
        "printBST(root)"
      ],
      "metadata": {
        "colab": {
          "base_uri": "https://localhost:8080/"
        },
        "id": "wLywgJ558GS5",
        "outputId": "ec3c21ec-aec8-4ccc-de58-65bb410dcc99"
      },
      "execution_count": 44,
      "outputs": [
        {
          "output_type": "stream",
          "name": "stdout",
          "text": [
            "Root: 7\n",
            "    L --- 4\n",
            "        L --- 3\n",
            "            L --- 1\n",
            "        R --- 6\n",
            "            L --- 5\n",
            "    R --- 12\n",
            "        L --- 8\n",
            "            R --- 10\n"
          ]
        }
      ]
    },
    {
      "cell_type": "code",
      "source": [
        "#3\n",
        "from collections import deque\n",
        "class TreeNode:\n",
        "    def __init__(self, val):\n",
        "        self.val = val\n",
        "        self.left = None\n",
        "        self.right = None\n",
        "def isLevelOrderBST(arr):\n",
        "    if not arr:\n",
        "        return False\n",
        "    n = len(arr)\n",
        "    q = deque()\n",
        "    root = TreeNode(arr[0])\n",
        "    q.append(root)\n",
        "    i = 1\n",
        "    while i < n and len(q) > 0:\n",
        "        temp = q.popleft()\n",
        "        min_val = float('-inf') if not temp.left else temp.left.val\n",
        "        max_val = float('inf') if not temp.right else temp.right.val\n",
        "        if arr[i] < min_val or arr[i] > max_val:\n",
        "            return False\n",
        "        if i < n and arr[i] < temp.val:\n",
        "            temp.left = TreeNode(arr[i])\n",
        "            q.append(temp.left)\n",
        "            i += 1\n",
        "        if i < n and arr[i] > temp.val:\n",
        "            temp.right = TreeNode(arr[i])\n",
        "            q.append(temp.right)\n",
        "            i += 1\n",
        "    return True\n",
        "# Test the function with the given inputs\n",
        "arr1 = [7, 4, 12, 3, 6, 8, 1, 5, 10]\n",
        "arr2 = [11, 6, 13, 5, 12, 10]\n",
        "print(isLevelOrderBST(arr1))  # Output: True\n",
        "print(isLevelOrderBST(arr2))  # Output: False"
      ],
      "metadata": {
        "colab": {
          "base_uri": "https://localhost:8080/"
        },
        "id": "ywXgw1A88RVL",
        "outputId": "21f28b4b-d448-4269-fde1-eee6ff9d9c49"
      },
      "execution_count": 45,
      "outputs": [
        {
          "output_type": "stream",
          "name": "stdout",
          "text": [
            "True\n",
            "True\n"
          ]
        }
      ]
    }
  ]
}