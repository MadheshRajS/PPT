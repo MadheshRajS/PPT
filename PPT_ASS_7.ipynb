{
  "nbformat": 4,
  "nbformat_minor": 0,
  "metadata": {
    "colab": {
      "provenance": []
    },
    "kernelspec": {
      "name": "python3",
      "display_name": "Python 3"
    },
    "language_info": {
      "name": "python"
    }
  },
  "cells": [
    {
      "cell_type": "code",
      "execution_count": 1,
      "metadata": {
        "colab": {
          "base_uri": "https://localhost:8080/"
        },
        "id": "ALnOVt8oKdlL",
        "outputId": "c7b00254-5876-43bb-af25-6068887e2778"
      },
      "outputs": [
        {
          "output_type": "stream",
          "name": "stdout",
          "text": [
            "True\n",
            "False\n",
            "True\n"
          ]
        }
      ],
      "source": [
        "'''\n",
        "<aside>\n",
        "💡 **Question 1**\n",
        "Given two strings s and t, *determine if they are isomorphic*.\n",
        "Two strings s and t are isomorphic if the characters in s can be replaced to get t.\n",
        "All occurrences of a character must be replaced with another character while preserving the order of characters. No two characters may map to the same character, but a character may map to itself.\n",
        "**Example 1:**\n",
        "**Input:** s = \"egg\", t = \"add\"\n",
        "**Output:** true\n",
        "</aside>\n",
        "'''\n",
        "def is_isomorphic(s, t):\n",
        "    if len(s) != len(t):\n",
        "        return False\n",
        "    mapping_s = {}\n",
        "    mapping_t = {}\n",
        "    \n",
        "    for i in range(len(s)):\n",
        "        char_s = s[i]\n",
        "        char_t = t[i]\n",
        "        if char_s in mapping_s:\n",
        "            if mapping_s[char_s] != char_t:\n",
        "                return False\n",
        "        else:\n",
        "            mapping_s[char_s] = char_t\n",
        "        \n",
        "        if char_t in mapping_t:\n",
        "            if mapping_t[char_t] != char_s:\n",
        "                return False\n",
        "        else:\n",
        "            mapping_t[char_t] = char_s\n",
        "    return True\n",
        "s = \"egg\"\n",
        "t = \"add\"\n",
        "print(is_isomorphic(s, t))  \n",
        "s = \"foo\"\n",
        "t = \"bar\"\n",
        "print(is_isomorphic(s, t))\n",
        "s = \"paper\"\n",
        "t = \"title\"\n",
        "print(is_isomorphic(s, t))"
      ]
    },
    {
      "cell_type": "code",
      "source": [
        "'''\n",
        "<aside>\n",
        "💡 **Question 2**\n",
        "Given a string num which represents an integer, return true *if* num *is a **strobogrammatic number***.\n",
        "A **strobogrammatic number** is a number that looks the same when rotated 180 degrees (looked at upside down).\n",
        "**Example 1:**\n",
        "**Input:** num = \"69\"\n",
        "**Output:**\n",
        "true\n",
        "</aside>\n",
        "'''\n",
        "def is_strobogrammatic(num):\n",
        "    # Define the strobogrammatic pairs\n",
        "    pairs = {'0': '0', '1': '1', '6': '9', '8': '8', '9': '6'}\n",
        "    # Check each character from both ends of the string\n",
        "    left, right = 0, len(num) - 1\n",
        "    while left <= right:\n",
        "        if num[left] not in pairs or num[right] not in pairs:\n",
        "            return False\n",
        "        if pairs[num[left]] != num[right]:\n",
        "            return False\n",
        "        left += 1\n",
        "        right -= 1\n",
        "    return True\n",
        "num = \"69\"\n",
        "print(is_strobogrammatic(num))"
      ],
      "metadata": {
        "colab": {
          "base_uri": "https://localhost:8080/"
        },
        "id": "UCH8NsjSLZ99",
        "outputId": "23768623-5512-4ba2-bef4-7ab7b017b497"
      },
      "execution_count": 2,
      "outputs": [
        {
          "output_type": "stream",
          "name": "stdout",
          "text": [
            "True\n"
          ]
        }
      ]
    },
    {
      "cell_type": "code",
      "source": [
        "'''\n",
        "<aside>\n",
        "💡 **Question 3**\n",
        "Given two non-negative integers, num1 and num2 represented as string, return *the sum of* num1 *and* num2 *as a string*.\n",
        "You must solve the problem without using any built-in library for handling large integers (such as BigInteger). You must also not convert the inputs to integers directly.\n",
        "**Example 1:*\n",
        "**Input:** num1 = \"11\", num2 = \"123\"\n",
        "**Output:**\n",
        "\"134\"\n",
        "</aside>\n",
        "'''\n",
        "def addStrings(num1, num2):\n",
        "    result = \"\"\n",
        "    carry = 0\n",
        "    i, j = len(num1) - 1, len(num2) - 1\n",
        "    while i >= 0 or j >= 0 or carry > 0:\n",
        "        digit1 = int(num1[i]) if i >= 0 else 0\n",
        "        digit2 = int(num2[j]) if j >= 0 else 0\n",
        "        # Compute the sum of the digits and the carry\n",
        "        total = digit1 + digit2 + carry\n",
        "        digit = total % 10\n",
        "        carry = total // 10\n",
        "        # Prepend the digit to the result string\n",
        "        result = str(digit) + result\n",
        "        # Move to the next digits\n",
        "        i -= 1\n",
        "        j -= 1\n",
        "    return result\n",
        "num1 = \"11\"\n",
        "num2 = \"123\"\n",
        "print(addStrings(num1, num2))"
      ],
      "metadata": {
        "colab": {
          "base_uri": "https://localhost:8080/"
        },
        "id": "2BCo087aLoaN",
        "outputId": "8307266e-7f08-42d9-d88b-934131557213"
      },
      "execution_count": 3,
      "outputs": [
        {
          "output_type": "stream",
          "name": "stdout",
          "text": [
            "134\n"
          ]
        }
      ]
    },
    {
      "cell_type": "code",
      "source": [
        "'''\n",
        "<aside>\n",
        "💡 **Question 4**\n",
        "Given a string s, reverse the order of characters in each word within a sentence while still preserving whitespace and initial word order.\n",
        "**Example 1:**\n",
        "**Input:** s = \"Let's take LeetCode contest\"\n",
        "**Output:** \"s'teL ekat edoCteeL tsetnoc\"\n",
        "</aside>\n",
        "'''\n",
        "def reverseWords(s):\n",
        "    words = s.split()  # Split the string into words\n",
        "    reversed_words = [word[::-1] for word in words]  # Reverse each word\n",
        "    return ' '.join(reversed_words)  # Join the reversed words with whitespace\n",
        "s = \"Let's take LeetCode contest\"\n",
        "print(reverseWords(s)) "
      ],
      "metadata": {
        "colab": {
          "base_uri": "https://localhost:8080/"
        },
        "id": "SKKGg8nrL3tO",
        "outputId": "0badde78-43cc-4354-e5ab-d3b3ad1a7ade"
      },
      "execution_count": 4,
      "outputs": [
        {
          "output_type": "stream",
          "name": "stdout",
          "text": [
            "s'teL ekat edoCteeL tsetnoc\n"
          ]
        }
      ]
    },
    {
      "cell_type": "code",
      "source": [
        "'''\n",
        "<aside>\n",
        "💡 **Question 5**\n",
        "Given a string s and an integer k, reverse the first k characters for every 2k characters counting from the start of the string.\n",
        "If there are fewer than k characters left, reverse all of them. If there are less than 2k but greater than or equal to k characters, then reverse the first k characters and leave the other as original.\n",
        "**Example 1:**\n",
        "**Input:** s = \"abcdefg\", k = 2\n",
        "**Output:**\n",
        "\"bacdfeg\"\n",
        "</aside>\n",
        "'''\n",
        "def reverseStr(s, k):\n",
        "    chars = list(s)  # Convert the string to a list of characters\n",
        "    \n",
        "    for i in range(0, len(chars), 2*k):\n",
        "        # Reverse the first k characters in the current segment\n",
        "        chars[i:i+k] = chars[i:i+k][::-1]\n",
        "    \n",
        "    return ''.join(chars)  # Convert the list back to a string\n",
        "s = \"abcdefg\"\n",
        "k = 2\n",
        "print(reverseStr(s, k))"
      ],
      "metadata": {
        "colab": {
          "base_uri": "https://localhost:8080/"
        },
        "id": "j__KFpHrMGLB",
        "outputId": "be6d67a4-1dab-48c3-fec0-044f7c669f92"
      },
      "execution_count": 5,
      "outputs": [
        {
          "output_type": "stream",
          "name": "stdout",
          "text": [
            "bacdfeg\n"
          ]
        }
      ]
    },
    {
      "cell_type": "code",
      "source": [
        "'''\n",
        "<aside>\n",
        "💡 **Question 6**\n",
        "Given two strings s and goal, return true *if and only if* s *can become* goal *after some number of **shifts** on* s.\n",
        "A **shift** on s consists of moving the leftmost character of s to the rightmost position.\n",
        "- For example, if s = \"abcde\", then it will be \"bcdea\" after one shift.\n",
        "**Example 1:**\n",
        "**Input:** s = \"abcde\", goal = \"cdeab\"\n",
        "**Output:**\n",
        "true\n",
        "</aside>\n",
        "'''\n",
        "def rotateString(s, goal):\n",
        "    if len(s) != len(goal):\n",
        "        return False\n",
        "    if len(s) == 0:\n",
        "        return True\n",
        "    double_s = s + s\n",
        "    return goal in double_s\n",
        "s = \"abcde\"\n",
        "goal = \"cdeab\"\n",
        "print(rotateString(s, goal)) "
      ],
      "metadata": {
        "colab": {
          "base_uri": "https://localhost:8080/"
        },
        "id": "wsglgTOBMRxX",
        "outputId": "011902fb-035f-4840-dd2b-ccd769ff93d2"
      },
      "execution_count": 6,
      "outputs": [
        {
          "output_type": "stream",
          "name": "stdout",
          "text": [
            "True\n"
          ]
        }
      ]
    },
    {
      "cell_type": "code",
      "source": [
        "'''\n",
        "<aside>\n",
        "💡 **Question 7**\n",
        "Given two strings s and t, return true *if they are equal when both are typed into empty text editors*. '#' means a backspace character.\n",
        "Note that after backspacing an empty text, the text will continue empty.\n",
        "**Example 1:**\n",
        "**Input:** s = \"ab#c\", t = \"ad#c\"\n",
        "**Output:** true\n",
        "**Explanation:**\n",
        "Both s nd t become \"ac\".\n",
        "</aside>\n",
        "'''\n",
        "def processString(s):\n",
        "    stack = []\n",
        "    \n",
        "    for char in s:\n",
        "        if char == '#':\n",
        "            if stack:\n",
        "                stack.pop()\n",
        "        else:\n",
        "            stack.append(char)\n",
        "    \n",
        "    return ''.join(stack)\n",
        "\n",
        "def backspaceCompare(s, t):\n",
        "    processed_s = processString(s)\n",
        "    processed_t = processString(t)    \n",
        "    return processed_s == processed_t\n",
        "\n",
        "s = \"ab#c\"\n",
        "t = \"ad#c\"\n",
        "print(backspaceCompare(s, t)) \n"
      ],
      "metadata": {
        "colab": {
          "base_uri": "https://localhost:8080/"
        },
        "id": "vQUAPoVZMd_l",
        "outputId": "2b2a3510-7536-4649-dae6-6dd827969776"
      },
      "execution_count": 7,
      "outputs": [
        {
          "output_type": "stream",
          "name": "stdout",
          "text": [
            "True\n"
          ]
        }
      ]
    },
    {
      "cell_type": "code",
      "source": [
        "'''\n",
        "You are given an array coordinates, coordinates[i] = [x, y], where [x, y] represents the coordinate of a point. Check if these points make a straight line in the XY plane.\n",
        "**Example 1:**\n",
        "**Input:** coordinates = [[1,2],[2,3],[3,4],[4,5],[5,6],[6,7]]\n",
        "**Output:** true\n",
        "'''\n",
        "def checkStraightLine(coordinates):\n",
        "    if len(coordinates) <= 2:\n",
        "        return True\n",
        "    x1, y1 = coordinates[0]\n",
        "    x2, y2 = coordinates[1]\n",
        "    for i in range(2, len(coordinates)):\n",
        "        x, y = coordinates[i]\n",
        "        # Calculate the slope between consecutive points\n",
        "        if (y2 - y1) * (x - x1) != (y - y1) * (x2 - x1):\n",
        "            return False\n",
        "    return True\n",
        "coordinates = [[1,2],[2,3],[3,4],[4,5],[5,6],[6,7]]\n",
        "print(checkStraightLine(coordinates)) "
      ],
      "metadata": {
        "colab": {
          "base_uri": "https://localhost:8080/"
        },
        "id": "4_Ed4zP6MrgZ",
        "outputId": "76dfdbf9-d95e-4668-a454-b50f33e47a23"
      },
      "execution_count": 8,
      "outputs": [
        {
          "output_type": "stream",
          "name": "stdout",
          "text": [
            "True\n"
          ]
        }
      ]
    }
  ]
}