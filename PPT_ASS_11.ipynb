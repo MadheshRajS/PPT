{
  "nbformat": 4,
  "nbformat_minor": 0,
  "metadata": {
    "colab": {
      "provenance": []
    },
    "kernelspec": {
      "name": "python3",
      "display_name": "Python 3"
    },
    "language_info": {
      "name": "python"
    }
  },
  "cells": [
    {
      "cell_type": "code",
      "execution_count": 1,
      "metadata": {
        "colab": {
          "base_uri": "https://localhost:8080/"
        },
        "id": "FaS4m9oBORcr",
        "outputId": "a548836c-f67a-45bf-807f-879369648a5b"
      },
      "outputs": [
        {
          "output_type": "stream",
          "name": "stdout",
          "text": [
            "2\n",
            "2\n"
          ]
        }
      ],
      "source": [
        "'''\n",
        "<aside>\n",
        "💡 **Question 1**\n",
        "Given a non-negative integer `x`, return *the square root of* `x` *rounded down to the nearest integer*. The returned integer should be **non-negative** as well.\n",
        "You **must not use** any built-in exponent function or operator.\n",
        "- For example, do not use `pow(x, 0.5)` in c++ or `x ** 0.5` in python.\n",
        "**Example 1:**\n",
        "</aside>\n",
        "'''\n",
        "def mySqrt(x):\n",
        "    if x == 0:\n",
        "        return 0\n",
        "    left, right = 1, x\n",
        "    while left <= right:\n",
        "        mid = left + (right - left) // 2\n",
        "\n",
        "        if mid * mid == x:\n",
        "            return mid\n",
        "        elif mid * mid < x:\n",
        "            left = mid + 1\n",
        "        else:\n",
        "            right = mid - 1\n",
        "    return right\n",
        "print(mySqrt(4))\n",
        "print(mySqrt(8))"
      ]
    },
    {
      "cell_type": "code",
      "source": [
        "'''\n",
        "<aside>\n",
        "💡 **Question 2**\n",
        "A peak element is an element that is strictly greater than its neighbors.\n",
        "Given a **0-indexed** integer array `nums`, find a peak element, and return its index. If the array contains multiple peaks, return the index to **any of the peaks**.\n",
        "You may imagine that `nums[-1] = nums[n] = -∞`. In other words, an element is always considered to be strictly greater than a neighbor that is outside the array.\n",
        "You must write an algorithm that runs in `O(log n)` time.\n",
        "**Example 1:**\n",
        "```\n",
        "Input: nums = [1,2,3,1]\n",
        "Output: 2\n",
        "Explanation: 3 is a peak element and your function should return the index number 2.\n",
        "```\n",
        "**Example 2:**\n",
        "</aside>\n",
        "'''\n",
        "def findPeakElement(nums):\n",
        "    left, right = 0, len(nums) - 1\n",
        "    while left < right:\n",
        "        mid = left + (right - left) // 2\n",
        "        if nums[mid] < nums[mid + 1]:\n",
        "            left = mid + 1\n",
        "        else:\n",
        "            right = mid\n",
        "    return left\n",
        "print(findPeakElement([1, 2, 3, 1]))\n",
        "print(findPeakElement([1, 2, 1, 3, 5, 6, 4]))\n"
      ],
      "metadata": {
        "colab": {
          "base_uri": "https://localhost:8080/"
        },
        "id": "vQeiXY8IQ8jm",
        "outputId": "7c3b1645-28c8-4519-bb4f-147d37503294"
      },
      "execution_count": 2,
      "outputs": [
        {
          "output_type": "stream",
          "name": "stdout",
          "text": [
            "2\n",
            "5\n"
          ]
        }
      ]
    },
    {
      "cell_type": "code",
      "source": [
        "'''\n",
        "<aside>\n",
        "💡 **Question 3**\n",
        "****\n",
        "Given an array `nums` containing `n` distinct numbers in the range `[0, n]`, return *the only number in the range that is missing from the array.*\n",
        "**Example 1:**\n",
        "Input: nums = [3,0,1]\n",
        "Output: 2\n",
        "Explanation: n = 3 since there are 3 numbers, so all numbers are in the range [0,3]. 2 is the missing number in the range since it does not appear in nums.\n",
        "**Example 2:**\n",
        "Input: nums = [0,1]\n",
        "Output: 2\n",
        "Explanation: n = 2 since there are 2 numbers, so all numbers are in the range [0,2]. 2 is the missing number in the range since it does not appear in nu\n",
        "'''\n",
        "def missingNumber(nums):\n",
        "    left, right = 0, len(nums)\n",
        "    while left < right:\n",
        "        mid = left + (right - left) // 2\n",
        "        if nums[mid] > mid:\n",
        "            right = mid\n",
        "        else:\n",
        "            left = mid + 1\n",
        "    return left\n",
        "print(missingNumber([3, 0, 1]))\n",
        "print(missingNumber([0, 1]))\n"
      ],
      "metadata": {
        "colab": {
          "base_uri": "https://localhost:8080/"
        },
        "id": "ygXD_lOWROiw",
        "outputId": "6caf672a-b3fc-47a1-a450-114b0cd03b3b"
      },
      "execution_count": 3,
      "outputs": [
        {
          "output_type": "stream",
          "name": "stdout",
          "text": [
            "3\n",
            "2\n"
          ]
        }
      ]
    },
    {
      "cell_type": "code",
      "source": [
        "'''\n",
        "<aside>\n",
        "💡 **Question 4**\n",
        "Given an array of integers `nums` containing `n + 1` integers where each integer is in the range `[1, n]` inclusive.\n",
        "There is only **one repeated number** in `nums`, return *this repeated number*.\n",
        "You must solve the problem **without** modifying the array `nums` and uses only constant extra space.\n",
        "**Example 1:**\n",
        "```\n",
        "Input: nums = [1,3,4,2,2]\n",
        "Output: 2\n",
        "\n",
        "```\n",
        "</aside>\n",
        "'''\n",
        "def findDuplicate(nums):\n",
        "    left, right = 1, len(nums) - 1\n",
        "    while left < right:\n",
        "        mid = left + (right - left) // 2\n",
        "        count = 0\n",
        "        for num in nums:\n",
        "            if num <= mid:\n",
        "                count += 1\n",
        "        if count > mid:\n",
        "            right = mid\n",
        "        else:\n",
        "            left = mid + 1\n",
        "    return left\n",
        "print(findDuplicate([1, 3, 4, 2, 2]))\n",
        "print(findDuplicate([3, 1, 3, 4, 2]))"
      ],
      "metadata": {
        "colab": {
          "base_uri": "https://localhost:8080/"
        },
        "id": "Wi-blvjXRiLs",
        "outputId": "622313b7-80eb-4750-c6d7-8edadd1d7acc"
      },
      "execution_count": 4,
      "outputs": [
        {
          "output_type": "stream",
          "name": "stdout",
          "text": [
            "2\n",
            "3\n"
          ]
        }
      ]
    },
    {
      "cell_type": "code",
      "source": [
        "'''\n",
        "<aside>\n",
        "💡 **Question 5**\n",
        "Given two integer arrays `nums1` and `nums2`, return *an array of their intersection*. Each element in the result must be **unique** and you may return the result in **any order**.\n",
        "**Example 1:**\n",
        "</aside>\n",
        "'''\n",
        "def binarySearch(nums, target):\n",
        "    left, right = 0, len(nums) - 1\n",
        "    while left <= right:\n",
        "        mid = left + (right - left) // 2\n",
        "        if nums[mid] == target:\n",
        "            return True\n",
        "        elif nums[mid] < target:\n",
        "            left = mid + 1\n",
        "        else:\n",
        "            right = mid - 1\n",
        "    return False\n",
        "def intersection(nums1, nums2):\n",
        "    nums1.sort()\n",
        "    result = set()\n",
        "    for num in nums2:\n",
        "        if binarySearch(nums1, num):\n",
        "            result.add(num)\n",
        "    return list(result)\n",
        "print(intersection([1, 2, 2, 1], [2, 2]))\n",
        "print(intersection([4, 9, 5], [9, 4, 9, 8, 4]))"
      ],
      "metadata": {
        "colab": {
          "base_uri": "https://localhost:8080/"
        },
        "id": "4mGo8BpKSKKi",
        "outputId": "930f6fd7-0e7c-4647-c715-67f7dde1a7f0"
      },
      "execution_count": 5,
      "outputs": [
        {
          "output_type": "stream",
          "name": "stdout",
          "text": [
            "[2]\n",
            "[9, 4]\n"
          ]
        }
      ]
    },
    {
      "cell_type": "code",
      "source": [
        "'''\n",
        "<aside>\n",
        "💡 **Question 6**\n",
        "Suppose an array of length `n` sorted in ascending order is **rotated** between `1` and `n` times. For example, the array `nums = [0,1,2,4,5,6,7]` might become:\n",
        "- `[4,5,6,7,0,1,2]` if it was rotated `4` times.\n",
        "- `[0,1,2,4,5,6,7]` if it was rotated `7` times.\n",
        "Notice that **rotating** an array `[a[0], a[1], a[2], ..., a[n-1]]` 1 time results in the array `[a[n-1], a[0], a[1], a[2], ..., a[n-2]]`.\n",
        "Given the sorted rotated array `nums` of **unique** elements, return *the minimum element of this array*.\n",
        "You must write an algorithm that runs in `O(log n) time.`\n",
        "**Example 1:**\n",
        "</aside>\n",
        "'''\n",
        "def findMin(nums):\n",
        "    left, right = 0, len(nums) - 1\n",
        "    while left < right:\n",
        "        mid = left + (right - left) // 2\n",
        "        if nums[mid] > nums[right]:\n",
        "            left = mid + 1\n",
        "        else:\n",
        "            right = mid\n",
        "    return nums[left]\n",
        "print(findMin([4, 5, 6, 7, 0, 1, 2]))\n",
        "print(findMin([7, 0, 1, 2, 4, 5, 6]))"
      ],
      "metadata": {
        "colab": {
          "base_uri": "https://localhost:8080/"
        },
        "id": "z83ecAkVScZ1",
        "outputId": "f93ea636-e07d-4e37-afd5-8b93b851e7a9"
      },
      "execution_count": 6,
      "outputs": [
        {
          "output_type": "stream",
          "name": "stdout",
          "text": [
            "0\n",
            "0\n"
          ]
        }
      ]
    },
    {
      "cell_type": "code",
      "source": [
        "'''\n",
        "Given an array of integers `nums` sorted in non-decreasing order, find the starting and ending position of a given `target` value.\n",
        "If `target` is not found in the array, return `[-1, -1]`.\n",
        "You must write an algorithm with `O(log n)` runtime complexity.\n",
        "**Example 1:**\n",
        "'''\n",
        "def searchRange(nums, target):\n",
        "    start = findFirst(nums, target)\n",
        "    end = findLast(nums, target)\n",
        "    return [start, end]\n",
        "def findFirst(nums, target):\n",
        "    left, right = 0, len(nums) - 1\n",
        "    first = -1\n",
        "    while left <= right:\n",
        "        mid = left + (right - left) // 2\n",
        "        if nums[mid] >= target:\n",
        "            right = mid - 1\n",
        "        else:\n",
        "            left = mid + 1\n",
        "        if nums[mid] == target:\n",
        "            first = mid\n",
        "    return first\n",
        "def findLast(nums, target):\n",
        "    left, right = 0, len(nums) - 1\n",
        "    last = -1\n",
        "    while left <= right:\n",
        "        mid = left + (right - left) // 2\n",
        "        if nums[mid] <= target:\n",
        "            left = mid + 1\n",
        "        else:\n",
        "            right = mid - 1\n",
        "        if nums[mid] == target:\n",
        "            last = mid\n",
        "    return last\n",
        "nums = [5, 7, 7, 8, 8, 10]\n",
        "target = 8\n",
        "result = searchRange(nums, target)\n",
        "print(result)\n"
      ],
      "metadata": {
        "colab": {
          "base_uri": "https://localhost:8080/"
        },
        "id": "gw9NOKXSS0Hy",
        "outputId": "662d30d6-8098-4a71-9acc-fd12f56a4739"
      },
      "execution_count": 7,
      "outputs": [
        {
          "output_type": "stream",
          "name": "stdout",
          "text": [
            "[3, 4]\n"
          ]
        }
      ]
    },
    {
      "cell_type": "code",
      "source": [
        "'''\n",
        "Given two integer arrays `nums1` and `nums2`, return *an array of their intersection*. Each element in the result must appear as many times as it shows in both arrays and you may return the result in **any order**.\n",
        "**Example 1:**\n",
        "'''\n",
        "def intersect(nums1, nums2):\n",
        "    nums1.sort()  # Sort the arrays\n",
        "    nums2.sort()\n",
        "    result = []\n",
        "    i = 0  # Index for nums1\n",
        "    j = 0  # Index for nums2\n",
        "    while i < len(nums1) and j < len(nums2):\n",
        "        if nums1[i] == nums2[j]:\n",
        "            result.append(nums1[i])  # Add the common element to the result\n",
        "            i += 1\n",
        "            j += 1\n",
        "        elif nums1[i] < nums2[j]:\n",
        "            i += 1\n",
        "        else:\n",
        "            j += 1\n",
        "    return result\n",
        "nums1 = [1, 2, 2, 1]\n",
        "nums2 = [2, 2, 3]\n",
        "intersection = intersect(nums1, nums2)\n",
        "print(intersection)"
      ],
      "metadata": {
        "colab": {
          "base_uri": "https://localhost:8080/"
        },
        "id": "UtHY7cU6UtH7",
        "outputId": "68d3710b-2f6c-4b38-974e-9c2cab69b77c"
      },
      "execution_count": 8,
      "outputs": [
        {
          "output_type": "stream",
          "name": "stdout",
          "text": [
            "[2, 2]\n"
          ]
        }
      ]
    }
  ]
}