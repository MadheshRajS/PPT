{
  "nbformat": 4,
  "nbformat_minor": 0,
  "metadata": {
    "colab": {
      "provenance": []
    },
    "kernelspec": {
      "name": "python3",
      "display_name": "Python 3"
    },
    "language_info": {
      "name": "python"
    }
  },
  "cells": [
    {
      "cell_type": "code",
      "execution_count": 1,
      "metadata": {
        "colab": {
          "base_uri": "https://localhost:8080/"
        },
        "id": "PueMMoaRgdbV",
        "outputId": "af9a47ed-4d83-45d7-bae4-cc831362e86a"
      },
      "outputs": [
        {
          "output_type": "stream",
          "name": "stdout",
          "text": [
            "[[1, 2], [3, 4]]\n"
          ]
        }
      ],
      "source": [
        "#1\n",
        "'''\n",
        "Convert 1D Array Into 2D Array\n",
        "\n",
        "You are given a **0-indexed** 1-dimensional (1D) integer array original, and two integers, m and n. You are tasked with creating a 2-dimensional (2D) array with  m rows and n columns using **all** the elements from original.\n",
        "The elements from indices 0 to n - 1 (**inclusive**) of original should form the first row of the constructed 2D array, the elements from indices n to 2 * n - 1 (**inclusive**) should form the second row of the constructed 2D array, and so on.\n",
        "Return *an* m x n *2D array constructed according to the above procedure, or an empty 2D array if it is impossible*.\n",
        "**Input:** original = [1,2,3,4], m = 2, n = 2\n",
        "**Output:** [[1,2],[3,4]]\n",
        "**Explanation:** The constructed 2D array should contain 2 rows and 2 columns.\n",
        "The first group of n=2 elements in original, [1,2], becomes the first row in the constructed 2D array.\n",
        "The second group of n=2 elements in original, [3,4], becomes the second row in the constructed 2D array.\n",
        "'''\n",
        "def construct2DArray(original, m, n):\n",
        "    if len(original) != m * n:\n",
        "        return []\n",
        "\n",
        "    return [original[i * n:(i + 1) * n] for i in range(m)]\n",
        "original = [1, 2, 3, 4]\n",
        "m = 2\n",
        "n = 2\n",
        "result = construct2DArray(original, m, n)\n",
        "print(result)"
      ]
    },
    {
      "cell_type": "code",
      "source": [
        "#2\n",
        "'''\n",
        "You have n coins and you want to build a staircase with these coins. The staircase consists of k rows where the ith row has exactly i coins. The last row of the staircase **may be** incomplete.\n",
        "Given the integer n, return *the number of **complete rows** of the staircase you will build*.\n",
        "**Example 1:**\n",
        "**Input:** n = 5\n",
        "\n",
        "**Output:** 2\n",
        "\n",
        "**Explanation:** Because the 3rd row is incomplete, we return 2.\n",
        "'''\n",
        "import math\n",
        "def arrangeCoins(n):\n",
        "    k = int(math.sqrt(2 * n))\n",
        "    if k * (k + 1) > 2 * n:\n",
        "        return k - 1\n",
        "    return k\n",
        "n = 5\n",
        "result = arrangeCoins(n)\n",
        "print(result)\n"
      ],
      "metadata": {
        "colab": {
          "base_uri": "https://localhost:8080/"
        },
        "id": "avSz7gwqhXHm",
        "outputId": "3ad33175-c25d-4bc8-9b5e-401b1aa8b126"
      },
      "execution_count": 2,
      "outputs": [
        {
          "output_type": "stream",
          "name": "stdout",
          "text": [
            "2\n"
          ]
        }
      ]
    },
    {
      "cell_type": "code",
      "source": [
        "#3\n",
        "'''\n",
        "Given an integer array nums sorted in **non-decreasing** order, return *an array of **the squares of each number** sorted in non-decreasing order*.\n",
        "**Example 1:**\n",
        "**Input:** nums = [-4,-1,0,3,10]\n",
        "**Output:** [0,1,9,16,100]\n",
        "**Explanation:** After squaring, the array becomes [16,1,0,9,100].\n",
        "After sorting, it becomes [0,1,9,16,100].\n",
        "'''\n",
        "def sortedSquares(nums):\n",
        "    squared_nums = [num * num for num in nums]\n",
        "    squared_nums.sort()\n",
        "    return squared_nums\n",
        "\n",
        "nums = [-4, -1, 0, 3, 10]\n",
        "result = sortedSquares(nums)\n",
        "print(result)"
      ],
      "metadata": {
        "colab": {
          "base_uri": "https://localhost:8080/"
        },
        "id": "d-l2xBKLh3kG",
        "outputId": "921c4fbb-75d4-4632-f912-a43b6df7ada7"
      },
      "execution_count": 3,
      "outputs": [
        {
          "output_type": "stream",
          "name": "stdout",
          "text": [
            "[0, 1, 9, 16, 100]\n"
          ]
        }
      ]
    },
    {
      "cell_type": "code",
      "source": [
        "#4\n",
        "'''\n",
        "<aside>\n",
        "💡 **Question 4**\n",
        "Given two **0-indexed** integer arrays nums1 and nums2, return *a list* answer *of size* 2 *where:*\n",
        "- answer[0] *is a list of all **distinct** integers in* nums1 *which are **not** present in* nums2*.*\n",
        "- answer[1] *is a list of all **distinct** integers in* nums2 *which are **not** present in* nums1.\n",
        "**Note** that the integers in the lists may be returned in **any** order.\n",
        "**Example 1:**\n",
        "**Input:** nums1 = [1,2,3], nums2 = [2,4,6]\n",
        "**Output:** [[1,3],[4,6]]\n",
        "**Explanation:**\n",
        "For nums1, nums1[1] = 2 is present at index 0 of nums2, whereas nums1[0] = 1 and nums1[2] = 3 are not present in nums2. Therefore, answer[0] = [1,3].\n",
        "For nums2, nums2[0] = 2 is present at index 1 of nums1, whereas nums2[1] = 4 and nums2[2] = 6 are not present in nums2. Therefore, answer[1] = [4,6].\n",
        "</aside>\n",
        "'''\n",
        "def findDisjoint(nums1, nums2):\n",
        "    set1 = set(nums1)\n",
        "    set2 = set(nums2)\n",
        "\n",
        "    answer = [[num for num in nums1 if num not in set2], [num for num in nums2 if num not in set1]]\n",
        "    return answer\n",
        "nums1 = [1, 2, 3]\n",
        "nums2 = [2, 4, 6]\n",
        "result = findDisjoint(nums1, nums2)\n",
        "print(result)"
      ],
      "metadata": {
        "colab": {
          "base_uri": "https://localhost:8080/"
        },
        "id": "ik_fL_MEiRqO",
        "outputId": "12f0575e-1426-4bd6-acb3-7a20e1bd7e0b"
      },
      "execution_count": 4,
      "outputs": [
        {
          "output_type": "stream",
          "name": "stdout",
          "text": [
            "[[1, 3], [4, 6]]\n"
          ]
        }
      ]
    },
    {
      "cell_type": "code",
      "source": [
        "#5\n",
        "'''\n",
        "<aside>\n",
        "💡 **Question 5**\n",
        "Given two integer arrays arr1 and arr2, and the integer d, *return the distance value between the two arrays*.\n",
        "The distance value is defined as the number of elements arr1[i] such that there is not any element arr2[j] where |arr1[i]-arr2[j]| <= d.\n",
        "**Example 1:**\n",
        "**Input:** arr1 = [4,5,8], arr2 = [10,9,1,8], d = 2\n",
        "**Output:** 2\n",
        "**Explanation:*\n",
        "For arr1[0]=4 we have:\n",
        "|4-10|=6 > d=2\n",
        "|4-9|=5 > d=2\n",
        "|4-1|=3 > d=2\n",
        "|4-8|=4 > d=2\n",
        "For arr1[1]=5 we have:\n",
        "|5-10|=5 > d=2\n",
        "|5-9|=4 > d=2\n",
        "|5-1|=4 > d=2\n",
        "|5-8|=3 > d=2\n",
        "For arr1[2]=8 we have:\n",
        "**|8-10|=2 <= d=2**\n",
        "**|8-9|=1 <= d=2**\n",
        "|8-1|=7 > d=2\n",
        "**|8-8|=0 <= d=2**\n",
        "</aside>\n",
        "'''\n",
        "def findDistanceValue(arr1, arr2, d):\n",
        "    distance_value = 0\n",
        "\n",
        "    for num1 in arr1:\n",
        "        is_valid = True\n",
        "        for num2 in arr2:\n",
        "            if abs(num1 - num2) <= d:\n",
        "                is_valid = False\n",
        "                break\n",
        "        if is_valid:\n",
        "            distance_value += 1\n",
        "\n",
        "    return distance_value\n",
        "\n",
        "# Example usage:\n",
        "arr1 = [4, 5, 8]\n",
        "arr2 = [10, 9, 1, 8]\n",
        "d = 2\n",
        "result = findDistanceValue(arr1, arr2, d)\n",
        "print(result)"
      ],
      "metadata": {
        "colab": {
          "base_uri": "https://localhost:8080/"
        },
        "id": "0O5IaZMjimcA",
        "outputId": "63abe59c-5487-4157-fa4b-ba48be97b03a"
      },
      "execution_count": 5,
      "outputs": [
        {
          "output_type": "stream",
          "name": "stdout",
          "text": [
            "2\n"
          ]
        }
      ]
    },
    {
      "cell_type": "code",
      "source": [
        "#6\n",
        "'''\n",
        "<aside>\n",
        "💡 **Question 6**\n",
        "Given an integer array nums of length n where all the integers of nums are in the range [1, n] and each integer appears **once** or **twice**, return *an array of all the integers that appears **twice***.\n",
        "You must write an algorithm that runs in O(n) time and uses only constant extra space.\n",
        "**Example 1:**\n",
        "**Input:** nums = [4,3,2,7,8,2,3,1]\n",
        "**Output:**\n",
        "[2,3]\n",
        "</aside>\n",
        "'''\n",
        "def findDuplicates(nums):\n",
        "    duplicates = []\n",
        "    \n",
        "    for num in nums:\n",
        "        if nums[abs(num) - 1] < 0:\n",
        "            duplicates.append(abs(num))\n",
        "        else:\n",
        "            nums[abs(num) - 1] *= -1\n",
        "    \n",
        "    return duplicates\n",
        "\n",
        "# Example usage:\n",
        "nums = [4, 3, 2, 7, 8, 2, 3, 1]\n",
        "result = findDuplicates(nums)\n",
        "print(result)"
      ],
      "metadata": {
        "colab": {
          "base_uri": "https://localhost:8080/"
        },
        "id": "KH4IiLaOimoZ",
        "outputId": "59b3acf7-ed4f-4148-8ef1-6df200746cd7"
      },
      "execution_count": 6,
      "outputs": [
        {
          "output_type": "stream",
          "name": "stdout",
          "text": [
            "[2, 3]\n"
          ]
        }
      ]
    },
    {
      "cell_type": "code",
      "source": [
        "#7\n",
        "'''\n",
        "<aside>\n",
        "💡 **Question 7**\n",
        "Suppose an array of length n sorted in ascending order is **rotated** between 1 and n times. For example, the array nums = [0,1,2,4,5,6,7] might become:\n",
        "- [4,5,6,7,0,1,2] if it was rotated 4 times.\n",
        "- [0,1,2,4,5,6,7] if it was rotated 7 times.\n",
        "Notice that **rotating** an array [a[0], a[1], a[2], ..., a[n-1]] 1 time results in the array [a[n-1], a[0], a[1], a[2], ..., a[n-2]].\n",
        "Given the sorted rotated array nums of **unique** elements, return *the minimum element of this array*.\n",
        "You must write an algorithm that runs in O(log n) time.\n",
        "**Example 1:**\n",
        "**Input:** nums = [3,4,5,1,2]\n",
        "**Output:** 1\n",
        "**Explanation:**\n",
        "The original array was [1,2,3,4,5] rotated 3 times.\n",
        "</aside>\n",
        "'''\n",
        "def findMin(nums):\n",
        "    left = 0\n",
        "    right = len(nums) - 1\n",
        "    \n",
        "    while left < right:\n",
        "        mid = left + (right - left) // 2\n",
        "        \n",
        "        if nums[mid] > nums[right]:\n",
        "            left = mid + 1\n",
        "        else:\n",
        "            right = mid\n",
        "    \n",
        "    return nums[left]\n",
        "\n",
        "# Example usage:\n",
        "nums = [3, 4, 5, 1, 2]\n",
        "result = findMin(nums)\n",
        "print(result)"
      ],
      "metadata": {
        "colab": {
          "base_uri": "https://localhost:8080/"
        },
        "id": "n4OJSuYbjJvD",
        "outputId": "66ca8de2-af09-4067-8782-b862dc4c6c81"
      },
      "execution_count": 7,
      "outputs": [
        {
          "output_type": "stream",
          "name": "stdout",
          "text": [
            "1\n"
          ]
        }
      ]
    },
    {
      "cell_type": "code",
      "source": [
        "#8\n",
        "'''\n",
        "<aside>\n",
        "💡 **Question 8**\n",
        "An integer array original is transformed into a **doubled** array changed by appending **twice the value** of every element in original, and then randomly **shuffling** the resulting array.\n",
        "Given an array changed, return original *if* changed *is a **doubled** array. If* changed *is not a **doubled** array, return an empty array. The elements in* original *may be returned in **any** order*.\n",
        "**Example 1:**\n",
        "**Input:** changed = [1,3,4,2,6,8]\n",
        "**Output:** [1,3,4]\n",
        "**Explanation:** One possible original array could be [1,3,4]:\n",
        "- Twice the value of 1 is 1 * 2 = 2.\n",
        "- Twice the value of 3 is 3 * 2 = 6.\n",
        "- Twice the value of 4 is 4 * 2 = 8.\n",
        "Other original arrays could be [4,3,1] or [3,1,4].\n",
        "</aside>\n",
        "'''\n",
        "from collections import Counter\n",
        "\n",
        "def findOriginalArray(changed):\n",
        "    if len(changed) % 2 != 0:\n",
        "        return []\n",
        "    counter = Counter(changed)\n",
        "    original = []\n",
        "    for num in sorted(changed):\n",
        "        if counter[num] == 0:\n",
        "            continue\n",
        "        if counter[num * 2] == 0:\n",
        "            return []\n",
        "        original.append(num)\n",
        "        counter[num] -= 1\n",
        "        counter[num * 2] -= 1\n",
        "    return original\n",
        "changed = [1, 3, 4, 2, 6, 8]\n",
        "result = findOriginalArray(changed)\n",
        "print(result)"
      ],
      "metadata": {
        "colab": {
          "base_uri": "https://localhost:8080/"
        },
        "id": "7QjrtpkCja0T",
        "outputId": "bc62d817-a2a0-450f-e9f0-cad58ee1d1e7"
      },
      "execution_count": 8,
      "outputs": [
        {
          "output_type": "stream",
          "name": "stdout",
          "text": [
            "[1, 3, 4]\n"
          ]
        }
      ]
    }
  ]
}