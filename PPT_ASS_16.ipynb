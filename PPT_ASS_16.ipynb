{
  "nbformat": 4,
  "nbformat_minor": 0,
  "metadata": {
    "colab": {
      "provenance": []
    },
    "kernelspec": {
      "name": "python3",
      "display_name": "Python 3"
    },
    "language_info": {
      "name": "python"
    }
  },
  "cells": [
    {
      "cell_type": "code",
      "source": [
        "def sort_stack(stack):\n",
        "    sorted_stack = []\n",
        "    while stack:\n",
        "        temp = stack.pop()\n",
        "        while sorted_stack and sorted_stack[-1] > temp:\n",
        "            stack.append(sorted_stack.pop())\n",
        "        sorted_stack.append(temp)\n",
        "    return sorted_stack\n",
        "# Example\n",
        "def example():\n",
        "    stack = [34, 3, 31, 98, 92, 23]\n",
        "    sorted_stack = sort_stack(stack)\n",
        "    print(sorted_stack)  # Output: [3, 23, 31, 34, 92, 98]\n",
        "example()"
      ],
      "metadata": {
        "colab": {
          "base_uri": "https://localhost:8080/"
        },
        "id": "9_j7ApcDrdzU",
        "outputId": "b143f4b7-c51a-42f5-d47e-465563893796"
      },
      "execution_count": 16,
      "outputs": [
        {
          "output_type": "stream",
          "name": "stdout",
          "text": [
            "[3, 23, 31, 34, 92, 98]\n"
          ]
        }
      ]
    },
    {
      "cell_type": "code",
      "source": [
        "#2\n",
        "def sort_stack(stack):\n",
        "    sorted_stack = []\n",
        "    while stack:\n",
        "        temp = stack.pop()\n",
        "        while sorted_stack and sorted_stack[-1] > temp:\n",
        "            stack.append(sorted_stack.pop())\n",
        "        sorted_stack.append(temp)\n",
        "    return sorted_stack\n",
        "# Example\n",
        "def example():\n",
        "    stack1 = [34, 3, 31, 98, 92, 23]\n",
        "    sorted_stack1 = sort_stack(stack1)\n",
        "    print(sorted_stack1)  # Output: [3, 23, 31, 34, 92, 98]\n",
        "    stack2 = [3, 5, 1, 4, 2, 8]\n",
        "    sorted_stack2 = sort_stack(stack2)\n",
        "    print(sorted_stack2)  # Output: [1, 2, 3, 4, 5, 8]\n",
        "example()"
      ],
      "metadata": {
        "colab": {
          "base_uri": "https://localhost:8080/"
        },
        "id": "Fv9-gDMkreqx",
        "outputId": "a0c74550-ec4e-41b7-e079-91d961423a02"
      },
      "execution_count": 17,
      "outputs": [
        {
          "output_type": "stream",
          "name": "stdout",
          "text": [
            "[3, 23, 31, 34, 92, 98]\n",
            "[1, 2, 3, 4, 5, 8]\n"
          ]
        }
      ]
    },
    {
      "cell_type": "code",
      "source": [
        "#3\n",
        "def delete_middle(stack, n, curr):\n",
        "    if curr == n // 2 + 1:\n",
        "        stack.pop()\n",
        "        return\n",
        "    temp = stack.pop()\n",
        "    delete_middle(stack, n, curr + 1)\n",
        "    stack.append(temp)\n",
        "def delete_middle_element(stack):\n",
        "    n = len(stack)\n",
        "    if n == 0:\n",
        "        return\n",
        "    delete_middle(stack, n, 1)\n",
        "# Example\n",
        "def example():\n",
        "    stack1 = [1, 2, 3, 4, 5]\n",
        "    delete_middle_element(stack1)\n",
        "    print(stack1)  # Output: [1, 2, 4, 5]\n",
        "    stack2 = [1, 2, 3, 4, 5, 6]\n",
        "    delete_middle_element(stack2)\n",
        "    print(stack2)  # Output: [1, 2, 4, 5, 6]\n",
        "example()"
      ],
      "metadata": {
        "colab": {
          "base_uri": "https://localhost:8080/"
        },
        "id": "1mMLiq_qrfcg",
        "outputId": "3d46e00e-e583-4a6a-db1f-da8b004f1357"
      },
      "execution_count": 18,
      "outputs": [
        {
          "output_type": "stream",
          "name": "stdout",
          "text": [
            "[1, 2, 4, 5]\n",
            "[1, 2, 4, 5, 6]\n"
          ]
        }
      ]
    },
    {
      "cell_type": "code",
      "source": [
        "#4\n",
        "from queue import Queue\n",
        "def arrange_increasing_order(queue1):\n",
        "    stack = []\n",
        "    queue2 = Queue()\n",
        "    while not queue1.empty():\n",
        "        current = queue1.get()\n",
        "        while stack and stack[-1] > current:\n",
        "            queue2.put(stack.pop())\n",
        "        stack.append(current)\n",
        "    while stack:\n",
        "        queue2.put(stack.pop())\n",
        "    # Compare queue1 and queue2\n",
        "    while not queue1.empty() and not queue2.empty():\n",
        "        if queue1.get() != queue2.get():\n",
        "            return \"No\"\n",
        "    return \"Yes\"\n",
        "# Example\n",
        "def example():\n",
        "    queue1 = Queue()\n",
        "    queue1.put(5)\n",
        "    queue1.put(1)\n",
        "    queue1.put(2)\n",
        "    queue1.put(3)\n",
        "    queue1.put(4)\n",
        "    result1 = arrange_increasing_order(queue1)\n",
        "    print(result1)  # Output: Yes\n",
        "    queue2 = Queue()\n",
        "    queue2.put(5)\n",
        "    queue2.put(1)\n",
        "    queue2.put(2)\n",
        "    queue2.put(6)\n",
        "    queue2.put(3)\n",
        "    queue2.put(4)\n",
        "    result2 = arrange_increasing_order(queue2)\n",
        "    print(result2)  # Output: No\n",
        "example()"
      ],
      "metadata": {
        "colab": {
          "base_uri": "https://localhost:8080/"
        },
        "id": "5-aNqf1GrgP2",
        "outputId": "98979f49-ee30-436b-8d16-3b14a5611380"
      },
      "execution_count": 19,
      "outputs": [
        {
          "output_type": "stream",
          "name": "stdout",
          "text": [
            "Yes\n",
            "Yes\n"
          ]
        }
      ]
    },
    {
      "cell_type": "code",
      "source": [
        "#5\n",
        "def reverse_number_using_stack(number):\n",
        "    # Convert the number to a string\n",
        "    num_str = str(number)\n",
        "    # Initialize an empty stack and an empty string\n",
        "    stack = []\n",
        "    reversed_num_str = \"\"\n",
        "    # Push each digit onto the stack\n",
        "    for digit in num_str:\n",
        "        stack.append(digit)\n",
        "    # Pop digits from the stack and append them to the reversed string\n",
        "    while stack:\n",
        "        reversed_num_str += stack.pop()\n",
        "    # Convert the reversed string back to an integer\n",
        "    reversed_number = int(reversed_num_str)\n",
        "    return reversed_number\n",
        "# Example\n",
        "def example():\n",
        "    number1 = 365\n",
        "    reversed_number1 = reverse_number_using_stack(number1)\n",
        "    print(reversed_number1)  # Output: 563\n",
        "    number2 = 6899\n",
        "    reversed_number2 = reverse_number_using_stack(number2)\n",
        "    print(reversed_number2)  # Output: 9986\n",
        "example()"
      ],
      "metadata": {
        "colab": {
          "base_uri": "https://localhost:8080/"
        },
        "id": "LBT7-Xy2ri6r",
        "outputId": "5555b50f-f529-46a9-eccf-181f31ec1aa8"
      },
      "execution_count": 20,
      "outputs": [
        {
          "output_type": "stream",
          "name": "stdout",
          "text": [
            "563\n",
            "9986\n"
          ]
        }
      ]
    },
    {
      "cell_type": "code",
      "source": [
        "#7\n",
        "def count_words_after_pairwise_destruction(words):\n",
        "    stack = []\n",
        "    for word in words:\n",
        "        if stack and stack[-1] == word:\n",
        "            stack.pop()\n",
        "        else:\n",
        "            stack.append(word)\n",
        "    return len(stack)\n",
        "# Example\n",
        "def example():\n",
        "    sequence1 = ['ab', 'aa', 'aa', 'bcd', 'ab']\n",
        "    result1 = count_words_after_pairwise_destruction(sequence1)\n",
        "    print(result1)  # Output: 3\n",
        "    sequence2 = ['tom', 'jerry', 'jerry', 'tom']\n",
        "    result2 = count_words_after_pairwise_destruction(sequence2)\n",
        "    print(result2)  # Output: 0\n",
        "example()"
      ],
      "metadata": {
        "colab": {
          "base_uri": "https://localhost:8080/"
        },
        "id": "omJytO0PrhNj",
        "outputId": "85adf993-e4ec-4bf7-8c51-2de1614dea2c"
      },
      "execution_count": 21,
      "outputs": [
        {
          "output_type": "stream",
          "name": "stdout",
          "text": [
            "3\n",
            "0\n"
          ]
        }
      ]
    },
    {
      "cell_type": "code",
      "source": [
        "#8\n",
        "def max_absolute_difference(arr):\n",
        "    n = len(arr)\n",
        "    left_smaller = [0] * n\n",
        "    right_smaller = [0] * n\n",
        "    stack = []\n",
        "    # Find nearest smaller elements on the right side\n",
        "    for i in range(n):\n",
        "        while stack and arr[stack[-1]] >= arr[i]:\n",
        "            right_smaller[stack.pop()] = i\n",
        "        stack.append(i)\n",
        "    while stack:\n",
        "        right_smaller[stack.pop()] = 0\n",
        "    # Find nearest smaller elements on the left side\n",
        "    for i in range(n - 1, -1, -1):\n",
        "        while stack and arr[stack[-1]] >= arr[i]:\n",
        "            left_smaller[stack.pop()] = i\n",
        "        stack.append(i)\n",
        "    while stack:\n",
        "        left_smaller[stack.pop()] = 0\n",
        "    # Calculate the maximum absolute difference\n",
        "    max_diff = 0\n",
        "    for i in range(n):\n",
        "        max_diff = max(max_diff, abs(left_smaller[i] - right_smaller[i]))\n",
        "    return max_diff\n",
        "# Example\n",
        "def example():\n",
        "    arr1 = [2, 1, 8]\n",
        "    result1 = max_absolute_difference(arr1)\n",
        "    print(result1)  # Output: 1\n",
        "    arr2 = [2, 4, 8, 7, 7, 9, 3]\n",
        "    result2 = max_absolute_difference(arr2)\n",
        "    print(result2)  # Output: 4\n",
        "    arr3 = [5, 1, 9, 2, 5, 1, 7]\n",
        "    result3 = max_absolute_difference(arr3)\n",
        "    print(result3)  # Output: 1\n",
        "example()"
      ],
      "metadata": {
        "colab": {
          "base_uri": "https://localhost:8080/"
        },
        "id": "IMxG9sHPriO7",
        "outputId": "32b40a9d-a38a-48b8-b019-f37f0429a8e8"
      },
      "execution_count": 22,
      "outputs": [
        {
          "output_type": "stream",
          "name": "stdout",
          "text": [
            "1\n",
            "6\n",
            "5\n"
          ]
        }
      ]
    }
  ]
}