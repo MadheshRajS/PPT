{
  "nbformat": 4,
  "nbformat_minor": 0,
  "metadata": {
    "colab": {
      "provenance": []
    },
    "kernelspec": {
      "name": "python3",
      "display_name": "Python 3"
    },
    "language_info": {
      "name": "python"
    }
  },
  "cells": [
    {
      "cell_type": "code",
      "execution_count": 9,
      "metadata": {
        "colab": {
          "base_uri": "https://localhost:8080/"
        },
        "id": "LrbcSPvYb49g",
        "outputId": "45740b01-7734-4012-d991-02898e6866c0"
      },
      "outputs": [
        {
          "output_type": "stream",
          "name": "stdout",
          "text": [
            "[3, 4, 4, -1]\n"
          ]
        }
      ],
      "source": [
        "#1\n",
        "def find_next_greater_elements(arr):\n",
        "    n = len(arr)\n",
        "    result = [-1] * n\n",
        "    stack = []\n",
        "    for i in range(n):\n",
        "        while stack and arr[i] > arr[stack[-1]]:\n",
        "            index = stack.pop()\n",
        "            result[index] = arr[i]\n",
        "        stack.append(i)\n",
        "    return result\n",
        "# Example\n",
        "def example():\n",
        "    arr = [1, 3, 2, 4]\n",
        "    result = find_next_greater_elements(arr)\n",
        "    print(result)\n",
        "example()"
      ]
    },
    {
      "cell_type": "code",
      "source": [
        "#2\n",
        "def find_nearest_smaller_on_left(a):\n",
        "    n = len(a)\n",
        "    result = [-1] * n\n",
        "    stack = []\n",
        "    for i in range(n):\n",
        "        while stack and a[i] <= a[stack[-1]]:\n",
        "            stack.pop()\n",
        "        if stack:\n",
        "            result[i] = a[stack[-1]]\n",
        "        stack.append(i)\n",
        "    return result\n",
        "# Example\n",
        "def example():\n",
        "    a = [1, 6, 2]\n",
        "    result = find_nearest_smaller_on_left(a)\n",
        "    print(result)\n",
        "example()"
      ],
      "metadata": {
        "colab": {
          "base_uri": "https://localhost:8080/"
        },
        "id": "97paK7F7gw79",
        "outputId": "27a95d18-5744-4ca5-f373-2dea7f99e33b"
      },
      "execution_count": 10,
      "outputs": [
        {
          "output_type": "stream",
          "name": "stdout",
          "text": [
            "[-1, 1, 1]\n"
          ]
        }
      ]
    },
    {
      "cell_type": "code",
      "source": [
        "#3\n",
        "from queue import Queue\n",
        "class StackUsingTwoQueues:\n",
        "    def __init__(self):\n",
        "        self.q1 = Queue()\n",
        "        self.q2 = Queue()\n",
        "    def push(self, value):\n",
        "        if not self.q1.empty():\n",
        "            self.q1.put(value)\n",
        "        else:\n",
        "            self.q2.put(value)\n",
        "    def pop(self):\n",
        "        if self.q1.empty() and self.q2.empty():\n",
        "            return \"Stack is empty\"\n",
        "        if not self.q1.empty():\n",
        "            while self.q1.qsize() > 1:\n",
        "                self.q2.put(self.q1.get())\n",
        "            return self.q1.get()\n",
        "        else:\n",
        "            while self.q2.qsize() > 1:\n",
        "                self.q1.put(self.q2.get())\n",
        "            return self.q2.get()\n",
        "# Example\n",
        "def example():\n",
        "    stack = StackUsingTwoQueues()\n",
        "    stack.push(2)\n",
        "    stack.push(3)\n",
        "    print(stack.pop())  # Output: 3\n",
        "    stack.push(4)\n",
        "    print(stack.pop())  # Output: 4\n",
        "example()"
      ],
      "metadata": {
        "colab": {
          "base_uri": "https://localhost:8080/"
        },
        "id": "yDTlgLvgg8Qs",
        "outputId": "4c8324de-7b9f-485c-d78b-2d69bb871c4f"
      },
      "execution_count": 11,
      "outputs": [
        {
          "output_type": "stream",
          "name": "stdout",
          "text": [
            "3\n",
            "4\n"
          ]
        }
      ]
    },
    {
      "cell_type": "code",
      "source": [
        "#6\n",
        "def evaluate_postfix_expression(S):\n",
        "    stack = []\n",
        "    for char in S:\n",
        "        if char.isdigit():\n",
        "            stack.append(int(char))\n",
        "        else:\n",
        "            operand2 = stack.pop()\n",
        "            operand1 = stack.pop()\n",
        "            if char == '+':\n",
        "                result = operand1 + operand2\n",
        "            elif char == '-':\n",
        "                result = operand1 - operand2\n",
        "            elif char == '*':\n",
        "                result = operand1 * operand2\n",
        "            elif char == '/':\n",
        "                result = operand1 / operand2\n",
        "            stack.append(result)\n",
        "    return stack.pop()\n",
        "# Example\n",
        "def example():\n",
        "    S = \"231*+9-\"\n",
        "    result = evaluate_postfix_expression(S)\n",
        "    print(result)  # Output: -4\n",
        "example()"
      ],
      "metadata": {
        "colab": {
          "base_uri": "https://localhost:8080/"
        },
        "id": "CX_V8sJfhIvm",
        "outputId": "b9708e9f-65c9-421d-a0ef-6666001b822e"
      },
      "execution_count": 12,
      "outputs": [
        {
          "output_type": "stream",
          "name": "stdout",
          "text": [
            "-4\n"
          ]
        }
      ]
    },
    {
      "cell_type": "code",
      "source": [
        "#7\n",
        "class MinStack:\n",
        "    def __init__(self):\n",
        "        self.data_stack = []\n",
        "        self.min_stack = []\n",
        "    def push(self, val):\n",
        "        self.data_stack.append(val)\n",
        "        if not self.min_stack or val <= self.min_stack[-1]:\n",
        "            self.min_stack.append(val)\n",
        "    def pop(self):\n",
        "        if self.data_stack:\n",
        "            popped_val = self.data_stack.pop()\n",
        "            if popped_val == self.min_stack[-1]:\n",
        "                self.min_stack.pop()\n",
        "    def top(self):\n",
        "        if self.data_stack:\n",
        "            return self.data_stack[-1]\n",
        "    def getMin(self):\n",
        "        if self.min_stack:\n",
        "            return self.min_stack[-1]\n",
        "# Example\n",
        "def example():\n",
        "    operations = [\"MinStack\", \"push\", \"push\", \"push\", \"getMin\", \"pop\", \"top\", \"getMin\"]\n",
        "    values = [[], [-2], [0], [-3], [], [], [], []]\n",
        "    minStack = None\n",
        "    output = []\n",
        "    for i in range(len(operations)):\n",
        "        operation = operations[i]\n",
        "        value = values[i][0] if len(values[i]) > 0 else None\n",
        "        if operation == \"MinStack\":\n",
        "            minStack = MinStack()\n",
        "            output.append(None)\n",
        "        elif operation == \"push\":\n",
        "            minStack.push(value)\n",
        "            output.append(None)\n",
        "        elif operation == \"pop\":\n",
        "            minStack.pop()\n",
        "            output.append(None)\n",
        "        elif operation == \"top\":\n",
        "            result = minStack.top()\n",
        "            output.append(result)\n",
        "        elif operation == \"getMin\":\n",
        "            result = minStack.getMin()\n",
        "            output.append(result)\n",
        "    print(output)\n",
        "example()"
      ],
      "metadata": {
        "colab": {
          "base_uri": "https://localhost:8080/"
        },
        "id": "CX-Npua6hVWu",
        "outputId": "40ba36ab-a7ca-4170-f50e-530466636ab1"
      },
      "execution_count": 13,
      "outputs": [
        {
          "output_type": "stream",
          "name": "stdout",
          "text": [
            "[None, None, None, None, -3, None, 0, -2]\n"
          ]
        }
      ]
    },
    {
      "cell_type": "code",
      "source": [
        "#8\n",
        "def trap(height):\n",
        "    left = 0\n",
        "    right = len(height) - 1\n",
        "    left_max_height = 0\n",
        "    right_max_height = 0\n",
        "    trapped_water = 0\n",
        "    while left <= right:\n",
        "        if height[left] <= height[right]:\n",
        "            if height[left] >= left_max_height:\n",
        "                left_max_height = height[left]\n",
        "            else:\n",
        "                trapped_water += left_max_height - height[left]\n",
        "            left += 1\n",
        "        else:\n",
        "            if height[right] >= right_max_height:\n",
        "                right_max_height = height[right]\n",
        "            else:\n",
        "                trapped_water += right_max_height - height[right]\n",
        "            right -= 1\n",
        "    return trapped_water\n",
        "# Example\n",
        "def example():\n",
        "    height = [0, 1, 0, 2, 1, 0, 1, 3, 2, 1, 2, 1]\n",
        "    result = trap(height)\n",
        "    print(result)  # Output: 6\n",
        "example()"
      ],
      "metadata": {
        "colab": {
          "base_uri": "https://localhost:8080/"
        },
        "id": "Cb_14qd1hh9m",
        "outputId": "2b5c7de9-ed44-470e-c7a9-452439cebd74"
      },
      "execution_count": 14,
      "outputs": [
        {
          "output_type": "stream",
          "name": "stdout",
          "text": [
            "6\n"
          ]
        }
      ]
    }
  ]
}