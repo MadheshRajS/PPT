{
  "nbformat": 4,
  "nbformat_minor": 0,
  "metadata": {
    "colab": {
      "provenance": []
    },
    "kernelspec": {
      "name": "python3",
      "display_name": "Python 3"
    },
    "language_info": {
      "name": "python"
    }
  },
  "cells": [
    {
      "cell_type": "code",
      "execution_count": 1,
      "metadata": {
        "colab": {
          "base_uri": "https://localhost:8080/"
        },
        "id": "LrbcSPvYb49g",
        "outputId": "0868407d-9eed-4783-e2f1-578c0bf4d1ad"
      },
      "outputs": [
        {
          "output_type": "stream",
          "name": "stdout",
          "text": [
            "1 -> 3 -> 4 -> None\n"
          ]
        }
      ],
      "source": [
        "#1\n",
        "class ListNode:\n",
        "    def __init__(self, value):\n",
        "        self.value = value\n",
        "        self.next = None\n",
        "def detect_loop(head):\n",
        "    slow_ptr = head\n",
        "    fast_ptr = head\n",
        "    while fast_ptr and fast_ptr.next:\n",
        "        slow_ptr = slow_ptr.next\n",
        "        fast_ptr = fast_ptr.next.next\n",
        "        if slow_ptr == fast_ptr:\n",
        "            return slow_ptr\n",
        "    return None\n",
        "def remove_loop(head, loop_node):\n",
        "    ptr1 = head\n",
        "    ptr2 = loop_node\n",
        "    while ptr1.next != ptr2.next:\n",
        "        ptr1 = ptr1.next\n",
        "        ptr2 = ptr2.next\n",
        "    ptr2.next = None\n",
        "def remove_loop_from_linked_list(head):\n",
        "    loop_node = detect_loop(head)\n",
        "    if loop_node:\n",
        "        remove_loop(head, loop_node)\n",
        "def print_linked_list(head):\n",
        "    current = head\n",
        "    while current:\n",
        "        print(current.value, end=\" -> \")\n",
        "        current = current.next\n",
        "    print(\"None\")\n",
        "# Example 1\n",
        "def example1():\n",
        "    node1 = ListNode(1)\n",
        "    node2 = ListNode(3)\n",
        "    node3 = ListNode(4)\n",
        "    node1.next = node2\n",
        "    node2.next = node3\n",
        "    node3.next = node2  # Creating a loop, node3 is connected to node2\n",
        "    remove_loop_from_linked_list(node1)\n",
        "    print_linked_list(node1)\n",
        "example1()"
      ]
    },
    {
      "cell_type": "code",
      "source": [
        "#2\n",
        "class ListNode:\n",
        "    def __init__(self, value):\n",
        "        self.value = value\n",
        "        self.next = None\n",
        "def add_one_to_linked_list(head):\n",
        "    # Step 1: Find the rightmost non-nine node (if any)\n",
        "    non_nine_node = None\n",
        "    current = head\n",
        "    while current:\n",
        "        if current.value != 9:\n",
        "            non_nine_node = current\n",
        "        current = current.next\n",
        "    # Step 2: Add 1 to the rightmost non-nine node or create a new node if none exists\n",
        "    if non_nine_node is None:\n",
        "        new_head = ListNode(1)\n",
        "        new_head.next = head\n",
        "        head = new_head\n",
        "    else:\n",
        "        non_nine_node.value += 1\n",
        "    # Step 3: Set all nodes to the right of the non-nine node to 0\n",
        "    current = non_nine_node.next\n",
        "    while current:\n",
        "        current.value = 0\n",
        "        current = current.next\n",
        "    return head\n",
        "def linked_list_to_number(head):\n",
        "    num = 0\n",
        "    current = head\n",
        "    while current:\n",
        "        num = num * 10 + current.value\n",
        "        current = current.next\n",
        "    return num\n",
        "def print_linked_list(head):\n",
        "    current = head\n",
        "    while current:\n",
        "        print(current.value, end=\" -> \")\n",
        "        current = current.next\n",
        "    print(\"None\")\n",
        "# Helper function to create a linked list from a list of digits\n",
        "def create_linked_list(digits):\n",
        "    head = None\n",
        "    tail = None\n",
        "    for digit in digits:\n",
        "        new_node = ListNode(digit)\n",
        "        if not head:\n",
        "            head = new_node\n",
        "            tail = new_node\n",
        "        else:\n",
        "            tail.next = new_node\n",
        "            tail = new_node\n",
        "    return head\n",
        "# Example\n",
        "def example():\n",
        "    digits = [4, 5, 6]\n",
        "    head = create_linked_list(digits)\n",
        "    print(\"Input:\")\n",
        "    print_linked_list(head)\n",
        "    head = add_one_to_linked_list(head)\n",
        "    print(\"Output:\")\n",
        "    print_linked_list(head)\n",
        "    result = linked_list_to_number(head)\n",
        "    print(\"Result:\", result)\n",
        "example()"
      ],
      "metadata": {
        "colab": {
          "base_uri": "https://localhost:8080/"
        },
        "id": "Ek8vGWWHcPfn",
        "outputId": "f5ef06f5-9ccc-43e7-a9c5-75c3c769734f"
      },
      "execution_count": 2,
      "outputs": [
        {
          "output_type": "stream",
          "name": "stdout",
          "text": [
            "Input:\n",
            "4 -> 5 -> 6 -> None\n",
            "Output:\n",
            "4 -> 5 -> 7 -> None\n",
            "Result: 457\n"
          ]
        }
      ]
    },
    {
      "cell_type": "code",
      "source": [
        "#3\n",
        "class ListNode:\n",
        "    def __init__(self, value):\n",
        "        self.value = value\n",
        "        self.next = None\n",
        "        self.bottom = None\n",
        "def merge_sorted_lists(head1, head2):\n",
        "    dummy = ListNode(-1)\n",
        "    current = dummy\n",
        "    while head1 and head2:\n",
        "        if head1.value <= head2.value:\n",
        "            current.bottom = head1\n",
        "            head1 = head1.bottom\n",
        "        else:\n",
        "            current.bottom = head2\n",
        "            head2 = head2.bottom\n",
        "        current = current.bottom\n",
        "    if head1:\n",
        "        current.bottom = head1\n",
        "    else:\n",
        "        current.bottom = head2\n",
        "    return dummy.bottom\n",
        "def flatten_linked_list(head):\n",
        "    if not head or not head.next:\n",
        "        return head\n",
        "    head.next = flatten_linked_list(head.next)\n",
        "    head = merge_sorted_lists(head, head.next)\n",
        "    return head\n",
        "def print_flattened_list(head):\n",
        "    current = head\n",
        "    while current:\n",
        "        print(current.value, end=\" -> \")\n",
        "        current = current.bottom\n",
        "    print(\"None\")\n",
        "# Example\n",
        "def example():\n",
        "    node1 = ListNode(5)\n",
        "    node2 = ListNode(10)\n",
        "    node3 = ListNode(19)\n",
        "    node4 = ListNode(28)\n",
        "    node1.next = node2\n",
        "    node2.next = node3\n",
        "    node3.next = node4\n",
        "    node1.bottom = ListNode(7)\n",
        "    node1.bottom.bottom = ListNode(8)\n",
        "    node1.bottom.bottom.bottom = ListNode(30)\n",
        "    node2.bottom = ListNode(20)\n",
        "    node3.bottom = ListNode(22)\n",
        "    node3.bottom.bottom = ListNode(50)\n",
        "    node4.bottom = ListNode(35)\n",
        "    node4.bottom.bottom = ListNode(40)\n",
        "    node4.bottom.bottom.bottom = ListNode(45)\n",
        "    flattened_head = flatten_linked_list(node1)\n",
        "    print(\"Output:\")\n",
        "    print_flattened_list(flattened_head)\n",
        "example()"
      ],
      "metadata": {
        "colab": {
          "base_uri": "https://localhost:8080/"
        },
        "id": "UE-l4qmHcYMC",
        "outputId": "44f8a856-6a1d-4baf-f2bb-82224c6ee2c5"
      },
      "execution_count": 3,
      "outputs": [
        {
          "output_type": "stream",
          "name": "stdout",
          "text": [
            "Output:\n",
            "5 -> 7 -> 8 -> 10 -> 19 -> 20 -> 22 -> 28 -> 30 -> 35 -> 40 -> 45 -> 50 -> None\n"
          ]
        }
      ]
    },
    {
      "cell_type": "code",
      "source": [
        "#6\n",
        "class ListNode:\n",
        "    def __init__(self, value):\n",
        "        self.value = value\n",
        "        self.next = None\n",
        "def left_shift_linked_list(head, k):\n",
        "    if not head or k == 0:\n",
        "        return head\n",
        "    # Step 1: Find the kth node from the beginning\n",
        "    current = head\n",
        "    for _ in range(k):\n",
        "        if not current.next:  # Handle cases where k is larger than the list size\n",
        "            return head\n",
        "        current = current.next\n",
        "    # Step 2: Find the last node of the original list\n",
        "    last_node = head\n",
        "    while last_node.next:\n",
        "        last_node = last_node.next\n",
        "    # Step 3: Form a loop by connecting the last node to the head of the original list\n",
        "    last_node.next = head\n",
        "    # Step 4: Update the new head of the rotated list\n",
        "    new_head = current.next\n",
        "    current.next = None\n",
        "    return new_head\n",
        "def print_linked_list(head):\n",
        "    current = head\n",
        "    while current:\n",
        "        print(current.value, end=\" -> \")\n",
        "        current = current.next\n",
        "    print(\"None\")\n",
        "# Example\n",
        "def example():\n",
        "    values = [2, 4, 7, 8, 9]\n",
        "    k = 3\n",
        "    head = None\n",
        "    tail = None\n",
        "    for value in values:\n",
        "        new_node = ListNode(value)\n",
        "        if not head:\n",
        "            head = new_node\n",
        "            tail = new_node\n",
        "        else:\n",
        "            tail.next = new_node\n",
        "            tail = new_node\n",
        "    print(\"Input:\")\n",
        "    print_linked_list(head)\n",
        "    rotated_head = left_shift_linked_list(head, k)\n",
        "    print(\"Output:\")\n",
        "    print_linked_list(rotated_head)\n",
        "example()"
      ],
      "metadata": {
        "colab": {
          "base_uri": "https://localhost:8080/"
        },
        "id": "PXS3jum0cssG",
        "outputId": "611d9251-5848-4049-ea4d-1522898d0d5d"
      },
      "execution_count": 4,
      "outputs": [
        {
          "output_type": "stream",
          "name": "stdout",
          "text": [
            "Input:\n",
            "2 -> 4 -> 7 -> 8 -> 9 -> None\n",
            "Output:\n",
            "9 -> 2 -> 4 -> 7 -> 8 -> None\n"
          ]
        }
      ]
    },
    {
      "cell_type": "code",
      "source": [
        "#7\n",
        "class ListNode:\n",
        "    def __init__(self, value):\n",
        "        self.value = value\n",
        "        self.next = None\n",
        "def find_next_greater_nodes(head):\n",
        "    # Step 1: Create a list of node values from the linked list\n",
        "    node_values = []\n",
        "    current = head\n",
        "    while current:\n",
        "        node_values.append(current.value)\n",
        "        current = current.next\n",
        "    # Step 2: Initialize the result array\n",
        "    n = len(node_values)\n",
        "    result = [0] * n\n",
        "    # Step 3: Use a stack to keep track of indices of nodes in decreasing order of values\n",
        "    stack = []\n",
        "    # Step 4: Traverse the linked list again and update the result array\n",
        "    for i in range(n):\n",
        "        while stack and node_values[stack[-1]] < node_values[i]:\n",
        "            result[stack.pop()] = node_values[i]\n",
        "        stack.append(i)\n",
        "    return result\n",
        "# Helper function to create a linked list from a list of values\n",
        "def create_linked_list(values):\n",
        "    head = None\n",
        "    tail = None\n",
        "    for value in values:\n",
        "        new_node = ListNode(value)\n",
        "        if not head:\n",
        "            head = new_node\n",
        "            tail = new_node\n",
        "        else:\n",
        "            tail.next = new_node\n",
        "            tail = new_node\n",
        "    return head\n",
        "# Example\n",
        "def example():\n",
        "    values = [2, 1, 5]\n",
        "    head = create_linked_list(values)\n",
        "    print(\"Input:\")\n",
        "    current = head\n",
        "    while current:\n",
        "        print(current.value, end=\" -> \")\n",
        "        current = current.next\n",
        "    print(\"None\")\n",
        "    result = find_next_greater_nodes(head)\n",
        "    print(\"Output:\", result)\n",
        "example()"
      ],
      "metadata": {
        "colab": {
          "base_uri": "https://localhost:8080/"
        },
        "id": "N7N235XVfCOG",
        "outputId": "7b453117-da40-4515-fd62-0d3bcea6191f"
      },
      "execution_count": 5,
      "outputs": [
        {
          "output_type": "stream",
          "name": "stdout",
          "text": [
            "Input:\n",
            "2 -> 1 -> 5 -> None\n",
            "Output: [5, 5, 0]\n"
          ]
        }
      ]
    },
    {
      "cell_type": "code",
      "source": [
        "#8\n",
        "class ListNode:\n",
        "    def __init__(self, value):\n",
        "        self.value = value\n",
        "        self.next = None\n",
        "def reorder_linked_list(head):\n",
        "    if not head or not head.next:\n",
        "        return head\n",
        "    # Separate odd-indexed and even-indexed nodes\n",
        "    odd_head = head\n",
        "    even_head = head.next\n",
        "    odd_current = odd_head\n",
        "    even_current = even_head\n",
        "    while even_current and even_current.next:\n",
        "        odd_current.next = even_current.next\n",
        "        odd_current = odd_current.next\n",
        "        even_current.next = odd_current.next\n",
        "        even_current = even_current.next\n",
        "    # Merge odd-indexed and even-indexed lists\n",
        "    odd_current.next = even_head\n",
        "    return odd_head\n",
        "# Helper function to create a linked list from a list of values\n",
        "def create_linked_list(values):\n",
        "    head = None\n",
        "    tail = None\n",
        "    for value in values:\n",
        "        new_node = ListNode(value)\n",
        "        if not head:\n",
        "            head = new_node\n",
        "            tail = new_node\n",
        "        else:\n",
        "            tail.next = new_node\n",
        "            tail = new_node\n",
        "    return head\n",
        "# Helper function to convert linked list to a list of values\n",
        "def linked_list_to_list(head):\n",
        "    values = []\n",
        "    current = head\n",
        "    while current:\n",
        "        values.append(current.value)\n",
        "        current = current.next\n",
        "    return values\n",
        "# Example\n",
        "def example():\n",
        "    values = [1, 2, 3, 4, 5]\n",
        "    head = create_linked_list(values)\n",
        "    print(\"Input:\")\n",
        "    current = head\n",
        "    while current:\n",
        "        print(current.value, end=\" -> \")\n",
        "        current = current.next\n",
        "    print(\"None\")\n",
        "    result_head = reorder_linked_list(head)\n",
        "    print(\"\\nOutput:\")\n",
        "    result_list = linked_list_to_list(result_head)\n",
        "    print(result_list)\n",
        "example()"
      ],
      "metadata": {
        "colab": {
          "base_uri": "https://localhost:8080/"
        },
        "id": "YmACcwbLfSAd",
        "outputId": "dec37ab3-0eac-4bae-9cd8-b0c1aff05903"
      },
      "execution_count": 8,
      "outputs": [
        {
          "output_type": "stream",
          "name": "stdout",
          "text": [
            "Input:\n",
            "1 -> 2 -> 3 -> 4 -> 5 -> None\n",
            "\n",
            "Output:\n",
            "[1, 3, 5, 2, 4]\n"
          ]
        }
      ]
    }
  ]
}