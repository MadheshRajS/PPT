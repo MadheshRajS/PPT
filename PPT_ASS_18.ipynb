{
  "nbformat": 4,
  "nbformat_minor": 0,
  "metadata": {
    "colab": {
      "provenance": []
    },
    "kernelspec": {
      "name": "python3",
      "display_name": "Python 3"
    },
    "language_info": {
      "name": "python"
    }
  },
  "cells": [
    {
      "cell_type": "code",
      "source": [
        "#1\n",
        "def merge(intervals):\n",
        "    # Sort the intervals based on their start times\n",
        "    intervals.sort(key=lambda x: x[0])\n",
        "    # Initialize the merged list with the first interval\n",
        "    merged = [intervals[0]]\n",
        "    # Iterate through the sorted intervals\n",
        "    for i in range(1, len(intervals)):\n",
        "        # Check if the current interval overlaps with the last interval in merged\n",
        "        if intervals[i][0] <= merged[-1][1]:\n",
        "            # Merge the intervals by updating the end time of the last interval in merged\n",
        "            merged[-1][1] = max(merged[-1][1], intervals[i][1])\n",
        "        else:\n",
        "            # If no overlap, add the current interval to the merged list\n",
        "            merged.append(intervals[i])\n",
        "    return merged\n",
        "# Example\n",
        "intervals = [[1, 3], [2, 6], [8, 10], [15, 18]]\n",
        "print(merge(intervals))  # Output: [[1, 6], [8, 10], [15, 18]]"
      ],
      "metadata": {
        "colab": {
          "base_uri": "https://localhost:8080/"
        },
        "id": "9uR9Vd7G5f0K",
        "outputId": "38fb12a7-2d21-4c3d-9325-d18d2f77cc0a"
      },
      "execution_count": 30,
      "outputs": [
        {
          "output_type": "stream",
          "name": "stdout",
          "text": [
            "[[1, 6], [8, 10], [15, 18]]\n"
          ]
        }
      ]
    },
    {
      "cell_type": "code",
      "source": [
        "#2\n",
        "def sortColors(nums):\n",
        "    low, mid, high = 0, 0, len(nums) - 1\n",
        "    while mid <= high:\n",
        "        if nums[mid] == 0:\n",
        "            nums[mid], nums[low] = nums[low], nums[mid]\n",
        "            low += 1\n",
        "            mid += 1\n",
        "        elif nums[mid] == 1:\n",
        "            mid += 1\n",
        "        else:  # nums[mid] == 2\n",
        "            nums[mid], nums[high] = nums[high], nums[mid]\n",
        "            high -= 1\n",
        "    return nums\n",
        "# Example\n",
        "nums = [2, 0, 2, 1, 1, 0]\n",
        "print(sortColors(nums))  # Output: [0, 0, 1, 1, 2, 2]\n"
      ],
      "metadata": {
        "colab": {
          "base_uri": "https://localhost:8080/"
        },
        "id": "MvcnyPEN5gmo",
        "outputId": "401906dc-4c23-4a86-c9bc-6bedb348c1dc"
      },
      "execution_count": 31,
      "outputs": [
        {
          "output_type": "stream",
          "name": "stdout",
          "text": [
            "[0, 0, 1, 1, 2, 2]\n"
          ]
        }
      ]
    },
    {
      "cell_type": "code",
      "source": [
        "#3\n",
        "def isBadVersion(version):\n",
        "    # This is a placeholder for the actual implementation of the isBadVersion API\n",
        "    # It should return True if the version is bad, and False otherwise\n",
        "    pass\n",
        "def firstBadVersion(n):\n",
        "    left, right = 1, n\n",
        "    while left < right:\n",
        "        mid = left + (right - left) // 2\n",
        "        if isBadVersion(mid):\n",
        "            right = mid\n",
        "        else:\n",
        "            left = mid + 1\n",
        "    return left\n",
        "# Example usage:\n",
        "def isBadVersion(version):\n",
        "    # Assuming bad version is 4 for demonstration purposes\n",
        "    return version >= 4\n",
        "bad_version = firstBadVersion(5)\n",
        "print(\"The first bad version is:\", bad_version)"
      ],
      "metadata": {
        "colab": {
          "base_uri": "https://localhost:8080/"
        },
        "id": "Q1J0mwbi5hRq",
        "outputId": "80553e29-6734-42fa-d8ad-15b5f57509e7"
      },
      "execution_count": 32,
      "outputs": [
        {
          "output_type": "stream",
          "name": "stdout",
          "text": [
            "The first bad version is: 4\n"
          ]
        }
      ]
    },
    {
      "cell_type": "code",
      "source": [
        "#6\n",
        "def findMinArrowShots(points):\n",
        "    if not points:\n",
        "        return 0\n",
        "    # Sort the balloons based on their end points\n",
        "    points.sort(key=lambda x: x[1])\n",
        "    arrows = 1\n",
        "    end = points[0][1]\n",
        "    # Start shooting arrows from the first balloon's end point\n",
        "    for i in range(1, len(points)):\n",
        "        if points[i][0] > end:\n",
        "            # If the next balloon's start point is greater than the current end point,\n",
        "            # then we need to shoot another arrow at the new balloon's end point\n",
        "            arrows += 1\n",
        "            end = points[i][1]\n",
        "    return arrows\n",
        "# Test the function with the given input\n",
        "points = [[10, 16], [2, 8], [1, 6], [7, 12]]\n",
        "print(findMinArrowShots(points))  # Output: 2"
      ],
      "metadata": {
        "colab": {
          "base_uri": "https://localhost:8080/"
        },
        "id": "KTgwIo-W5iJj",
        "outputId": "a2229af1-a669-417b-b823-28b647599a26"
      },
      "execution_count": 33,
      "outputs": [
        {
          "output_type": "stream",
          "name": "stdout",
          "text": [
            "2\n"
          ]
        }
      ]
    },
    {
      "cell_type": "code",
      "source": [
        "#7\n",
        "def lengthOfLIS(nums):\n",
        "    if not nums:\n",
        "        return 0\n",
        "    # Initialize an array to store the length of the longest increasing subsequence ending at each index\n",
        "    dp = [1] * len(nums)\n",
        "    for i in range(1, len(nums)):\n",
        "        for j in range(i):\n",
        "            if nums[i] > nums[j]:\n",
        "                # If the current element is greater than the previous element,\n",
        "                # update the length of the increasing subsequence for the current element\n",
        "                dp[i] = max(dp[i], dp[j] + 1)\n",
        "    # Return the maximum value from the dp array\n",
        "    return max(dp)\n",
        "# Test the function with the given input\n",
        "nums = [10, 9, 2, 5, 3, 7, 101, 18]\n",
        "print(lengthOfLIS(nums))  # Output: 4"
      ],
      "metadata": {
        "colab": {
          "base_uri": "https://localhost:8080/"
        },
        "id": "ULiDiUTO5jQX",
        "outputId": "b41cbeae-3b4c-4696-f8f1-f342219517ed"
      },
      "execution_count": 34,
      "outputs": [
        {
          "output_type": "stream",
          "name": "stdout",
          "text": [
            "4\n"
          ]
        }
      ]
    },
    {
      "cell_type": "code",
      "source": [
        "#8\n",
        "def find132pattern(nums):\n",
        "    n = len(nums)\n",
        "    if n < 3:\n",
        "        return False\n",
        "    stack = []\n",
        "    max_2 = float('-inf')\n",
        "    for i in range(n - 1, -1, -1):\n",
        "        if nums[i] < max_2:\n",
        "            return True\n",
        "        while stack and nums[i] > stack[-1]:\n",
        "            max_2 = stack.pop()\n",
        "        stack.append(nums[i])\n",
        "    return False\n",
        "# Test the function with the given example\n",
        "nums = [1, 2, 3, 4]\n",
        "print(find132pattern(nums))  # Output: False"
      ],
      "metadata": {
        "colab": {
          "base_uri": "https://localhost:8080/"
        },
        "id": "Wx75Nsiy5kd3",
        "outputId": "f4af854d-ac94-434d-fc82-ffd2aa14a2ff"
      },
      "execution_count": 35,
      "outputs": [
        {
          "output_type": "stream",
          "name": "stdout",
          "text": [
            "False\n"
          ]
        }
      ]
    }
  ]
}