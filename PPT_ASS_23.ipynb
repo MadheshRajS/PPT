{
  "nbformat": 4,
  "nbformat_minor": 0,
  "metadata": {
    "colab": {
      "provenance": []
    },
    "kernelspec": {
      "name": "python3",
      "display_name": "Python 3"
    },
    "language_info": {
      "name": "python"
    }
  },
  "cells": [
    {
      "cell_type": "code",
      "source": [
        "#1\n",
        "def depth_of_binary_tree(preorder):\n",
        "    def helper(preorder, index):\n",
        "        if index >= len(preorder):\n",
        "            return 0, index\n",
        "        if preorder[index] == 'l':\n",
        "            return 0, index + 1\n",
        "        left_depth, index = helper(preorder, index + 1)\n",
        "        right_depth, index = helper(preorder, index)\n",
        "        return max(left_depth, right_depth) + 1, index\n",
        "    depth, _ = helper(preorder, 0)\n",
        "    return depth\n",
        "# Test the function with example\n",
        "preorder1 = 'nlnll'\n",
        "print(depth_of_binary_tree(preorder1))  # Output: 2\n",
        "preorder2 = 'nlnnlll'\n",
        "print(depth_of_binary_tree(preorder2))  # Output: 3"
      ],
      "metadata": {
        "colab": {
          "base_uri": "https://localhost:8080/"
        },
        "id": "wGPKU-R_FVMF",
        "outputId": "aceb3dc6-161b-4813-9247-7dc9d4a2e08f"
      },
      "execution_count": 54,
      "outputs": [
        {
          "output_type": "stream",
          "name": "stdout",
          "text": [
            "2\n",
            "3\n"
          ]
        }
      ]
    },
    {
      "cell_type": "code",
      "source": [
        "#2\n",
        "class TreeNode:\n",
        "    def __init__(self, val):\n",
        "        self.val = val\n",
        "        self.left = None\n",
        "        self.right = None\n",
        "def left_view_of_binary_tree(root):\n",
        "    if not root:\n",
        "        return\n",
        "    queue = [root]\n",
        "    left_view = []\n",
        "    while queue:\n",
        "        level_size = len(queue)\n",
        "        for i in range(level_size):\n",
        "            node = queue.pop(0)\n",
        "            if i == 0:\n",
        "                left_view.append(node.val)\n",
        "            if node.left:\n",
        "                queue.append(node.left)\n",
        "            if node.right:\n",
        "                queue.append(node.right)\n",
        "    return left_view\n",
        "# Test the function with the given binary tree\n",
        "root = TreeNode(4)\n",
        "root.left = TreeNode(5)\n",
        "root.right = TreeNode(2)\n",
        "root.right.left = TreeNode(3)\n",
        "root.right.right = TreeNode(1)\n",
        "root.right.left.left = TreeNode(6)\n",
        "root.right.left.right = TreeNode(7)\n",
        "print(left_view_of_binary_tree(root))  # Output: [4, 5, 3, 6]"
      ],
      "metadata": {
        "colab": {
          "base_uri": "https://localhost:8080/"
        },
        "id": "LHkd0oVxFV-X",
        "outputId": "c57b8268-8d73-489f-977a-6795fb4c7c10"
      },
      "execution_count": 55,
      "outputs": [
        {
          "output_type": "stream",
          "name": "stdout",
          "text": [
            "[4, 5, 3, 6]\n"
          ]
        }
      ]
    },
    {
      "cell_type": "code",
      "source": [
        "#4\n",
        "from collections import defaultdict, deque\n",
        "class TreeNode:\n",
        "    def __init__(self, val):\n",
        "        self.val = val\n",
        "        self.left = None\n",
        "        self.right = None\n",
        "def bottom_view_of_binary_tree(root):\n",
        "    if not root:\n",
        "        return\n",
        "    queue = deque([(root, 0)])\n",
        "    horizontal_distances = defaultdict(int)\n",
        "    while queue:\n",
        "        node, hd = queue.popleft()\n",
        "        horizontal_distances[hd] = node.val\n",
        "        if node.left:\n",
        "            queue.append((node.left, hd - 1))\n",
        "        if node.right:\n",
        "            queue.append((node.right, hd + 1))\n",
        "    bottom_view = sorted(horizontal_distances.items(), key=lambda x: x[0])\n",
        "    for hd, val in bottom_view:\n",
        "        print(val, end=' ')\n",
        "# Test the function with the given binary tree\n",
        "root = TreeNode(20)\n",
        "root.left = TreeNode(8)\n",
        "root.right = TreeNode(22)\n",
        "root.left.left = TreeNode(5)\n",
        "root.left.right = TreeNode(3)\n",
        "root.right.right = TreeNode(25)\n",
        "root.left.right.left = TreeNode(10)\n",
        "root.left.right.right = TreeNode(14)\n",
        "bottom_view_of_binary_tree(root)  # Output: 5 10 3 14 25"
      ],
      "metadata": {
        "colab": {
          "base_uri": "https://localhost:8080/"
        },
        "id": "4I8HUFm4FWtB",
        "outputId": "9209ff60-2833-425e-d187-19c73c056ccc"
      },
      "execution_count": 56,
      "outputs": [
        {
          "output_type": "stream",
          "name": "stdout",
          "text": [
            "5 10 3 14 25 "
          ]
        }
      ]
    }
  ]
}