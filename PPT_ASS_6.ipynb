{
  "nbformat": 4,
  "nbformat_minor": 0,
  "metadata": {
    "colab": {
      "provenance": []
    },
    "kernelspec": {
      "name": "python3",
      "display_name": "Python 3"
    },
    "language_info": {
      "name": "python"
    }
  },
  "cells": [
    {
      "cell_type": "code",
      "execution_count": 1,
      "metadata": {
        "colab": {
          "base_uri": "https://localhost:8080/"
        },
        "id": "tAi1bW56j2vX",
        "outputId": "9a19e5f9-db5c-4a80-d3b8-a35a748d8701"
      },
      "outputs": [
        {
          "output_type": "stream",
          "name": "stdout",
          "text": [
            "[2, 2, 3, 1, 0]\n"
          ]
        }
      ],
      "source": [
        "'''\n",
        "<aside>\n",
        "💡 **Question 1**\n",
        "A permutation perm of n + 1 integers of all the integers in the range [0, n] can be represented as a string s of length n where:\n",
        "- s[i] == 'I' if perm[i] < perm[i + 1], and\n",
        "- s[i] == 'D' if perm[i] > perm[i + 1].\n",
        "Given a string s, reconstruct the permutation perm and return it. If there are multiple valid permutations perm, return **any of them**.\n",
        "**Example 1:**\n",
        "**Input:** s = \"IDID\"\n",
        "**Output:**\n",
        "[0,4,1,3,2]\n",
        "</aside>\n",
        "'''\n",
        "def findPermutation(s):\n",
        "    n = len(s)\n",
        "    perm = [0] * (n + 1)\n",
        "    left = 0\n",
        "    right = 0\n",
        "    for i in range(n):\n",
        "        if s[i] == 'I':\n",
        "            perm[i] = right\n",
        "            right += 1\n",
        "        else:\n",
        "            perm[i] = left\n",
        "            left -= 1\n",
        "    perm[n] = left\n",
        "    for i in range(n + 1):\n",
        "        perm[i] -= left\n",
        "    return perm\n",
        "s = \"IDID\"\n",
        "result = findPermutation(s)\n",
        "print(result)"
      ]
    },
    {
      "cell_type": "code",
      "source": [
        "'''\n",
        "<aside>\n",
        "💡 **Question 2**\n",
        "You are given an m x n integer matrix matrix with the following two properties:\n",
        "- Each row is sorted in non-decreasing order.\n",
        "- The first integer of each row is greater than the last integer of the previous row.\n",
        "Given an integer target, return true *if* target *is in* matrix *or* false *otherwise*.\n",
        "You must write a solution in O(log(m * n)) time complexity.\n",
        "**Example 1:**\n",
        "**Input:** matrix = [[1,3,5,7],[10,11,16,20],[23,30,34,60]], target = 3\n",
        "**Output:** true\n",
        "</aside>\n",
        "'''\n",
        "def searchMatrix(matrix, target):\n",
        "    if not matrix or not matrix[0]:\n",
        "        return False\n",
        "    m, n = len(matrix), len(matrix[0])\n",
        "    left, right = 0, m * n - 1\n",
        "    while left <= right:\n",
        "        mid = (left + right) // 2\n",
        "        mid_val = matrix[mid // n][mid % n]\n",
        "        if mid_val == target:\n",
        "            return True\n",
        "        elif mid_val < target:\n",
        "            left = mid + 1\n",
        "        else:\n",
        "            right = mid - 1\n",
        "    return False\n",
        "matrix = [[1, 3, 5, 7], [10, 11, 16, 20], [23, 30, 34, 60]]\n",
        "target = 3\n",
        "result = searchMatrix(matrix, target)\n",
        "print(result)"
      ],
      "metadata": {
        "colab": {
          "base_uri": "https://localhost:8080/"
        },
        "id": "FbtI0v1pmN09",
        "outputId": "fa2e1a3e-2f55-4535-e9ea-82731323145e"
      },
      "execution_count": 2,
      "outputs": [
        {
          "output_type": "stream",
          "name": "stdout",
          "text": [
            "True\n"
          ]
        }
      ]
    },
    {
      "cell_type": "code",
      "source": [
        "'''\n",
        "<aside>\n",
        "💡 **Question 3**\n",
        "\n",
        "Given an array of integers arr, return *true if and only if it is a valid mountain array*.\n",
        "\n",
        "Recall that arr is a mountain array if and only if:\n",
        "\n",
        "- arr.length >= 3\n",
        "- There exists some i with 0 < i < arr.length - 1 such that:\n",
        "    - arr[0] < arr[1] < ... < arr[i - 1] < arr[i]\n",
        "    - arr[i] > arr[i + 1] > ... > arr[arr.length - 1]\n",
        "**Example 1:**\n",
        "**Input:** arr = [2,1]\n",
        "**Output:**\n",
        "false\n",
        "</aside>\n",
        "'''\n",
        "def validMountainArray(arr):\n",
        "    n = len(arr)\n",
        "    if n < 3:\n",
        "        return False\n",
        "    i = 0\n",
        "    while i < n - 1 and arr[i] < arr[i + 1]:\n",
        "        i += 1\n",
        "    if i == 0 or i == n - 1:\n",
        "        return False\n",
        "    while i < n - 1 and arr[i] > arr[i + 1]:\n",
        "        i += 1\n",
        "    return i == n - 1\n",
        "arr = [2, 1]\n",
        "result = validMountainArray(arr)\n",
        "print(result)"
      ],
      "metadata": {
        "colab": {
          "base_uri": "https://localhost:8080/"
        },
        "id": "8gCWDvf3mhDc",
        "outputId": "fdcde3b3-f63a-48fe-9f5a-3266722b3898"
      },
      "execution_count": 4,
      "outputs": [
        {
          "output_type": "stream",
          "name": "stdout",
          "text": [
            "False\n"
          ]
        }
      ]
    },
    {
      "cell_type": "code",
      "source": [
        "'''\n",
        "<aside>\n",
        "💡 **Question 4**\n",
        "Given a binary array nums, return *the maximum length of a contiguous subarray with an equal number of* 0 *and* 1.\n",
        "**Example 1:**\n",
        "**Input:** nums = [0,1]\n",
        "**Output:** 2\n",
        "**Explanation:**\n",
        "[0, 1] is the longest contiguous subarray with an equal number of 0 and 1.\n",
        "</aside>\n",
        "'''\n",
        "def findMaxLength(nums):\n",
        "    count = 0\n",
        "    max_length = 0\n",
        "    prefix_sum = {0: -1}\n",
        "    for i in range(len(nums)):\n",
        "        if nums[i] == 1:\n",
        "            count += 1\n",
        "        else:\n",
        "            count -= 1\n",
        "        if count in prefix_sum:\n",
        "            max_length = max(max_length, i - prefix_sum[count])\n",
        "        else:\n",
        "            prefix_sum[count] = i\n",
        "    return max_length\n",
        "nums = [0, 1]\n",
        "result = findMaxLength(nums)\n",
        "print(result)"
      ],
      "metadata": {
        "colab": {
          "base_uri": "https://localhost:8080/"
        },
        "id": "nkromLa8mk7h",
        "outputId": "fde2ea0d-ff55-4c34-c5d3-d392904eed4f"
      },
      "execution_count": 5,
      "outputs": [
        {
          "output_type": "stream",
          "name": "stdout",
          "text": [
            "2\n"
          ]
        }
      ]
    },
    {
      "cell_type": "code",
      "source": [
        "'''\n",
        "<aside>\n",
        "💡 **Question 5**\n",
        "The **product sum** of two equal-length arrays a and b is equal to the sum of a[i] * b[i] for all 0 <= i < a.length (**0-indexed**).\n",
        "- For example, if a = [1,2,3,4] and b = [5,2,3,1], the **product sum** would be 1*5 + 2*2 + 3*3 + 4*1 = 22.\n",
        "Given two arrays nums1 and nums2 of length n, return *the **minimum product sum** if you are allowed to **rearrange** the **order** of the elements in* nums1.\n",
        "**Example 1:**\n",
        "**Input:** nums1 = [5,3,4,2], nums2 = [4,2,2,5]\n",
        "**Output:** 40\n",
        "**Explanation:**\n",
        "We can rearrange nums1 to become [3,5,4,2]. The product sum of [3,5,4,2] and [4,2,2,5] is 3*4 + 5*2 + 4*2 + 2*5 = 40.\n",
        "</aside>\n",
        "'''\n",
        "def minProductSum(nums1, nums2):\n",
        "    nums1.sort()\n",
        "    nums2.sort(reverse=True)\n",
        "    product_sum = 0\n",
        "    for i in range(len(nums1)):\n",
        "        product_sum += nums1[i] * nums2[i]\n",
        "    return product_sum\n",
        "# Example usage:\n",
        "nums1 = [5, 3, 4, 2]\n",
        "nums2 = [4, 2, 2, 5]\n",
        "result = minProductSum(nums1, nums2)\n",
        "print(result)"
      ],
      "metadata": {
        "colab": {
          "base_uri": "https://localhost:8080/"
        },
        "id": "2kVC6os6nCP1",
        "outputId": "cdf6790b-cdaf-40ee-82de-f45fd8275ddc"
      },
      "execution_count": 6,
      "outputs": [
        {
          "output_type": "stream",
          "name": "stdout",
          "text": [
            "40\n"
          ]
        }
      ]
    },
    {
      "cell_type": "code",
      "source": [
        "'''\n",
        "<aside>\n",
        "💡 **Question 6**\n",
        "An integer array original is transformed into a **doubled** array changed by appending **twice the value** of every element in original, and then randomly **shuffling** the resulting array.\n",
        "Given an array changed, return original *if* changed *is a **doubled** array. If* changed *is not a **doubled** array, return an empty array. The elements in* original *may be returned in **any** order*.\n",
        "**Example 1:**\n",
        "**Input:** changed = [1,3,4,2,6,8]\n",
        "**Output:** [1,3,4]\n",
        "**Explanation:** One possible original array could be [1,3,4]:\n",
        "- Twice the value of 1 is 1 * 2 = 2.\n",
        "- Twice the value of 3 is 3 * 2 = 6.\n",
        "- Twice the value of 4 is 4 * 2 = 8.\n",
        "Other original arrays could be [4,3,1] or [3,1,4].\n",
        "</aside>\n",
        "'''\n",
        "from collections import defaultdict\n",
        "\n",
        "def findOriginalArray(changed):\n",
        "    if len(changed) % 2 != 0:\n",
        "        return []\n",
        "    count = defaultdict(int)\n",
        "    for num in changed:\n",
        "        count[num] += 1\n",
        "    original = []\n",
        "    for num in changed:\n",
        "        if count[num] == 0:\n",
        "            continue\n",
        "        original.append(num)\n",
        "        count[num] -= 1\n",
        "        if count[num * 2] == 0:\n",
        "            return []\n",
        "        count[num * 2] -= 1\n",
        "    return original\n",
        "changed = [1, 3, 4, 2, 6, 8]\n",
        "original = findOriginalArray(changed)\n",
        "print(original)"
      ],
      "metadata": {
        "colab": {
          "base_uri": "https://localhost:8080/"
        },
        "id": "UdpBt3MVnOJ_",
        "outputId": "7de4b5b9-3fe0-45ac-95e1-6d41483e921e"
      },
      "execution_count": 7,
      "outputs": [
        {
          "output_type": "stream",
          "name": "stdout",
          "text": [
            "[1, 3, 4]\n"
          ]
        }
      ]
    },
    {
      "cell_type": "code",
      "source": [
        "'''\n",
        "<aside>\n",
        "💡 **Question 7**\n",
        "Given a positive integer n, generate an n x n matrix filled with elements from 1 to n2 in spiral order.\n",
        "**Example 1:**\n",
        "**Input:** n = 3\n",
        "**Output:** [[1,2,3],[8,9,4],[7,6,5]]\n",
        "</aside>\n",
        "'''\n",
        "def generateMatrix(n):\n",
        "    matrix = [[0] * n for _ in range(n)]\n",
        "    top, bottom, left, right = 0, n - 1, 0, n - 1\n",
        "    num = 1\n",
        "    while num <= n * n:\n",
        "        for i in range(left, right + 1):\n",
        "            matrix[top][i] = num\n",
        "            num += 1\n",
        "        top += 1\n",
        "        for i in range(top, bottom + 1):\n",
        "            matrix[i][right] = num\n",
        "            num += 1\n",
        "        right -= 1\n",
        "        for i in range(right, left - 1, -1):\n",
        "            matrix[bottom][i] = num\n",
        "            num += 1\n",
        "        bottom -= 1\n",
        "        for i in range(bottom, top - 1, -1):\n",
        "            matrix[i][left] = num\n",
        "            num += 1\n",
        "        left += 1\n",
        "    return matrix\n",
        "n = 3\n",
        "matrix = generateMatrix(n)\n",
        "print(matrix)"
      ],
      "metadata": {
        "colab": {
          "base_uri": "https://localhost:8080/"
        },
        "id": "o3eV4URInrIh",
        "outputId": "a74a3808-e9e5-456d-bffe-884ab9c0de2a"
      },
      "execution_count": 8,
      "outputs": [
        {
          "output_type": "stream",
          "name": "stdout",
          "text": [
            "[[1, 2, 3], [8, 9, 4], [7, 6, 5]]\n"
          ]
        }
      ]
    },
    {
      "cell_type": "code",
      "source": [
        "'''\n",
        "<aside>\n",
        "💡 **Question 8**\n",
        "Given two [sparse matrices](https://en.wikipedia.org/wiki/Sparse_matrix) mat1 of size m x k and mat2 of size k x n, return the result of mat1 x mat2. You may assume that multiplication is always possible.\n",
        "**Example 1:**\n",
        "**Input:** mat1 = [[1,0,0],[-1,0,3]], mat2 = [[7,0,0],[0,0,0],[0,0,1]]\n",
        "**Output:**\n",
        "[[7,0,0],[-7,0,3]]\n",
        "</aside>\n",
        "'''\n",
        "def multiply(mat1, mat2):\n",
        "    m = len(mat1)\n",
        "    k = len(mat1[0])\n",
        "    n = len(mat2[0])\n",
        "    result = [[0] * n for _ in range(m)]\n",
        "\n",
        "    for i in range(m):\n",
        "        for j in range(n):\n",
        "            for p in range(k):\n",
        "                if mat1[i][p] != 0 and mat2[p][j] != 0:\n",
        "                    result[i][j] += mat1[i][p] * mat2[p][j]\n",
        "    return result\n",
        "mat1 = [[1, 0, 0], [-1, 0, 3]]\n",
        "mat2 = [[7, 0, 0], [0, 0, 0], [0, 0, 1]]\n",
        "result = multiply(mat1, mat2)\n",
        "print(result)"
      ],
      "metadata": {
        "colab": {
          "base_uri": "https://localhost:8080/"
        },
        "id": "eheM5uhJoFD2",
        "outputId": "9d103750-0270-470c-bcd5-df791411c033"
      },
      "execution_count": 10,
      "outputs": [
        {
          "output_type": "stream",
          "name": "stdout",
          "text": [
            "[[7, 0, 0], [-7, 0, 3]]\n"
          ]
        }
      ]
    }
  ]
}